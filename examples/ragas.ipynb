{
 "cells": [
  {
   "cell_type": "code",
   "execution_count": null,
   "metadata": {},
   "outputs": [],
   "source": [
    "import os\n",
    "from athina.evals import RagasAnswerCorrectness, RagasAnswerRelevancy, RagasFaithfulness, RagasConciseness\n",
    "from athina.loaders import Loader\n",
    "from athina.keys import AthinaApiKey, OpenAiApiKey\n",
    "from athina.runner.run import EvalRunner\n",
    "from athina.datasets import yc_query_mini\n",
    "import pandas as pd\n",
    "\n",
    "OpenAiApiKey.set_key(os.getenv('OPENAI_API_KEY'))\n",
    "# AthinaApiKey.set_key(os.getenv('ATHINA_API_KEY'))"
   ]
  },
  {
   "cell_type": "code",
   "execution_count": null,
   "metadata": {},
   "outputs": [],
   "source": [
    "raw_data_ragas = [\n",
    "    {\n",
    "        \"query\": \"What is the capital of India?\",\n",
    "        \"context\": [\"India is a south asian country\", \"Mumbai is the financial capital of India\", \"New Delhi is the capital of India\"],\n",
    "        \"response\": \"New Delhi is the capital\",\n",
    "    }\n",
    "]\n",
    "ragas_dataset = Loader().load_dict(raw_data_ragas)\n",
    "pd.DataFrame(ragas_dataset)"
   ]
  },
  {
   "cell_type": "code",
   "execution_count": null,
   "metadata": {},
   "outputs": [],
   "source": [
    "eval_model = \"gpt-3.5-turbo\"\n",
    "RagasConciseness(model=eval_model, api_key=os.getenv('OPENAI_API_KEY'), provider='openai').run_batch(data=ragas_dataset).to_df()\n"
   ]
  },
  {
   "cell_type": "code",
   "execution_count": null,
   "metadata": {},
   "outputs": [],
   "source": [
    "# Create batch dataset from list of dict objects\n",
    "raw_data = yc_query_mini.data\n",
    "\n",
    "dataset = Loader().load_dict(raw_data)\n",
    "pd.DataFrame(dataset)"
   ]
  },
  {
   "cell_type": "code",
   "execution_count": null,
   "metadata": {},
   "outputs": [],
   "source": [
    "# Run the eval suite\n",
    "eval_model = \"gpt-4-1106-preview\"\n",
    "eval_suite = [\n",
    "    RagasAnswerCorrectness(model=eval_model, api_key=os.getenv('OPENAI_API_KEY'), provider='openai'),\n",
    "    RagasFaithfulness(model=eval_model, api_key=os.getenv('OPENAI_API_KEY'), provider='openai'),\n",
    "    RagasAnswerRelevancy(model=eval_model, api_key=os.getenv('OPENAI_API_KEY'), provider='openai'),\n",
    "]\n",
    "\n",
    "# Run the evaluation suite\n",
    "batch_eval_result = EvalRunner.run_suite(\n",
    "    evals=eval_suite,\n",
    "    data=dataset,\n",
    "    max_parallel_evals=5,   # If you increase this, you may run into rate limits\n",
    ")\n",
    "\n",
    "pd.DataFrame(batch_eval_result)"
   ]
  }
 ],
 "metadata": {
  "kernelspec": {
   "display_name": ".venv",
   "language": "python",
   "name": "python3"
  },
  "language_info": {
   "codemirror_mode": {
    "name": "ipython",
    "version": 3
   },
   "file_extension": ".py",
   "mimetype": "text/x-python",
   "name": "python",
   "nbconvert_exporter": "python",
   "pygments_lexer": "ipython3",
   "version": "3.9.6"
  }
 },
 "nbformat": 4,
 "nbformat_minor": 2
}
