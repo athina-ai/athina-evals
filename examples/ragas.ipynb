{
 "cells": [
  {
   "cell_type": "code",
   "execution_count": 1,
   "metadata": {},
   "outputs": [
    {
     "name": "stderr",
     "output_type": "stream",
     "text": [
      "/Users/akshat_g/athina/repos/athina-evals/.venv/lib/python3.9/site-packages/urllib3/__init__.py:35: NotOpenSSLWarning: urllib3 v2 only supports OpenSSL 1.1.1+, currently the 'ssl' module is compiled with 'LibreSSL 2.8.3'. See: https://github.com/urllib3/urllib3/issues/3020\n",
      "  warnings.warn(\n",
      "/Users/akshat_g/athina/repos/athina-evals/.venv/lib/python3.9/site-packages/tqdm/auto.py:21: TqdmWarning: IProgress not found. Please update jupyter and ipywidgets. See https://ipywidgets.readthedocs.io/en/stable/user_install.html\n",
      "  from .autonotebook import tqdm as notebook_tqdm\n"
     ]
    }
   ],
   "source": [
    "import os\n",
    "from athina.evals import RagasAnswerCorrectness, RagasAnswerRelevancy, RagasFaithfulness, RagasConciseness\n",
    "from athina.loaders import Loader\n",
    "from athina.keys import AthinaApiKey, OpenAiApiKey\n",
    "from athina.runner.run import EvalRunner\n",
    "from athina.datasets import yc_query_mini\n",
    "import pandas as pd\n",
    "\n",
    "OpenAiApiKey.set_key(os.getenv('OPENAI_API_KEY'))\n",
    "AthinaApiKey.set_key(os.getenv('ATHINA_API_KEY'))"
   ]
  },
  {
   "cell_type": "code",
   "execution_count": 2,
   "metadata": {},
   "outputs": [
    {
     "data": {
      "text/html": [
       "<div>\n",
       "<style scoped>\n",
       "    .dataframe tbody tr th:only-of-type {\n",
       "        vertical-align: middle;\n",
       "    }\n",
       "\n",
       "    .dataframe tbody tr th {\n",
       "        vertical-align: top;\n",
       "    }\n",
       "\n",
       "    .dataframe thead th {\n",
       "        text-align: right;\n",
       "    }\n",
       "</style>\n",
       "<table border=\"1\" class=\"dataframe\">\n",
       "  <thead>\n",
       "    <tr style=\"text-align: right;\">\n",
       "      <th></th>\n",
       "      <th>query</th>\n",
       "      <th>context</th>\n",
       "      <th>response</th>\n",
       "      <th>expected_response</th>\n",
       "    </tr>\n",
       "  </thead>\n",
       "  <tbody>\n",
       "    <tr>\n",
       "      <th>0</th>\n",
       "      <td>What is the capital of India?</td>\n",
       "      <td>[India is a south asian country, Mumbai is the...</td>\n",
       "      <td>New Delhi is the capital</td>\n",
       "      <td>None</td>\n",
       "    </tr>\n",
       "  </tbody>\n",
       "</table>\n",
       "</div>"
      ],
      "text/plain": [
       "                           query  \\\n",
       "0  What is the capital of India?   \n",
       "\n",
       "                                             context  \\\n",
       "0  [India is a south asian country, Mumbai is the...   \n",
       "\n",
       "                   response expected_response  \n",
       "0  New Delhi is the capital              None  "
      ]
     },
     "execution_count": 2,
     "metadata": {},
     "output_type": "execute_result"
    }
   ],
   "source": [
    "raw_data_ragas = [\n",
    "    {\n",
    "        \"query\": \"What is the capital of India?\",\n",
    "        \"context\": [\"India is a south asian country\", \"Mumbai is the financial capital of India\", \"New Delhi is the capital of India\"],\n",
    "        \"response\": \"New Delhi is the capital\",\n",
    "    }\n",
    "]\n",
    "ragas_dataset = Loader().load_dict(raw_data_ragas)\n",
    "pd.DataFrame(ragas_dataset)"
   ]
  },
  {
   "cell_type": "code",
   "execution_count": 3,
   "metadata": {},
   "outputs": [
    {
     "name": "stderr",
     "output_type": "stream",
     "text": [
      "\u001b[31mERROR: Error occurred during eval: There is no current event loop in thread 'ThreadPoolExecutor-0_0'.\n",
      "\u001b[0m\n",
      "\u001b[31mERROR: Error running batch async {'query': 'What is the capital of India?', 'context': ['India is a south asian country', 'Mumbai is the financial capital of India', 'New Delhi is the capital of India'], 'response': 'New Delhi is the capital', 'expected_response': None}: There is no current event loop in thread 'ThreadPoolExecutor-0_0'.\n",
      "\u001b[0m\n"
     ]
    },
    {
     "name": "stdout",
     "output_type": "stream",
     "text": [
      "Error logging eval results to Athina: 'NoneType' object has no attribute 'get'\n",
      "You can view your dataset at: https://app.athina.ai/develop/df1fe6f9-0071-4c21-807b-51410ef145e2\n"
     ]
    },
    {
     "name": "stderr",
     "output_type": "stream",
     "text": [
      "Traceback (most recent call last):\n",
      "  File \"/Users/akshat_g/athina/repos/athina-evals/athina/evals/base_evaluator.py\", line 163, in _run_batch_generator_async\n",
      "    results[index] = future.result()\n",
      "  File \"/Library/Developer/CommandLineTools/Library/Frameworks/Python3.framework/Versions/3.9/lib/python3.9/concurrent/futures/_base.py\", line 438, in result\n",
      "    return self.__get_result()\n",
      "  File \"/Library/Developer/CommandLineTools/Library/Frameworks/Python3.framework/Versions/3.9/lib/python3.9/concurrent/futures/_base.py\", line 390, in __get_result\n",
      "    raise self._exception\n",
      "  File \"/Library/Developer/CommandLineTools/Library/Frameworks/Python3.framework/Versions/3.9/lib/python3.9/concurrent/futures/thread.py\", line 52, in run\n",
      "    result = self.fn(*self.args, **self.kwargs)\n",
      "  File \"/Users/akshat_g/athina/repos/athina-evals/athina/evals/ragas/ragas_evaluator.py\", line 102, in _evaluate\n",
      "    raise e\n",
      "  File \"/Users/akshat_g/athina/repos/athina-evals/athina/evals/ragas/ragas_evaluator.py\", line 92, in _evaluate\n",
      "    scores = evaluate(dataset, metrics=[self.ragas_metric])\n",
      "  File \"/Users/akshat_g/athina/repos/athina-evals/.venv/lib/python3.9/site-packages/ragas/_analytics.py\", line 129, in wrapper\n",
      "    result = func(*args, **kwargs)\n",
      "  File \"/Users/akshat_g/athina/repos/athina-evals/.venv/lib/python3.9/site-packages/ragas/evaluation.py\", line 273, in evaluate\n",
      "    raise e\n",
      "  File \"/Users/akshat_g/athina/repos/athina-evals/.venv/lib/python3.9/site-packages/ragas/evaluation.py\", line 253, in evaluate\n",
      "    results = executor.results()\n",
      "  File \"/Users/akshat_g/athina/repos/athina-evals/.venv/lib/python3.9/site-packages/ragas/executor.py\", line 97, in results\n",
      "    futures_as_they_finish = as_completed(\n",
      "  File \"/Users/akshat_g/athina/repos/athina-evals/.venv/lib/python3.9/site-packages/ragas/executor.py\", line 30, in as_completed\n",
      "    semaphore = asyncio.Semaphore(max_workers)\n",
      "  File \"/Library/Developer/CommandLineTools/Library/Frameworks/Python3.framework/Versions/3.9/lib/python3.9/asyncio/locks.py\", line 375, in __init__\n",
      "    self._loop = events.get_event_loop()\n",
      "  File \"/Library/Developer/CommandLineTools/Library/Frameworks/Python3.framework/Versions/3.9/lib/python3.9/asyncio/events.py\", line 642, in get_event_loop\n",
      "    raise RuntimeError('There is no current event loop in thread %r.'\n",
      "RuntimeError: There is no current event loop in thread 'ThreadPoolExecutor-0_0'.\n",
      "/Library/Developer/CommandLineTools/Library/Frameworks/Python3.framework/Versions/3.9/lib/python3.9/http/client.py:498: RuntimeWarning: coroutine 'Executor.wrap_callable_with_index.<locals>.wrapped_callable_async' was never awaited\n",
      "  b = memoryview(b)[0:self.length]\n",
      "RuntimeWarning: Enable tracemalloc to get the object allocation traceback\n"
     ]
    },
    {
     "data": {
      "text/html": [
       "<div>\n",
       "<style scoped>\n",
       "    .dataframe tbody tr th:only-of-type {\n",
       "        vertical-align: middle;\n",
       "    }\n",
       "\n",
       "    .dataframe tbody tr th {\n",
       "        vertical-align: top;\n",
       "    }\n",
       "\n",
       "    .dataframe thead th {\n",
       "        text-align: right;\n",
       "    }\n",
       "</style>\n",
       "<table border=\"1\" class=\"dataframe\">\n",
       "  <thead>\n",
       "    <tr style=\"text-align: right;\">\n",
       "      <th></th>\n",
       "      <th>display_name</th>\n",
       "      <th>failed</th>\n",
       "      <th>grade_reason</th>\n",
       "      <th>runtime</th>\n",
       "      <th>model</th>\n",
       "    </tr>\n",
       "  </thead>\n",
       "  <tbody>\n",
       "    <tr>\n",
       "      <th>0</th>\n",
       "      <td>None</td>\n",
       "      <td>None</td>\n",
       "      <td>None</td>\n",
       "      <td>None</td>\n",
       "      <td>None</td>\n",
       "    </tr>\n",
       "  </tbody>\n",
       "</table>\n",
       "</div>"
      ],
      "text/plain": [
       "  display_name failed grade_reason runtime model\n",
       "0         None   None         None    None  None"
      ]
     },
     "execution_count": 3,
     "metadata": {},
     "output_type": "execute_result"
    }
   ],
   "source": [
    "eval_model = \"gpt-3.5-turbo\"\n",
    "RagasConciseness(model=eval_model, api_key=os.getenv('OPENAI_API_KEY'), provider='openai').run_batch(data=ragas_dataset).to_df()\n"
   ]
  },
  {
   "cell_type": "code",
   "execution_count": 4,
   "metadata": {},
   "outputs": [
    {
     "data": {
      "text/html": [
       "<div>\n",
       "<style scoped>\n",
       "    .dataframe tbody tr th:only-of-type {\n",
       "        vertical-align: middle;\n",
       "    }\n",
       "\n",
       "    .dataframe tbody tr th {\n",
       "        vertical-align: top;\n",
       "    }\n",
       "\n",
       "    .dataframe thead th {\n",
       "        text-align: right;\n",
       "    }\n",
       "</style>\n",
       "<table border=\"1\" class=\"dataframe\">\n",
       "  <thead>\n",
       "    <tr style=\"text-align: right;\">\n",
       "      <th></th>\n",
       "      <th>query</th>\n",
       "      <th>context</th>\n",
       "      <th>response</th>\n",
       "      <th>expected_response</th>\n",
       "    </tr>\n",
       "  </thead>\n",
       "  <tbody>\n",
       "    <tr>\n",
       "      <th>0</th>\n",
       "      <td>What are some successful companies that went through YC?</td>\n",
       "      <td>[Y Combinator has invested in companies in various fields like FinTech, Healthcare, AI, etc.]</td>\n",
       "      <td>Airbnb, Dropbox, Stripe, Reddit, Coinbase, Instacart.</td>\n",
       "      <td>Airbnb and Stripe are 2 of the successful companies that went through YC.</td>\n",
       "    </tr>\n",
       "    <tr>\n",
       "      <th>1</th>\n",
       "      <td>In which city is YC located?</td>\n",
       "      <td>[Y Combinator is located in Mountain View, California.]</td>\n",
       "      <td>Y Combinator is located in San Francisco</td>\n",
       "      <td>YC is located in Mountain View, California.</td>\n",
       "    </tr>\n",
       "    <tr>\n",
       "      <th>2</th>\n",
       "      <td>How much equity does YC take?</td>\n",
       "      <td>[Y Combinator invests $500k in 200 startups twice a year.]</td>\n",
       "      <td>YC invests $150k for 7%.</td>\n",
       "      <td>I cannot answer this question as I do not have enough information.</td>\n",
       "    </tr>\n",
       "    <tr>\n",
       "      <th>3</th>\n",
       "      <td>How much equity does YC take?</td>\n",
       "      <td>[Y Combinator invests $500k in 200 startups twice a year.]</td>\n",
       "      <td>I cannot answer this question as I do not have enough information.</td>\n",
       "      <td>I cannot answer this question as I do not have enough information.</td>\n",
       "    </tr>\n",
       "    <tr>\n",
       "      <th>4</th>\n",
       "      <td>Who founded YC and when was it founded?</td>\n",
       "      <td>[Y Combinator was founded in March 2005 by Paul Graham, Jessica Livingston, Trevor Blackwell, and Robert Tappan Morris.]</td>\n",
       "      <td>Y Combinator was founded in 2005</td>\n",
       "      <td>Y Combinator was founded in March 2005 by Paul Graham, Jessica Livingston, Trevor Blackwell, and Robert Tappan Morris.</td>\n",
       "    </tr>\n",
       "    <tr>\n",
       "      <th>5</th>\n",
       "      <td>Does Y Combinator invest in startups outside the US?</td>\n",
       "      <td>[Y Combinator invests in startups from all over the world.]</td>\n",
       "      <td>Yes, Y Combinator invests in international startups as well as US startups.</td>\n",
       "      <td>Yes, Y Combinator invests in startups from all over the world.</td>\n",
       "    </tr>\n",
       "    <tr>\n",
       "      <th>6</th>\n",
       "      <td>How much does YC invest in startups?</td>\n",
       "      <td>[YC invests $150k for 7%.]</td>\n",
       "      <td>$150k</td>\n",
       "      <td>YC invests $150k for 7%.</td>\n",
       "    </tr>\n",
       "    <tr>\n",
       "      <th>7</th>\n",
       "      <td>What is YC's motto?</td>\n",
       "      <td>[Y Combinator's motto is 'Make something people want'.]</td>\n",
       "      <td>Make something people want</td>\n",
       "      <td>Make something people want</td>\n",
       "    </tr>\n",
       "  </tbody>\n",
       "</table>\n",
       "</div>"
      ],
      "text/plain": [
       "                                                      query  \\\n",
       "0  What are some successful companies that went through YC?   \n",
       "1                              In which city is YC located?   \n",
       "2                             How much equity does YC take?   \n",
       "3                             How much equity does YC take?   \n",
       "4                   Who founded YC and when was it founded?   \n",
       "5      Does Y Combinator invest in startups outside the US?   \n",
       "6                      How much does YC invest in startups?   \n",
       "7                                       What is YC's motto?   \n",
       "\n",
       "                                                                                                                    context  \\\n",
       "0                             [Y Combinator has invested in companies in various fields like FinTech, Healthcare, AI, etc.]   \n",
       "1                                                                   [Y Combinator is located in Mountain View, California.]   \n",
       "2                                                                [Y Combinator invests $500k in 200 startups twice a year.]   \n",
       "3                                                                [Y Combinator invests $500k in 200 startups twice a year.]   \n",
       "4  [Y Combinator was founded in March 2005 by Paul Graham, Jessica Livingston, Trevor Blackwell, and Robert Tappan Morris.]   \n",
       "5                                                               [Y Combinator invests in startups from all over the world.]   \n",
       "6                                                                                                [YC invests $150k for 7%.]   \n",
       "7                                                                   [Y Combinator's motto is 'Make something people want'.]   \n",
       "\n",
       "                                                                      response  \\\n",
       "0                        Airbnb, Dropbox, Stripe, Reddit, Coinbase, Instacart.   \n",
       "1                                     Y Combinator is located in San Francisco   \n",
       "2                                                     YC invests $150k for 7%.   \n",
       "3           I cannot answer this question as I do not have enough information.   \n",
       "4                                             Y Combinator was founded in 2005   \n",
       "5  Yes, Y Combinator invests in international startups as well as US startups.   \n",
       "6                                                                        $150k   \n",
       "7                                                   Make something people want   \n",
       "\n",
       "                                                                                                        expected_response  \n",
       "0                                               Airbnb and Stripe are 2 of the successful companies that went through YC.  \n",
       "1                                                                             YC is located in Mountain View, California.  \n",
       "2                                                      I cannot answer this question as I do not have enough information.  \n",
       "3                                                      I cannot answer this question as I do not have enough information.  \n",
       "4  Y Combinator was founded in March 2005 by Paul Graham, Jessica Livingston, Trevor Blackwell, and Robert Tappan Morris.  \n",
       "5                                                          Yes, Y Combinator invests in startups from all over the world.  \n",
       "6                                                                                                YC invests $150k for 7%.  \n",
       "7                                                                                              Make something people want  "
      ]
     },
     "execution_count": 4,
     "metadata": {},
     "output_type": "execute_result"
    }
   ],
   "source": [
    "# Create batch dataset from list of dict objects\n",
    "raw_data = yc_query_mini.data\n",
    "\n",
    "dataset = Loader().load_dict(raw_data)\n",
    "pd.DataFrame(dataset)"
   ]
  },
  {
   "cell_type": "code",
   "execution_count": 5,
   "metadata": {},
   "outputs": [
    {
     "ename": "TypeError",
     "evalue": "__init__() missing 3 required positional arguments: 'api_key', 'model', and 'provider'",
     "output_type": "error",
     "traceback": [
      "\u001b[0;31m---------------------------------------------------------------------------\u001b[0m",
      "\u001b[0;31mTypeError\u001b[0m                                 Traceback (most recent call last)",
      "Cell \u001b[0;32mIn[5], line 4\u001b[0m\n\u001b[1;32m      1\u001b[0m \u001b[38;5;66;03m# Run the eval suite\u001b[39;00m\n\u001b[1;32m      2\u001b[0m eval_model \u001b[38;5;241m=\u001b[39m \u001b[38;5;124m\"\u001b[39m\u001b[38;5;124mgpt-4-1106-preview\u001b[39m\u001b[38;5;124m\"\u001b[39m\n\u001b[1;32m      3\u001b[0m eval_suite \u001b[38;5;241m=\u001b[39m [\n\u001b[0;32m----> 4\u001b[0m     \u001b[43mRagasAnswerCorrectness\u001b[49m\u001b[43m(\u001b[49m\u001b[43m)\u001b[49m,\n\u001b[1;32m      5\u001b[0m     RagasFaithfulness(),\n\u001b[1;32m      6\u001b[0m     RagasAnswerRelevancy(),\n\u001b[1;32m      7\u001b[0m ]\n\u001b[1;32m      9\u001b[0m \u001b[38;5;66;03m# Run the evaluation suite\u001b[39;00m\n\u001b[1;32m     10\u001b[0m batch_eval_result \u001b[38;5;241m=\u001b[39m EvalRunner\u001b[38;5;241m.\u001b[39mrun_suite(\n\u001b[1;32m     11\u001b[0m     evals\u001b[38;5;241m=\u001b[39meval_suite,\n\u001b[1;32m     12\u001b[0m     data\u001b[38;5;241m=\u001b[39mdataset,\n\u001b[1;32m     13\u001b[0m     max_parallel_evals\u001b[38;5;241m=\u001b[39m\u001b[38;5;241m1\u001b[39m,   \u001b[38;5;66;03m# If you increase this, you may run into rate limits\u001b[39;00m\n\u001b[1;32m     14\u001b[0m )\n",
      "\u001b[0;31mTypeError\u001b[0m: __init__() missing 3 required positional arguments: 'api_key', 'model', and 'provider'"
     ]
    }
   ],
   "source": [
    "# Run the eval suite\n",
    "eval_model = \"gpt-4-1106-preview\"\n",
    "eval_suite = [\n",
    "    RagasAnswerCorrectness(model=eval_model, api_key=os.getenv('OPENAI_API_KEY'), provider='openai'),\n",
    "    RagasFaithfulness(model=eval_model, api_key=os.getenv('OPENAI_API_KEY'), provider='openai'),\n",
    "    RagasAnswerRelevancy(model=eval_model, api_key=os.getenv('OPENAI_API_KEY'), provider='openai'),\n",
    "]\n",
    "\n",
    "# Run the evaluation suite\n",
    "batch_eval_result = EvalRunner.run_suite(\n",
    "    evals=eval_suite,\n",
    "    data=dataset,\n",
    "    max_parallel_evals=1,   # If you increase this, you may run into rate limits\n",
    ")\n",
    "\n",
    "pd.DataFrame(batch_eval_result)"
   ]
  }
 ],
 "metadata": {
  "kernelspec": {
   "display_name": ".venv",
   "language": "python",
   "name": "python3"
  },
  "language_info": {
   "codemirror_mode": {
    "name": "ipython",
    "version": 3
   },
   "file_extension": ".py",
   "mimetype": "text/x-python",
   "name": "python",
   "nbconvert_exporter": "python",
   "pygments_lexer": "ipython3",
   "version": "3.9.6"
  }
 },
 "nbformat": 4,
 "nbformat_minor": 2
}
