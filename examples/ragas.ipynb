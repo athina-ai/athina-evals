{
 "cells": [
  {
   "cell_type": "code",
   "execution_count": 1,
   "metadata": {},
   "outputs": [
    {
     "name": "stderr",
     "output_type": "stream",
     "text": [
      "/Users/akshat_g/athina/repos/athina-evals/.venv/lib/python3.9/site-packages/urllib3/__init__.py:35: NotOpenSSLWarning: urllib3 v2 only supports OpenSSL 1.1.1+, currently the 'ssl' module is compiled with 'LibreSSL 2.8.3'. See: https://github.com/urllib3/urllib3/issues/3020\n",
      "  warnings.warn(\n",
      "/Users/akshat_g/athina/repos/athina-evals/.venv/lib/python3.9/site-packages/tqdm/auto.py:21: TqdmWarning: IProgress not found. Please update jupyter and ipywidgets. See https://ipywidgets.readthedocs.io/en/stable/user_install.html\n",
      "  from .autonotebook import tqdm as notebook_tqdm\n"
     ]
    }
   ],
   "source": [
    "import os\n",
    "from athina.evals import RagasAnswerCorrectness, RagasAnswerRelevancy, RagasContextRelevancy, RagasFaithfulness, RagasConciseness\n",
    "from athina.loaders import Loader\n",
    "from athina.keys import AthinaApiKey, OpenAiApiKey\n",
    "from athina.runner.run import EvalRunner\n",
    "from athina.datasets import yc_query_mini\n",
    "from athina.interfaces.athina import AthinaExperiment\n",
    "import pandas as pd\n",
    "\n",
    "OpenAiApiKey.set_key(os.getenv('OPENAI_API_KEY'))\n",
    "AthinaApiKey.set_key(os.getenv('ATHINA_API_KEY'))"
   ]
  },
  {
   "cell_type": "code",
   "execution_count": 2,
   "metadata": {},
   "outputs": [
    {
     "data": {
      "text/html": [
       "<div>\n",
       "<style scoped>\n",
       "    .dataframe tbody tr th:only-of-type {\n",
       "        vertical-align: middle;\n",
       "    }\n",
       "\n",
       "    .dataframe tbody tr th {\n",
       "        vertical-align: top;\n",
       "    }\n",
       "\n",
       "    .dataframe thead th {\n",
       "        text-align: right;\n",
       "    }\n",
       "</style>\n",
       "<table border=\"1\" class=\"dataframe\">\n",
       "  <thead>\n",
       "    <tr style=\"text-align: right;\">\n",
       "      <th></th>\n",
       "      <th>query</th>\n",
       "      <th>context</th>\n",
       "      <th>response</th>\n",
       "      <th>expected_response</th>\n",
       "    </tr>\n",
       "  </thead>\n",
       "  <tbody>\n",
       "    <tr>\n",
       "      <th>0</th>\n",
       "      <td>What is the capital of India?</td>\n",
       "      <td>[India is a south asian country, Mumbai is the...</td>\n",
       "      <td>New Delhi is the capital</td>\n",
       "      <td>None</td>\n",
       "    </tr>\n",
       "  </tbody>\n",
       "</table>\n",
       "</div>"
      ],
      "text/plain": [
       "                           query  \\\n",
       "0  What is the capital of India?   \n",
       "\n",
       "                                             context  \\\n",
       "0  [India is a south asian country, Mumbai is the...   \n",
       "\n",
       "                   response expected_response  \n",
       "0  New Delhi is the capital              None  "
      ]
     },
     "execution_count": 2,
     "metadata": {},
     "output_type": "execute_result"
    }
   ],
   "source": [
    "raw_data_ragas = [\n",
    "    {\n",
    "        \"query\": \"What is the capital of India?\",\n",
    "        \"context\": [\"India is a south asian country\", \"Mumbai is the financial capital of India\", \"New Delhi is the capital of India\"],\n",
    "        \"response\": \"New Delhi is the capital\",\n",
    "    }\n",
    "]\n",
    "ragas_dataset = Loader().load_dict(raw_data_ragas)\n",
    "pd.DataFrame(ragas_dataset)"
   ]
  },
  {
   "cell_type": "code",
   "execution_count": 3,
   "metadata": {},
   "outputs": [
    {
     "name": "stdout",
     "output_type": "stream",
     "text": [
      "evaluating with [conciseness]\n"
     ]
    },
    {
     "name": "stderr",
     "output_type": "stream",
     "text": [
      "100%|██████████| 1/1 [00:00<00:00,  1.30it/s]\n"
     ]
    },
    {
     "data": {
      "text/html": [
       "<div>\n",
       "<style scoped>\n",
       "    .dataframe tbody tr th:only-of-type {\n",
       "        vertical-align: middle;\n",
       "    }\n",
       "\n",
       "    .dataframe tbody tr th {\n",
       "        vertical-align: top;\n",
       "    }\n",
       "\n",
       "    .dataframe thead th {\n",
       "        text-align: right;\n",
       "    }\n",
       "</style>\n",
       "<table border=\"1\" class=\"dataframe\">\n",
       "  <thead>\n",
       "    <tr style=\"text-align: right;\">\n",
       "      <th></th>\n",
       "      <th>query</th>\n",
       "      <th>context</th>\n",
       "      <th>response</th>\n",
       "      <th>expected_response</th>\n",
       "      <th>display_name</th>\n",
       "      <th>failed</th>\n",
       "      <th>grade_reason</th>\n",
       "      <th>runtime</th>\n",
       "      <th>model</th>\n",
       "      <th>ragas_conciseness</th>\n",
       "    </tr>\n",
       "  </thead>\n",
       "  <tbody>\n",
       "    <tr>\n",
       "      <th>0</th>\n",
       "      <td>What is the capital of India?</td>\n",
       "      <td>[India is a south asian country, Mumbai is the financial capital of India, New Delhi is the capital of India]</td>\n",
       "      <td>New Delhi is the capital</td>\n",
       "      <td>None</td>\n",
       "      <td>Ragas Conciseness</td>\n",
       "      <td>None</td>\n",
       "      <td>This is calculated by how efficiently generated llm response conveys information or ideas clearly and efficiently, without unnecessary or redundant details</td>\n",
       "      <td>1008</td>\n",
       "      <td>gpt-3.5-turbo</td>\n",
       "      <td>1.0</td>\n",
       "    </tr>\n",
       "  </tbody>\n",
       "</table>\n",
       "</div>"
      ],
      "text/plain": [
       "                           query  \\\n",
       "0  What is the capital of India?   \n",
       "\n",
       "                                                                                                         context  \\\n",
       "0  [India is a south asian country, Mumbai is the financial capital of India, New Delhi is the capital of India]   \n",
       "\n",
       "                   response expected_response       display_name failed  \\\n",
       "0  New Delhi is the capital              None  Ragas Conciseness   None   \n",
       "\n",
       "                                                                                                                                                  grade_reason  \\\n",
       "0  This is calculated by how efficiently generated llm response conveys information or ideas clearly and efficiently, without unnecessary or redundant details   \n",
       "\n",
       "   runtime          model  ragas_conciseness  \n",
       "0     1008  gpt-3.5-turbo                1.0  "
      ]
     },
     "execution_count": 3,
     "metadata": {},
     "output_type": "execute_result"
    }
   ],
   "source": [
    "eval_model = \"gpt-3.5-turbo\"\n",
    "RagasConciseness(model=eval_model).run_batch(data=ragas_dataset).to_df()\n"
   ]
  },
  {
   "cell_type": "code",
   "execution_count": 4,
   "metadata": {},
   "outputs": [
    {
     "data": {
      "text/html": [
       "<div>\n",
       "<style scoped>\n",
       "    .dataframe tbody tr th:only-of-type {\n",
       "        vertical-align: middle;\n",
       "    }\n",
       "\n",
       "    .dataframe tbody tr th {\n",
       "        vertical-align: top;\n",
       "    }\n",
       "\n",
       "    .dataframe thead th {\n",
       "        text-align: right;\n",
       "    }\n",
       "</style>\n",
       "<table border=\"1\" class=\"dataframe\">\n",
       "  <thead>\n",
       "    <tr style=\"text-align: right;\">\n",
       "      <th></th>\n",
       "      <th>query</th>\n",
       "      <th>context</th>\n",
       "      <th>response</th>\n",
       "      <th>expected_response</th>\n",
       "    </tr>\n",
       "  </thead>\n",
       "  <tbody>\n",
       "    <tr>\n",
       "      <th>0</th>\n",
       "      <td>What are some successful companies that went through YC?</td>\n",
       "      <td>[Y Combinator has invested in companies in various fields like FinTech, Healthcare, AI, etc.]</td>\n",
       "      <td>Airbnb, Dropbox, Stripe, Reddit, Coinbase, Instacart.</td>\n",
       "      <td>Airbnb and Stripe are 2 of the successful companies that went through YC.</td>\n",
       "    </tr>\n",
       "    <tr>\n",
       "      <th>1</th>\n",
       "      <td>In which city is YC located?</td>\n",
       "      <td>[Y Combinator is located in Mountain View, California.]</td>\n",
       "      <td>Y Combinator is located in San Francisco</td>\n",
       "      <td>YC is located in Mountain View, California.</td>\n",
       "    </tr>\n",
       "    <tr>\n",
       "      <th>2</th>\n",
       "      <td>How much equity does YC take?</td>\n",
       "      <td>[Y Combinator invests $500k in 200 startups twice a year.]</td>\n",
       "      <td>YC invests $150k for 7%.</td>\n",
       "      <td>I cannot answer this question as I do not have enough information.</td>\n",
       "    </tr>\n",
       "    <tr>\n",
       "      <th>3</th>\n",
       "      <td>How much equity does YC take?</td>\n",
       "      <td>[Y Combinator invests $500k in 200 startups twice a year.]</td>\n",
       "      <td>I cannot answer this question as I do not have enough information.</td>\n",
       "      <td>I cannot answer this question as I do not have enough information.</td>\n",
       "    </tr>\n",
       "    <tr>\n",
       "      <th>4</th>\n",
       "      <td>Who founded YC and when was it founded?</td>\n",
       "      <td>[Y Combinator was founded in March 2005 by Paul Graham, Jessica Livingston, Trevor Blackwell, and Robert Tappan Morris.]</td>\n",
       "      <td>Y Combinator was founded in 2005</td>\n",
       "      <td>Y Combinator was founded in March 2005 by Paul Graham, Jessica Livingston, Trevor Blackwell, and Robert Tappan Morris.</td>\n",
       "    </tr>\n",
       "    <tr>\n",
       "      <th>5</th>\n",
       "      <td>Does Y Combinator invest in startups outside the US?</td>\n",
       "      <td>[Y Combinator invests in startups from all over the world.]</td>\n",
       "      <td>Yes, Y Combinator invests in international startups as well as US startups.</td>\n",
       "      <td>Yes, Y Combinator invests in startups from all over the world.</td>\n",
       "    </tr>\n",
       "    <tr>\n",
       "      <th>6</th>\n",
       "      <td>How much does YC invest in startups?</td>\n",
       "      <td>[YC invests $150k for 7%.]</td>\n",
       "      <td>$150k</td>\n",
       "      <td>YC invests $150k for 7%.</td>\n",
       "    </tr>\n",
       "    <tr>\n",
       "      <th>7</th>\n",
       "      <td>What is YC's motto?</td>\n",
       "      <td>[Y Combinator's motto is 'Make something people want'.]</td>\n",
       "      <td>Make something people want</td>\n",
       "      <td>Make something people want</td>\n",
       "    </tr>\n",
       "  </tbody>\n",
       "</table>\n",
       "</div>"
      ],
      "text/plain": [
       "                                                      query  \\\n",
       "0  What are some successful companies that went through YC?   \n",
       "1                              In which city is YC located?   \n",
       "2                             How much equity does YC take?   \n",
       "3                             How much equity does YC take?   \n",
       "4                   Who founded YC and when was it founded?   \n",
       "5      Does Y Combinator invest in startups outside the US?   \n",
       "6                      How much does YC invest in startups?   \n",
       "7                                       What is YC's motto?   \n",
       "\n",
       "                                                                                                                    context  \\\n",
       "0                             [Y Combinator has invested in companies in various fields like FinTech, Healthcare, AI, etc.]   \n",
       "1                                                                   [Y Combinator is located in Mountain View, California.]   \n",
       "2                                                                [Y Combinator invests $500k in 200 startups twice a year.]   \n",
       "3                                                                [Y Combinator invests $500k in 200 startups twice a year.]   \n",
       "4  [Y Combinator was founded in March 2005 by Paul Graham, Jessica Livingston, Trevor Blackwell, and Robert Tappan Morris.]   \n",
       "5                                                               [Y Combinator invests in startups from all over the world.]   \n",
       "6                                                                                                [YC invests $150k for 7%.]   \n",
       "7                                                                   [Y Combinator's motto is 'Make something people want'.]   \n",
       "\n",
       "                                                                      response  \\\n",
       "0                        Airbnb, Dropbox, Stripe, Reddit, Coinbase, Instacart.   \n",
       "1                                     Y Combinator is located in San Francisco   \n",
       "2                                                     YC invests $150k for 7%.   \n",
       "3           I cannot answer this question as I do not have enough information.   \n",
       "4                                             Y Combinator was founded in 2005   \n",
       "5  Yes, Y Combinator invests in international startups as well as US startups.   \n",
       "6                                                                        $150k   \n",
       "7                                                   Make something people want   \n",
       "\n",
       "                                                                                                        expected_response  \n",
       "0                                               Airbnb and Stripe are 2 of the successful companies that went through YC.  \n",
       "1                                                                             YC is located in Mountain View, California.  \n",
       "2                                                      I cannot answer this question as I do not have enough information.  \n",
       "3                                                      I cannot answer this question as I do not have enough information.  \n",
       "4  Y Combinator was founded in March 2005 by Paul Graham, Jessica Livingston, Trevor Blackwell, and Robert Tappan Morris.  \n",
       "5                                                          Yes, Y Combinator invests in startups from all over the world.  \n",
       "6                                                                                                YC invests $150k for 7%.  \n",
       "7                                                                                              Make something people want  "
      ]
     },
     "execution_count": 4,
     "metadata": {},
     "output_type": "execute_result"
    }
   ],
   "source": [
    "# Create batch dataset from list of dict objects\n",
    "raw_data = yc_query_mini.data\n",
    "\n",
    "dataset = Loader().load_dict(raw_data)\n",
    "pd.DataFrame(dataset)"
   ]
  },
  {
   "cell_type": "code",
   "execution_count": 5,
   "metadata": {},
   "outputs": [
    {
     "name": "stdout",
     "output_type": "stream",
     "text": [
      "evaluating with [answer_correctness]\n"
     ]
    },
    {
     "name": "stderr",
     "output_type": "stream",
     "text": [
      "100%|██████████| 1/1 [00:03<00:00,  3.50s/it]\n"
     ]
    },
    {
     "name": "stdout",
     "output_type": "stream",
     "text": [
      "evaluating with [answer_correctness]\n"
     ]
    },
    {
     "name": "stderr",
     "output_type": "stream",
     "text": [
      "100%|██████████| 1/1 [00:01<00:00,  1.33s/it]\n"
     ]
    },
    {
     "name": "stdout",
     "output_type": "stream",
     "text": [
      "evaluating with [answer_correctness]\n"
     ]
    },
    {
     "name": "stderr",
     "output_type": "stream",
     "text": [
      "100%|██████████| 1/1 [00:01<00:00,  1.69s/it]\n"
     ]
    },
    {
     "name": "stdout",
     "output_type": "stream",
     "text": [
      "evaluating with [answer_correctness]\n"
     ]
    },
    {
     "name": "stderr",
     "output_type": "stream",
     "text": [
      "100%|██████████| 1/1 [00:01<00:00,  1.23s/it]\n",
      "/Users/akshat_g/athina/repos/athina-evals/.venv/lib/python3.9/site-packages/ragas/evaluation.py:130: RuntimeWarning: Mean of empty slice\n",
      "  value = np.nanmean(self.scores[cn])\n",
      "\u001b[33mWARN: Invalid metric value: nan\n",
      "\u001b[0m\n"
     ]
    },
    {
     "name": "stdout",
     "output_type": "stream",
     "text": [
      "evaluating with [answer_correctness]\n"
     ]
    },
    {
     "name": "stderr",
     "output_type": "stream",
     "text": [
      "100%|██████████| 1/1 [00:02<00:00,  2.37s/it]\n"
     ]
    },
    {
     "name": "stdout",
     "output_type": "stream",
     "text": [
      "evaluating with [answer_correctness]\n"
     ]
    },
    {
     "name": "stderr",
     "output_type": "stream",
     "text": [
      "100%|██████████| 1/1 [00:01<00:00,  1.77s/it]\n"
     ]
    },
    {
     "name": "stdout",
     "output_type": "stream",
     "text": [
      "evaluating with [answer_correctness]\n"
     ]
    },
    {
     "name": "stderr",
     "output_type": "stream",
     "text": [
      "100%|██████████| 1/1 [00:01<00:00,  1.59s/it]\n"
     ]
    },
    {
     "name": "stdout",
     "output_type": "stream",
     "text": [
      "evaluating with [answer_correctness]\n"
     ]
    },
    {
     "name": "stderr",
     "output_type": "stream",
     "text": [
      "100%|██████████| 1/1 [00:01<00:00,  1.49s/it]\n"
     ]
    },
    {
     "name": "stdout",
     "output_type": "stream",
     "text": [
      "evaluating with [faithfulness]\n"
     ]
    },
    {
     "name": "stderr",
     "output_type": "stream",
     "text": [
      "100%|██████████| 1/1 [00:04<00:00,  4.65s/it]\n"
     ]
    },
    {
     "name": "stdout",
     "output_type": "stream",
     "text": [
      "evaluating with [faithfulness]\n"
     ]
    },
    {
     "name": "stderr",
     "output_type": "stream",
     "text": [
      "100%|██████████| 1/1 [00:01<00:00,  1.87s/it]\n"
     ]
    },
    {
     "name": "stdout",
     "output_type": "stream",
     "text": [
      "evaluating with [faithfulness]\n"
     ]
    },
    {
     "name": "stderr",
     "output_type": "stream",
     "text": [
      "100%|██████████| 1/1 [00:01<00:00,  1.88s/it]\n"
     ]
    },
    {
     "name": "stdout",
     "output_type": "stream",
     "text": [
      "evaluating with [faithfulness]\n"
     ]
    },
    {
     "name": "stderr",
     "output_type": "stream",
     "text": [
      "100%|██████████| 1/1 [00:01<00:00,  1.12s/it]\n"
     ]
    },
    {
     "name": "stdout",
     "output_type": "stream",
     "text": [
      "evaluating with [faithfulness]\n"
     ]
    },
    {
     "name": "stderr",
     "output_type": "stream",
     "text": [
      "100%|██████████| 1/1 [00:01<00:00,  1.71s/it]\n"
     ]
    },
    {
     "name": "stdout",
     "output_type": "stream",
     "text": [
      "evaluating with [faithfulness]\n"
     ]
    },
    {
     "name": "stderr",
     "output_type": "stream",
     "text": [
      "100%|██████████| 1/1 [00:03<00:00,  3.78s/it]\n"
     ]
    },
    {
     "name": "stdout",
     "output_type": "stream",
     "text": [
      "evaluating with [faithfulness]\n"
     ]
    },
    {
     "name": "stderr",
     "output_type": "stream",
     "text": [
      "100%|██████████| 1/1 [00:01<00:00,  1.82s/it]\n"
     ]
    },
    {
     "name": "stdout",
     "output_type": "stream",
     "text": [
      "evaluating with [faithfulness]\n"
     ]
    },
    {
     "name": "stderr",
     "output_type": "stream",
     "text": [
      "100%|██████████| 1/1 [00:01<00:00,  1.69s/it]\n"
     ]
    },
    {
     "name": "stdout",
     "output_type": "stream",
     "text": [
      "evaluating with [context_relevancy]\n"
     ]
    },
    {
     "name": "stderr",
     "output_type": "stream",
     "text": [
      "100%|██████████| 1/1 [00:00<00:00,  2.59it/s]\n"
     ]
    },
    {
     "name": "stdout",
     "output_type": "stream",
     "text": [
      "evaluating with [context_relevancy]\n"
     ]
    },
    {
     "name": "stderr",
     "output_type": "stream",
     "text": [
      "100%|██████████| 1/1 [00:00<00:00,  2.20it/s]\n"
     ]
    },
    {
     "name": "stdout",
     "output_type": "stream",
     "text": [
      "evaluating with [context_relevancy]\n"
     ]
    },
    {
     "name": "stderr",
     "output_type": "stream",
     "text": [
      "100%|██████████| 1/1 [00:00<00:00,  1.44it/s]\n"
     ]
    },
    {
     "name": "stdout",
     "output_type": "stream",
     "text": [
      "evaluating with [context_relevancy]\n"
     ]
    },
    {
     "name": "stderr",
     "output_type": "stream",
     "text": [
      "100%|██████████| 1/1 [00:00<00:00,  2.09it/s]\n"
     ]
    },
    {
     "name": "stdout",
     "output_type": "stream",
     "text": [
      "evaluating with [context_relevancy]\n"
     ]
    },
    {
     "name": "stderr",
     "output_type": "stream",
     "text": [
      "100%|██████████| 1/1 [00:03<00:00,  3.07s/it]\n"
     ]
    },
    {
     "name": "stdout",
     "output_type": "stream",
     "text": [
      "evaluating with [context_relevancy]\n"
     ]
    },
    {
     "name": "stderr",
     "output_type": "stream",
     "text": [
      "100%|██████████| 1/1 [00:00<00:00,  2.19it/s]\n"
     ]
    },
    {
     "name": "stdout",
     "output_type": "stream",
     "text": [
      "evaluating with [context_relevancy]\n"
     ]
    },
    {
     "name": "stderr",
     "output_type": "stream",
     "text": [
      "100%|██████████| 1/1 [00:00<00:00,  1.56it/s]\n"
     ]
    },
    {
     "name": "stdout",
     "output_type": "stream",
     "text": [
      "evaluating with [context_relevancy]\n"
     ]
    },
    {
     "name": "stderr",
     "output_type": "stream",
     "text": [
      "100%|██████████| 1/1 [00:00<00:00,  2.28it/s]\n"
     ]
    },
    {
     "name": "stdout",
     "output_type": "stream",
     "text": [
      "evaluating with [answer_relevancy]\n"
     ]
    },
    {
     "name": "stderr",
     "output_type": "stream",
     "text": [
      "100%|██████████| 1/1 [00:00<00:00,  1.10it/s]\n"
     ]
    },
    {
     "name": "stdout",
     "output_type": "stream",
     "text": [
      "evaluating with [answer_relevancy]\n"
     ]
    },
    {
     "name": "stderr",
     "output_type": "stream",
     "text": [
      "100%|██████████| 1/1 [00:00<00:00,  1.23it/s]\n"
     ]
    },
    {
     "name": "stdout",
     "output_type": "stream",
     "text": [
      "evaluating with [answer_relevancy]\n"
     ]
    },
    {
     "name": "stderr",
     "output_type": "stream",
     "text": [
      "100%|██████████| 1/1 [00:01<00:00,  1.23s/it]\n"
     ]
    },
    {
     "name": "stdout",
     "output_type": "stream",
     "text": [
      "evaluating with [answer_relevancy]\n"
     ]
    },
    {
     "name": "stderr",
     "output_type": "stream",
     "text": [
      "100%|██████████| 1/1 [00:00<00:00,  1.16it/s]\n"
     ]
    },
    {
     "name": "stdout",
     "output_type": "stream",
     "text": [
      "evaluating with [answer_relevancy]\n"
     ]
    },
    {
     "name": "stderr",
     "output_type": "stream",
     "text": [
      "100%|██████████| 1/1 [00:00<00:00,  1.13it/s]\n"
     ]
    },
    {
     "name": "stdout",
     "output_type": "stream",
     "text": [
      "evaluating with [answer_relevancy]\n"
     ]
    },
    {
     "name": "stderr",
     "output_type": "stream",
     "text": [
      "100%|██████████| 1/1 [00:01<00:00,  1.72s/it]\n"
     ]
    },
    {
     "name": "stdout",
     "output_type": "stream",
     "text": [
      "evaluating with [answer_relevancy]\n"
     ]
    },
    {
     "name": "stderr",
     "output_type": "stream",
     "text": [
      "100%|██████████| 1/1 [00:01<00:00,  1.03s/it]\n"
     ]
    },
    {
     "name": "stdout",
     "output_type": "stream",
     "text": [
      "evaluating with [answer_relevancy]\n"
     ]
    },
    {
     "name": "stderr",
     "output_type": "stream",
     "text": [
      "100%|██████████| 1/1 [00:00<00:00,  1.18it/s]\n"
     ]
    },
    {
     "data": {
      "text/html": [
       "<div>\n",
       "<style scoped>\n",
       "    .dataframe tbody tr th:only-of-type {\n",
       "        vertical-align: middle;\n",
       "    }\n",
       "\n",
       "    .dataframe tbody tr th {\n",
       "        vertical-align: top;\n",
       "    }\n",
       "\n",
       "    .dataframe thead th {\n",
       "        text-align: right;\n",
       "    }\n",
       "</style>\n",
       "<table border=\"1\" class=\"dataframe\">\n",
       "  <thead>\n",
       "    <tr style=\"text-align: right;\">\n",
       "      <th></th>\n",
       "      <th>query</th>\n",
       "      <th>context</th>\n",
       "      <th>response</th>\n",
       "      <th>expected_response</th>\n",
       "      <th>Ragas Answer Correctness ragas_answer_correctness</th>\n",
       "      <th>Ragas Faithfulness ragas_faithfulness</th>\n",
       "      <th>Ragas Context Relevancy ragas_context_relevancy</th>\n",
       "      <th>Ragas Answer Relevancy ragas_answer_relevancy</th>\n",
       "    </tr>\n",
       "  </thead>\n",
       "  <tbody>\n",
       "    <tr>\n",
       "      <th>0</th>\n",
       "      <td>What are some successful companies that went through YC?</td>\n",
       "      <td>[Y Combinator has invested in companies in various fields like FinTech, Healthcare, AI, etc.]</td>\n",
       "      <td>Airbnb, Dropbox, Stripe, Reddit, Coinbase, Instacart.</td>\n",
       "      <td>Airbnb and Stripe are 2 of the successful companies that went through YC.</td>\n",
       "      <td>0.718469</td>\n",
       "      <td>0.833333</td>\n",
       "      <td>1.0</td>\n",
       "      <td>0.916001</td>\n",
       "    </tr>\n",
       "    <tr>\n",
       "      <th>1</th>\n",
       "      <td>In which city is YC located?</td>\n",
       "      <td>[Y Combinator is located in Mountain View, California.]</td>\n",
       "      <td>Y Combinator is located in San Francisco</td>\n",
       "      <td>YC is located in Mountain View, California.</td>\n",
       "      <td>0.213528</td>\n",
       "      <td>0.000000</td>\n",
       "      <td>1.0</td>\n",
       "      <td>0.887728</td>\n",
       "    </tr>\n",
       "    <tr>\n",
       "      <th>2</th>\n",
       "      <td>How much equity does YC take?</td>\n",
       "      <td>[Y Combinator invests $500k in 200 startups twice a year.]</td>\n",
       "      <td>YC invests $150k for 7%.</td>\n",
       "      <td>I cannot answer this question as I do not have enough information.</td>\n",
       "      <td>0.183196</td>\n",
       "      <td>0.000000</td>\n",
       "      <td>1.0</td>\n",
       "      <td>0.881647</td>\n",
       "    </tr>\n",
       "    <tr>\n",
       "      <th>3</th>\n",
       "      <td>How much equity does YC take?</td>\n",
       "      <td>[Y Combinator invests $500k in 200 startups twice a year.]</td>\n",
       "      <td>I cannot answer this question as I do not have enough information.</td>\n",
       "      <td>I cannot answer this question as I do not have enough information.</td>\n",
       "      <td>NaN</td>\n",
       "      <td>0.000000</td>\n",
       "      <td>1.0</td>\n",
       "      <td>0.000000</td>\n",
       "    </tr>\n",
       "    <tr>\n",
       "      <th>4</th>\n",
       "      <td>Who founded YC and when was it founded?</td>\n",
       "      <td>[Y Combinator was founded in March 2005 by Paul Graham, Jessica Livingston, Trevor Blackwell, and Robert Tappan Morris.]</td>\n",
       "      <td>Y Combinator was founded in 2005</td>\n",
       "      <td>Y Combinator was founded in March 2005 by Paul Graham, Jessica Livingston, Trevor Blackwell, and Robert Tappan Morris.</td>\n",
       "      <td>0.609783</td>\n",
       "      <td>1.000000</td>\n",
       "      <td>1.0</td>\n",
       "      <td>0.897087</td>\n",
       "    </tr>\n",
       "    <tr>\n",
       "      <th>5</th>\n",
       "      <td>Does Y Combinator invest in startups outside the US?</td>\n",
       "      <td>[Y Combinator invests in startups from all over the world.]</td>\n",
       "      <td>Yes, Y Combinator invests in international startups as well as US startups.</td>\n",
       "      <td>Yes, Y Combinator invests in startups from all over the world.</td>\n",
       "      <td>0.743316</td>\n",
       "      <td>0.500000</td>\n",
       "      <td>1.0</td>\n",
       "      <td>0.981736</td>\n",
       "    </tr>\n",
       "    <tr>\n",
       "      <th>6</th>\n",
       "      <td>How much does YC invest in startups?</td>\n",
       "      <td>[YC invests $150k for 7%.]</td>\n",
       "      <td>$150k</td>\n",
       "      <td>YC invests $150k for 7%.</td>\n",
       "      <td>0.713585</td>\n",
       "      <td>0.000000</td>\n",
       "      <td>1.0</td>\n",
       "      <td>0.921220</td>\n",
       "    </tr>\n",
       "    <tr>\n",
       "      <th>7</th>\n",
       "      <td>What is YC's motto?</td>\n",
       "      <td>[Y Combinator's motto is 'Make something people want'.]</td>\n",
       "      <td>Make something people want</td>\n",
       "      <td>Make something people want</td>\n",
       "      <td>1.000000</td>\n",
       "      <td>1.000000</td>\n",
       "      <td>1.0</td>\n",
       "      <td>0.921079</td>\n",
       "    </tr>\n",
       "  </tbody>\n",
       "</table>\n",
       "</div>"
      ],
      "text/plain": [
       "                                                      query  \\\n",
       "0  What are some successful companies that went through YC?   \n",
       "1                              In which city is YC located?   \n",
       "2                             How much equity does YC take?   \n",
       "3                             How much equity does YC take?   \n",
       "4                   Who founded YC and when was it founded?   \n",
       "5      Does Y Combinator invest in startups outside the US?   \n",
       "6                      How much does YC invest in startups?   \n",
       "7                                       What is YC's motto?   \n",
       "\n",
       "                                                                                                                    context  \\\n",
       "0                             [Y Combinator has invested in companies in various fields like FinTech, Healthcare, AI, etc.]   \n",
       "1                                                                   [Y Combinator is located in Mountain View, California.]   \n",
       "2                                                                [Y Combinator invests $500k in 200 startups twice a year.]   \n",
       "3                                                                [Y Combinator invests $500k in 200 startups twice a year.]   \n",
       "4  [Y Combinator was founded in March 2005 by Paul Graham, Jessica Livingston, Trevor Blackwell, and Robert Tappan Morris.]   \n",
       "5                                                               [Y Combinator invests in startups from all over the world.]   \n",
       "6                                                                                                [YC invests $150k for 7%.]   \n",
       "7                                                                   [Y Combinator's motto is 'Make something people want'.]   \n",
       "\n",
       "                                                                      response  \\\n",
       "0                        Airbnb, Dropbox, Stripe, Reddit, Coinbase, Instacart.   \n",
       "1                                     Y Combinator is located in San Francisco   \n",
       "2                                                     YC invests $150k for 7%.   \n",
       "3           I cannot answer this question as I do not have enough information.   \n",
       "4                                             Y Combinator was founded in 2005   \n",
       "5  Yes, Y Combinator invests in international startups as well as US startups.   \n",
       "6                                                                        $150k   \n",
       "7                                                   Make something people want   \n",
       "\n",
       "                                                                                                        expected_response  \\\n",
       "0                                               Airbnb and Stripe are 2 of the successful companies that went through YC.   \n",
       "1                                                                             YC is located in Mountain View, California.   \n",
       "2                                                      I cannot answer this question as I do not have enough information.   \n",
       "3                                                      I cannot answer this question as I do not have enough information.   \n",
       "4  Y Combinator was founded in March 2005 by Paul Graham, Jessica Livingston, Trevor Blackwell, and Robert Tappan Morris.   \n",
       "5                                                          Yes, Y Combinator invests in startups from all over the world.   \n",
       "6                                                                                                YC invests $150k for 7%.   \n",
       "7                                                                                              Make something people want   \n",
       "\n",
       "   Ragas Answer Correctness ragas_answer_correctness  \\\n",
       "0                                           0.718469   \n",
       "1                                           0.213528   \n",
       "2                                           0.183196   \n",
       "3                                                NaN   \n",
       "4                                           0.609783   \n",
       "5                                           0.743316   \n",
       "6                                           0.713585   \n",
       "7                                           1.000000   \n",
       "\n",
       "   Ragas Faithfulness ragas_faithfulness  \\\n",
       "0                               0.833333   \n",
       "1                               0.000000   \n",
       "2                               0.000000   \n",
       "3                               0.000000   \n",
       "4                               1.000000   \n",
       "5                               0.500000   \n",
       "6                               0.000000   \n",
       "7                               1.000000   \n",
       "\n",
       "   Ragas Context Relevancy ragas_context_relevancy  \\\n",
       "0                                              1.0   \n",
       "1                                              1.0   \n",
       "2                                              1.0   \n",
       "3                                              1.0   \n",
       "4                                              1.0   \n",
       "5                                              1.0   \n",
       "6                                              1.0   \n",
       "7                                              1.0   \n",
       "\n",
       "   Ragas Answer Relevancy ragas_answer_relevancy  \n",
       "0                                       0.916001  \n",
       "1                                       0.887728  \n",
       "2                                       0.881647  \n",
       "3                                       0.000000  \n",
       "4                                       0.897087  \n",
       "5                                       0.981736  \n",
       "6                                       0.921220  \n",
       "7                                       0.921079  "
      ]
     },
     "execution_count": 5,
     "metadata": {},
     "output_type": "execute_result"
    }
   ],
   "source": [
    "# Run the eval suite\n",
    "eval_model = \"gpt-4-1106-preview\"\n",
    "eval_suite = [\n",
    "    RagasAnswerCorrectness(),\n",
    "    RagasFaithfulness(),\n",
    "    RagasContextRelevancy(),\n",
    "    RagasAnswerRelevancy(),\n",
    "]\n",
    "\n",
    "# Run the evaluation suite\n",
    "batch_eval_result = EvalRunner.run_suite(\n",
    "    evals=eval_suite,\n",
    "    data=dataset,\n",
    "    max_parallel_evals=1,   # If you increase this, you may run into rate limits\n",
    ")\n",
    "\n",
    "pd.DataFrame(batch_eval_result)"
   ]
  }
 ],
 "metadata": {
  "kernelspec": {
   "display_name": ".venv",
   "language": "python",
   "name": "python3"
  },
  "language_info": {
   "codemirror_mode": {
    "name": "ipython",
    "version": 3
   },
   "file_extension": ".py",
   "mimetype": "text/x-python",
   "name": "python",
   "nbconvert_exporter": "python",
   "pygments_lexer": "ipython3",
   "version": "3.9.6"
  }
 },
 "nbformat": 4,
 "nbformat_minor": 2
}
