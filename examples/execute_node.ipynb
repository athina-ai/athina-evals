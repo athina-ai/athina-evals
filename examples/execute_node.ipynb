{
 "cells": [
  {
   "cell_type": "code",
   "execution_count": 1,
   "metadata": {},
   "outputs": [
    {
     "name": "stderr",
     "output_type": "stream",
     "text": [
      "/Users/shivsakhuja/dev/athina/athina-evals/.venvtest/lib/python3.9/site-packages/tqdm/auto.py:21: TqdmWarning: IProgress not found. Please update jupyter and ipywidgets. See https://ipywidgets.readthedocs.io/en/stable/user_install.html\n",
      "  from .autonotebook import tqdm as notebook_tqdm\n"
     ]
    }
   ],
   "source": [
    "import os\n",
    "from typing import List, Dict\n",
    "from athina.steps import Debug, Fn, Chain, PromptExecution, Map, ExtractJsonFromString, Assert\n",
    "from athina.steps.llm import PromptTemplate, PromptMessage\n",
    "from athina.llms.openai_service import OpenAiService\n",
    "from athina.keys import OpenAiApiKey\n",
    "\n",
    "OpenAiApiKey.set_key(os.getenv(\"OPENAI_API_KEY\"))\n",
    "openai_service = OpenAiService()\n",
    "\n"
   ]
  },
  {
   "cell_type": "code",
   "execution_count": 7,
   "metadata": {},
   "outputs": [
    {
     "name": "stderr",
     "output_type": "stream",
     "text": [
      "INFO:httpx:HTTP Request: POST https://api.openai.com/v1/chat/completions \"HTTP/1.1 200 OK\"\n"
     ]
    },
    {
     "data": {
      "text/plain": [
       "'Bonjour, le monde ?'"
      ]
     },
     "execution_count": 7,
     "metadata": {},
     "output_type": "execute_result"
    }
   ],
   "source": [
    "# Prompt Execution node\n",
    "openai_generation = PromptExecution.simple(\n",
    "    message=\"Translate the following English text to French: 'Hello, world?'. Return a json object with 2 fields: 'source' and 'target'.\",\n",
    "    model=\"gpt-4o\"\n",
    ")\n",
    "\n",
    "response = openai_generation.execute({})\n",
    "response"
   ]
  },
  {
   "cell_type": "code",
   "execution_count": 3,
   "metadata": {},
   "outputs": [
    {
     "name": "stderr",
     "output_type": "stream",
     "text": [
      "INFO:httpx:HTTP Request: POST https://api.openai.com/v1/chat/completions \"HTTP/1.1 200 OK\"\n"
     ]
    },
    {
     "data": {
      "text/plain": [
       "'```json\\n{\\n  \"source\": \"Hello, world?\",\\n  \"target\": \"Bonjour, le monde ?\"\\n}\\n```'"
      ]
     },
     "execution_count": 3,
     "metadata": {},
     "output_type": "execute_result"
    }
   ],
   "source": [
    "# Prompt Execution node\n",
    "prompt_execution = PromptExecution(\n",
    "    llm_service=openai_service,\n",
    "    template=PromptTemplate.simple(\"Translate the following English text to French: 'Hello, world?'. Return a json object with 2 fields: 'source' and 'target'.\"),\n",
    "    model=\"gpt-4o\"\n",
    ")\n",
    "\n",
    "response = prompt_execution.execute({})\n",
    "response"
   ]
  },
  {
   "cell_type": "code",
   "execution_count": 5,
   "metadata": {},
   "outputs": [],
   "source": [
    "json_dict = ExtractJsonFromString().execute(response)\n",
    "target = json_dict['target']\n",
    "target"
   ]
  },
  {
   "cell_type": "code",
   "execution_count": null,
   "metadata": {},
   "outputs": [],
   "source": []
  }
 ],
 "metadata": {
  "kernelspec": {
   "display_name": ".venvtest",
   "language": "python",
   "name": "python3"
  },
  "language_info": {
   "codemirror_mode": {
    "name": "ipython",
    "version": 3
   },
   "file_extension": ".py",
   "mimetype": "text/x-python",
   "name": "python",
   "nbconvert_exporter": "python",
   "pygments_lexer": "ipython3",
   "version": "3.9.16"
  }
 },
 "nbformat": 4,
 "nbformat_minor": 2
}
