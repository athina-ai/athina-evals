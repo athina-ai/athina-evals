{
 "cells": [
  {
   "cell_type": "code",
   "execution_count": null,
   "metadata": {},
   "outputs": [],
   "source": [
    "import os\n",
    "from typing import List, Dict\n",
    "from athina.steps import Debug, Fn, Chain, PromptExecution, Map, ExtractJsonFromString, Assert\n",
    "from athina.steps.llm import PromptTemplate, PromptMessage\n",
    "from athina.llms.openai_service import OpenAiService\n",
    "from athina.keys import OpenAiApiKey\n",
    "\n",
    "OpenAiApiKey.set_key(os.getenv(\"OPENAI_API_KEY\"))\n",
    "openai_service = OpenAiService()\n",
    "\n"
   ]
  },
  {
   "cell_type": "code",
   "execution_count": null,
   "metadata": {},
   "outputs": [],
   "source": [
    "# Prompt Execution node\n",
    "openai_generation = PromptExecution.simple(\n",
    "    message=\"Translate the following English text to French: 'Hello, world?'. Return a json object with 2 fields: 'source' and 'target'.\",\n",
    "    model=\"gpt-4o\",\n",
    ")\n",
    "\n",
    "response = openai_generation.execute({})\n",
    "response"
   ]
  },
  {
   "cell_type": "code",
   "execution_count": null,
   "metadata": {},
   "outputs": [],
   "source": [
    "# Prompt Execution node\n",
    "prompt_execution = PromptExecution(\n",
    "    llm_service=openai_service,\n",
    "    template=PromptTemplate.simple(\"Translate the following English text to French: 'Hello, world?'. Return a json object with 2 fields: 'source' and 'target'.\"),\n",
    "    model=\"gpt-4o\",\n",
    "    model_options={\"temperature\": 0.5, \"max_tokens\": 100},\n",
    ")\n",
    "\n",
    "response = prompt_execution.execute({})\n",
    "response"
   ]
  },
  {
   "cell_type": "code",
   "execution_count": null,
   "metadata": {},
   "outputs": [],
   "source": [
    "json_dict = ExtractJsonFromString().execute(response[\"data\"])\n",
    "target = json_dict['target']\n",
    "target"
   ]
  }
 ],
 "metadata": {
  "kernelspec": {
   "display_name": ".venvtest",
   "language": "python",
   "name": "python3"
  },
  "language_info": {
   "codemirror_mode": {
    "name": "ipython",
    "version": 3
   },
   "file_extension": ".py",
   "mimetype": "text/x-python",
   "name": "python",
   "nbconvert_exporter": "python",
   "pygments_lexer": "ipython3",
   "version": "3.9.6"
  }
 },
 "nbformat": 4,
 "nbformat_minor": 2
}
