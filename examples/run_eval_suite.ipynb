{
 "cells": [
  {
   "cell_type": "code",
   "execution_count": null,
   "metadata": {},
   "outputs": [],
   "source": [
    "import os\n",
    "from athina.evals import DoesResponseAnswerQuery, ContextContainsEnoughInformation, Faithfulness\n",
    "from athina.loaders import RagLoader\n",
    "from athina.keys import AthinaApiKey, OpenAiApiKey\n",
    "from athina.runner.run import EvalRunner\n",
    "from athina.datasets import yc_query_mini\n",
    "from athina.interfaces.athina import AthinaExperiment\n",
    "import pandas as pd\n",
    "\n",
    "OpenAiApiKey.set_key(os.getenv('OPENAI_API_KEY'))\n",
    "AthinaApiKey.set_key(os.getenv('ATHINA_API_KEY'))"
   ]
  },
  {
   "cell_type": "code",
   "execution_count": null,
   "metadata": {},
   "outputs": [],
   "source": [
    "# Create batch dataset from list of dict objects\n",
    "raw_data = yc_query_mini.data\n",
    "\n",
    "dataset = RagLoader().load_dict(raw_data)\n",
    "pd.DataFrame(dataset)"
   ]
  },
  {
   "cell_type": "code",
   "execution_count": null,
   "metadata": {},
   "outputs": [],
   "source": [
    "# Run the eval suite\n",
    "eval_model = \"gpt-4-1106-preview\"\n",
    "experiment = AthinaExperiment(\n",
    "    experiment_name=\"yc-question-chatbot\",\n",
    "    experiment_description=\"YC Q&A with RAG model and few-shot examples\",\n",
    "    language_model_provider=\"openai\",\n",
    "    language_model_id=\"gpt-3.5-turbo\",\n",
    "    prompt_template=[],\n",
    "    dataset_name=\"yc_dataset_mini\",\n",
    ")\n",
    "eval_suite = [\n",
    "    DoesResponseAnswerQuery(model=eval_model),\n",
    "    Faithfulness(model=eval_model),\n",
    "    ContextContainsEnoughInformation(model=eval_model),\n",
    "]\n",
    "\n",
    "# Run the evaluation suite\n",
    "batch_eval_result = EvalRunner.run_suite(\n",
    "    evals=eval_suite,\n",
    "    data=dataset,\n",
    "    experiment=experiment,\n",
    "    max_parallel_evals=10\n",
    ")\n",
    "\n",
    "pd.DataFrame(batch_eval_result)"
   ]
  }
 ],
 "metadata": {
  "kernelspec": {
   "display_name": ".venv",
   "language": "python",
   "name": "python3"
  },
  "language_info": {
   "codemirror_mode": {
    "name": "ipython",
    "version": 3
   },
   "file_extension": ".py",
   "mimetype": "text/x-python",
   "name": "python",
   "nbconvert_exporter": "python",
   "pygments_lexer": "ipython3",
   "version": "3.9.10"
  }
 },
 "nbformat": 4,
 "nbformat_minor": 2
}
