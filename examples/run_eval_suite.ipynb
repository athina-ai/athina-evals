{
 "cells": [
  {
   "cell_type": "code",
   "execution_count": null,
   "metadata": {},
   "outputs": [],
   "source": [
    "import os\n",
    "from athina.evals import DoesResponseAnswerQuery, ContextContainsEnoughInformation, Faithfulness\n",
    "from athina.loaders import Loader\n",
    "from athina.keys import AthinaApiKey, OpenAiApiKey\n",
    "from athina.runner.run import EvalRunner\n",
    "from athina.datasets import yc_query_mini\n",
    "from athina.interfaces.athina import AthinaExperiment\n",
    "import pandas as pd\n",
    "\n",
    "from dotenv import load_dotenv\n",
    "load_dotenv()\n",
    "\n",
    "OpenAiApiKey.set_key(os.getenv('OPENAI_API_KEY'))\n",
    "AthinaApiKey.set_key(os.getenv('ATHINA_API_KEY'))"
   ]
  },
  {
   "cell_type": "code",
   "execution_count": null,
   "metadata": {},
   "outputs": [],
   "source": [
    "# Create batch dataset from list of dict objects\n",
    "raw_data = yc_query_mini.data\n",
    "\n",
    "dataset = Loader().load_dict(raw_data)\n",
    "pd.DataFrame(dataset)"
   ]
  },
  {
   "cell_type": "code",
   "execution_count": null,
   "metadata": {},
   "outputs": [],
   "source": [
    "# Run the eval suite\n",
    "eval_model = \"gpt-4\"\n",
    "\n",
    "# Define your evaluation suite\n",
    "eval_suite = [\n",
    "    DoesResponseAnswerQuery(model=eval_model),\n",
    "    Faithfulness(model=eval_model),\n",
    "    ContextContainsEnoughInformation(model=eval_model),\n",
    "]\n",
    "\n",
    "# Run the evaluation suite\n",
    "batch_eval_result = EvalRunner.run_suite(\n",
    "    evals=eval_suite,\n",
    "    data=dataset,\n",
    "    max_parallel_evals=2\n",
    ")\n",
    "\n",
    "batch_eval_result"
   ]
  },
  {
   "cell_type": "code",
   "execution_count": null,
   "metadata": {},
   "outputs": [],
   "source": [
    "from athina.interfaces.athina import AthinaFilters\n",
    "\n",
    "eval_model = \"gpt-4\"\n",
    "athina_dataset = Loader().load_athina_inferences(filters=AthinaFilters(prompt_slug=\"yc_rag_v1\"))"
   ]
  },
  {
   "cell_type": "code",
   "execution_count": null,
   "metadata": {},
   "outputs": [],
   "source": [
    "\n",
    "eval_suite = [\n",
    "    DoesResponseAnswerQuery(model=eval_model),\n",
    "    Faithfulness(model=eval_model),\n",
    "    ContextContainsEnoughInformation(model=eval_model),\n",
    "]\n",
    "\n",
    "# Run the evaluation suite\n",
    "batch_eval_result = EvalRunner.run_suite(\n",
    "    evals=eval_suite,\n",
    "    data=athina_dataset,\n",
    "    max_parallel_evals=2\n",
    ")\n",
    "batch_eval_result"
   ]
  }
 ],
 "metadata": {
  "kernelspec": {
   "display_name": ".venv",
   "language": "python",
   "name": "python3"
  },
  "language_info": {
   "codemirror_mode": {
    "name": "ipython",
    "version": 3
   },
   "file_extension": ".py",
   "mimetype": "text/x-python",
   "name": "python",
   "nbconvert_exporter": "python",
   "pygments_lexer": "ipython3",
   "version": "3.9.6"
  }
 },
 "nbformat": 4,
 "nbformat_minor": 2
}
