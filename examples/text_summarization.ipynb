{
 "cells": [
  {
   "cell_type": "code",
   "execution_count": null,
   "metadata": {},
   "outputs": [],
   "source": [
    "import os\n",
    "from athina.loaders import SummaryLoader\n",
    "from athina.evals import SummaryAccuracy\n",
    "from athina.keys import AthinaApiKey, OpenAiApiKey\n",
    "from athina.datasets import summarization_sample\n",
    "from athina.llms.question_answerer_bulk import QuestionAnswererBulk\n",
    "import pandas as pd\n",
    "from dotenv import load_dotenv\n",
    "\n",
    "load_dotenv()\n",
    "\n",
    "OpenAiApiKey.set_key(os.getenv('OPENAI_API_KEY'))\n",
    "AthinaApiKey.set_key(os.getenv('ATHINA_API_KEY'))"
   ]
  },
  {
   "cell_type": "code",
   "execution_count": null,
   "metadata": {},
   "outputs": [],
   "source": [
    "# Load dataset for summarization\n",
    "raw_data = summarization_sample.data\n",
    "dataset = SummaryLoader().load_dict(raw_data)\n",
    "\n",
    "pd.DataFrame(dataset)"
   ]
  },
  {
   "cell_type": "code",
   "execution_count": null,
   "metadata": {},
   "outputs": [],
   "source": [
    "# Run summary accuracy evaluation\n",
    "from athina.llms.openai_service import OpenAiService\n",
    "\n",
    "\n",
    "model = \"gpt-3.5-turbo\"\n",
    "question_answerer = QuestionAnswererBulk(model=model)\n",
    "SummaryAccuracy(\n",
    "    question_answerer=question_answerer,\n",
    "    model=model,\n",
    "    n_questions=5,\n",
    "    agreement_score_failure_threshold=0.5,\n",
    ").run_batch(dataset).to_df()"
   ]
  },
  {
   "cell_type": "code",
   "execution_count": null,
   "metadata": {},
   "outputs": [],
   "source": []
  }
 ],
 "metadata": {
  "kernelspec": {
   "display_name": ".venv",
   "language": "python",
   "name": "python3"
  },
  "language_info": {
   "codemirror_mode": {
    "name": "ipython",
    "version": 3
   },
   "file_extension": ".py",
   "mimetype": "text/x-python",
   "name": "python",
   "nbconvert_exporter": "python",
   "pygments_lexer": "ipython3",
   "version": "3.9.16"
  }
 },
 "nbformat": 4,
 "nbformat_minor": 2
}
