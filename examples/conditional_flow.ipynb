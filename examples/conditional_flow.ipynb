{
 "cells": [
  {
   "cell_type": "code",
   "execution_count": 1,
   "metadata": {},
   "outputs": [
    {
     "name": "stderr",
     "output_type": "stream",
     "text": [
      "/Users/shivsakhuja/dev/athina/athina-evals/.venv/lib/python3.9/site-packages/tqdm/auto.py:21: TqdmWarning: IProgress not found. Please update jupyter and ipywidgets. See https://ipywidgets.readthedocs.io/en/stable/user_install.html\n",
      "  from .autonotebook import tqdm as notebook_tqdm\n",
      "/Users/shivsakhuja/dev/athina/athina-evals/.venv/lib/python3.9/site-packages/pydantic/_internal/_config.py:295: PydanticDeprecatedSince20: Support for class-based `config` is deprecated, use ConfigDict instead. Deprecated in Pydantic V2.0 to be removed in V3.0. See Pydantic V2 Migration Guide at https://errors.pydantic.dev/2.10/migration/\n",
      "  warnings.warn(DEPRECATION_MESSAGE, DeprecationWarning)\n"
     ]
    }
   ],
   "source": [
    "import os\n",
    "from athina.llms.litellm_service import LitellmService\n",
    "from athina.steps import PromptExecution, ConditionalStep\n",
    "from athina.keys import OpenAiApiKey\n",
    "\n",
    "OpenAiApiKey.set_key(os.getenv(\"OPENAI_API_KEY\"))"
   ]
  },
  {
   "cell_type": "code",
   "execution_count": 10,
   "metadata": {},
   "outputs": [],
   "source": [
    "litellm_service = LitellmService(api_key=os.getenv(\"OPENAI_API_KEY\"))\n",
    "\n",
    "prompt_execution1 = PromptExecution.simple(name=\"step1\", message=\"Hello, world!\", model=\"gpt-4o-mini\")\n",
    "prompt_execution2 = PromptExecution.simple(name=\"step2\", message=\"Give me a one-line christmas holiday greeting!\", model=\"gpt-4o-mini\")\n",
    "prompt_execution3 = PromptExecution.simple(name=\"step3\", message=\"Respond in french with a single sentence: {{step2}}\", model=\"gpt-4o-mini\")\n",
    "\n",
    "conditional_step = ConditionalStep(\n",
    "    branches=[\n",
    "        {\n",
    "            \"branch_type\": \"if\",\n",
    "            \"condition\": \"0 > {{num}}\",\n",
    "            \"steps\": [prompt_execution1]\n",
    "        },\n",
    "        {\n",
    "            \"branch_type\": \"elif\",\n",
    "            \"condition\": \"{{num}} == 3\",\n",
    "            \"steps\": [prompt_execution2]\n",
    "        },\n",
    "        {\n",
    "            \"branch_type\": \"else\",\n",
    "            \"condition\": \"\",\n",
    "            \"steps\": [prompt_execution2, prompt_execution3]\n",
    "        }\n",
    "    ]\n",
    ")"
   ]
  },
  {
   "cell_type": "code",
   "execution_count": 11,
   "metadata": {},
   "outputs": [
    {
     "name": "stderr",
     "output_type": "stream",
     "text": [
      "INFO:httpx:HTTP Request: POST https://api.openai.com/v1/chat/completions \"HTTP/1.1 200 OK\"\n",
      "INFO:httpx:HTTP Request: POST https://api.openai.com/v1/chat/completions \"HTTP/1.1 200 OK\"\n"
     ]
    },
    {
     "data": {
      "text/plain": [
       "{'status': 'success',\n",
       " 'data': 'Je suis prêt à vous aider avec votre demande.',\n",
       " 'metadata': {'executed_steps': [{'status': 'success',\n",
       "    'data': 'Wishing you joy, peace, and love this holiday season and throughout the year!',\n",
       "    'metadata': {'usage': {'completion_tokens': 17,\n",
       "      'prompt_tokens': 16,\n",
       "      'total_tokens': 33},\n",
       "     'cost': {'prompt_tokens_cost_usd_dollar': 2.4e-06,\n",
       "      'completion_tokens_cost_usd_dollar': 1.0199999999999999e-05,\n",
       "      'total_cost_usd_dollar': 1.2599999999999998e-05},\n",
       "     'response_time': 430.00221252441406}},\n",
       "   {'status': 'success',\n",
       "    'data': 'Je suis prêt à vous aider avec votre demande.',\n",
       "    'metadata': {'usage': {'completion_tokens': 10,\n",
       "      'prompt_tokens': 19,\n",
       "      'total_tokens': 29},\n",
       "     'cost': {'prompt_tokens_cost_usd_dollar': 2.85e-06,\n",
       "      'completion_tokens_cost_usd_dollar': 6e-06,\n",
       "      'total_cost_usd_dollar': 8.85e-06},\n",
       "     'response_time': 384.10115242004395}}],\n",
       "  'executed_branch': 'else'}}"
      ]
     },
     "execution_count": 11,
     "metadata": {},
     "output_type": "execute_result"
    }
   ],
   "source": [
    "conditional_step.execute({\n",
    "    \"num\": 2\n",
    "})"
   ]
  },
  {
   "cell_type": "code",
   "execution_count": null,
   "metadata": {},
   "outputs": [],
   "source": []
  }
 ],
 "metadata": {
  "kernelspec": {
   "display_name": ".venv",
   "language": "python",
   "name": "python3"
  },
  "language_info": {
   "codemirror_mode": {
    "name": "ipython",
    "version": 3
   },
   "file_extension": ".py",
   "mimetype": "text/x-python",
   "name": "python",
   "nbconvert_exporter": "python",
   "pygments_lexer": "ipython3",
   "version": "3.9.16"
  }
 },
 "nbformat": 4,
 "nbformat_minor": 2
}
