{
 "cells": [
  {
   "cell_type": "code",
   "execution_count": null,
   "metadata": {},
   "outputs": [],
   "source": [
    "import os\n",
    "import pprint\n",
    "from athina.loaders import SummaryLoader\n",
    "from athina.datasets import summarization_sample\n",
    "from athina.evals import SummaryAccuracy\n",
    "from athina.keys import AthinaApiKey, OpenAiApiKey\n",
    "from athina.llms.openai_service import OpenAiService\n",
    "from athina.llms.question_answerer_bulk import QuestionAnswererBulk\n",
    "from athina.llms.question_answerer_cot import QuestionAnswererChainOfThought\n",
    "from athina.llms.question_answerer_with_retrieval import QuestionAnswererWithRetrieval\n",
    "import pandas as pd\n",
    "\n",
    "OpenAiApiKey.set_key(os.getenv('OPENAI_API_KEY'))\n",
    "# AthinaApiKey.set_key(os.getenv('ATHINA_API_KEY'))"
   ]
  },
  {
   "cell_type": "code",
   "execution_count": null,
   "metadata": {},
   "outputs": [],
   "source": [
    "# Create batch dataset from list of dict objects\n",
    "raw_data = summarization_sample.data\n",
    "sample_data = raw_data[0]\n",
    "questions = sample_data['questions']\n",
    "document = sample_data['document']"
   ]
  },
  {
   "cell_type": "code",
   "execution_count": null,
   "metadata": {},
   "outputs": [],
   "source": [
    "question_answerer_bulk = QuestionAnswererBulk(model=\"gpt-3.5-turbo\")\n",
    "question_answerer_cot = QuestionAnswererChainOfThought(model=\"gpt-3.5-turbo\")\n",
    "question_answerer_with_retrieval = QuestionAnswererWithRetrieval(model=\"gpt-3.5-turbo\", context=document, context_chunk_size=250)"
   ]
  },
  {
   "cell_type": "code",
   "execution_count": null,
   "metadata": {},
   "outputs": [],
   "source": [
    "question_answerer_bulk_answers = question_answerer_bulk.answer(questions=questions, context=document)\n",
    "pprint.pprint(question_answerer_bulk_answers[1])"
   ]
  },
  {
   "cell_type": "code",
   "execution_count": null,
   "metadata": {},
   "outputs": [],
   "source": [
    "question_answerer_cot_answers = question_answerer_cot.answer(questions=questions, context=document)\n",
    "pprint.pprint(question_answerer_cot_answers[1])"
   ]
  },
  {
   "cell_type": "code",
   "execution_count": null,
   "metadata": {},
   "outputs": [],
   "source": [
    "question_answerer_with_retrieval_answers = question_answerer_with_retrieval.answer(questions=questions)\n",
    "pprint.pprint(question_answerer_with_retrieval_answers[1])"
   ]
  }
 ],
 "metadata": {
  "kernelspec": {
   "display_name": ".venv",
   "language": "python",
   "name": "python3"
  },
  "language_info": {
   "codemirror_mode": {
    "name": "ipython",
    "version": 3
   },
   "file_extension": ".py",
   "mimetype": "text/x-python",
   "name": "python",
   "nbconvert_exporter": "python",
   "pygments_lexer": "ipython3",
   "version": "3.9.10"
  }
 },
 "nbformat": 4,
 "nbformat_minor": 2
}
