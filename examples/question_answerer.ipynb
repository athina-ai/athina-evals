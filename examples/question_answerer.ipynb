{
 "cells": [
  {
   "cell_type": "code",
   "execution_count": 1,
   "metadata": {},
   "outputs": [],
   "source": [
    "import os\n",
    "import pprint\n",
    "from athina.datasets import summarization_sample\n",
    "from athina.keys import OpenAiApiKey, AthinaApiKey\n",
    "from athina.llms.question_answerer_bulk import QuestionAnswererBulk\n",
    "from athina.llms.question_answerer_cot import QuestionAnswererChainOfThought\n",
    "from athina.llms.question_answerer_with_retrieval import QuestionAnswererWithRetrieval\n",
    "\n",
    "\n",
    "OpenAiApiKey.set_key(os.getenv('OPENAI_API_KEY'))\n",
    "AthinaApiKey.set_key(os.getenv('ATHINA_API_KEY'))"
   ]
  },
  {
   "cell_type": "code",
   "execution_count": 2,
   "metadata": {},
   "outputs": [],
   "source": [
    "# Create batch dataset from list of dict objects\n",
    "raw_data = summarization_sample.data\n",
    "sample_data = raw_data[0]\n",
    "questions = sample_data['questions']\n",
    "document = sample_data['document']"
   ]
  },
  {
   "cell_type": "code",
   "execution_count": 3,
   "metadata": {},
   "outputs": [],
   "source": [
    "question_answerer_bulk = QuestionAnswererBulk(model=\"gpt-3.5-turbo\")\n",
    "question_answerer_cot = QuestionAnswererChainOfThought(model=\"gpt-3.5-turbo\")\n",
    "question_answerer_with_retrieval = QuestionAnswererWithRetrieval(model=\"gpt-3.5-turbo\", context=document, context_chunk_size=250)"
   ]
  },
  {
   "cell_type": "code",
   "execution_count": 4,
   "metadata": {},
   "outputs": [
    {
     "name": "stdout",
     "output_type": "stream",
     "text": [
      "{'Are Labradors known for minimal shedding?': 'No',\n",
      " 'Are Poodles suggested by Alice as a suitable breed for Bob?': 'Yes',\n",
      " 'Does Alice mention that French Bulldogs are completely hypoallergenic?': 'No',\n",
      " 'Does Alice recommend Bichon Frises to Bob?': 'Yes',\n",
      " 'Does Alice suggest that Golden Retrievers are hypoallergenic?': 'No',\n",
      " 'Does Bob decide to get a dog immediately after the conversation?': 'No',\n",
      " 'Does Bob prefer a hypoallergenic dog breed?': 'Yes',\n",
      " 'Is Bob concerned about dog shedding?': 'Yes',\n",
      " 'Is Bob interested in getting a new dog?': 'Yes',\n",
      " 'Is a Portuguese Water Dog one of the breeds Alice suggests?': 'Yes'}\n"
     ]
    }
   ],
   "source": [
    "question_answerer_bulk_answers = question_answerer_bulk.answer(questions=questions, context=document)\n",
    "pprint.pprint(question_answerer_bulk_answers[1])"
   ]
  },
  {
   "cell_type": "code",
   "execution_count": 5,
   "metadata": {},
   "outputs": [
    {
     "name": "stdout",
     "output_type": "stream",
     "text": [
      "{'Are Labradors known for minimal shedding?': 'No',\n",
      " 'Are Poodles suggested by Alice as a suitable breed for Bob?': 'Yes',\n",
      " 'Does Alice mention that French Bulldogs are completely hypoallergenic?': 'No',\n",
      " 'Does Alice recommend Bichon Frises to Bob?': 'Yes',\n",
      " 'Does Alice suggest that Golden Retrievers are hypoallergenic?': 'No',\n",
      " 'Does Bob decide to get a dog immediately after the conversation?': 'No',\n",
      " 'Does Bob prefer a hypoallergenic dog breed?': 'Yes',\n",
      " 'Is Bob concerned about dog shedding?': 'Yes',\n",
      " 'Is Bob interested in getting a new dog?': 'Yes',\n",
      " 'Is a Portuguese Water Dog one of the breeds Alice suggests?': 'Yes'}\n"
     ]
    }
   ],
   "source": [
    "question_answerer_cot_answers = question_answerer_cot.answer(questions=questions, context=document)\n",
    "pprint.pprint(question_answerer_cot_answers[1])"
   ]
  },
  {
   "cell_type": "code",
   "execution_count": 6,
   "metadata": {},
   "outputs": [
    {
     "name": "stdout",
     "output_type": "stream",
     "text": [
      "{'Are Labradors known for minimal shedding?': 'No',\n",
      " 'Are Poodles suggested by Alice as a suitable breed for Bob?': 'Yes',\n",
      " 'Does Alice mention that French Bulldogs are completely hypoallergenic?': 'No',\n",
      " 'Does Alice recommend Bichon Frises to Bob?': 'Yes',\n",
      " 'Does Alice suggest that Golden Retrievers are hypoallergenic?': 'No',\n",
      " 'Does Bob decide to get a dog immediately after the conversation?': 'No',\n",
      " 'Does Bob prefer a hypoallergenic dog breed?': 'Yes',\n",
      " 'Is Bob concerned about dog shedding?': 'Yes',\n",
      " 'Is Bob interested in getting a new dog?': 'Yes',\n",
      " 'Is a Portuguese Water Dog one of the breeds Alice suggests?': 'No'}\n"
     ]
    }
   ],
   "source": [
    "question_answerer_with_retrieval_answers = question_answerer_with_retrieval.answer(questions=questions)\n",
    "pprint.pprint(question_answerer_with_retrieval_answers[1])"
   ]
  }
 ],
 "metadata": {
  "kernelspec": {
   "display_name": ".venv",
   "language": "python",
   "name": "python3"
  },
  "language_info": {
   "codemirror_mode": {
    "name": "ipython",
    "version": 3
   },
   "file_extension": ".py",
   "mimetype": "text/x-python",
   "name": "python",
   "nbconvert_exporter": "python",
   "pygments_lexer": "ipython3",
   "version": "3.9.6"
  }
 },
 "nbformat": 4,
 "nbformat_minor": 2
}
