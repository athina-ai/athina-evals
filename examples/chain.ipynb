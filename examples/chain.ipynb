{
 "cells": [
  {
   "cell_type": "code",
   "execution_count": 1,
   "metadata": {},
   "outputs": [
    {
     "name": "stderr",
     "output_type": "stream",
     "text": [
      "/Users/shivsakhuja/dev/athina/athina-evals/.venvtest/lib/python3.9/site-packages/tqdm/auto.py:21: TqdmWarning: IProgress not found. Please update jupyter and ipywidgets. See https://ipywidgets.readthedocs.io/en/stable/user_install.html\n",
      "  from .autonotebook import tqdm as notebook_tqdm\n"
     ]
    }
   ],
   "source": [
    "import os\n",
    "from typing import List, Dict\n",
    "from athina.steps import Debug, Fn, Chain, PromptExecution, Map, ExtractJsonFromString\n",
    "from athina.steps.llm import PromptTemplate, PromptMessage\n",
    "from athina.llms.openai_service import OpenAiService\n",
    "from athina.keys import OpenAiApiKey\n",
    "\n",
    "OpenAiApiKey.set_key(os.getenv(\"OPENAI_API_KEY\"))\n",
    "openai_service = OpenAiService()\n",
    "\n"
   ]
  },
  {
   "cell_type": "code",
   "execution_count": 2,
   "metadata": {},
   "outputs": [
    {
     "name": "stderr",
     "output_type": "stream",
     "text": [
      "INFO:httpx:HTTP Request: POST https://api.openai.com/v1/chat/completions \"HTTP/1.1 200 OK\"\n",
      "INFO:httpx:HTTP Request: POST https://api.openai.com/v1/chat/completions \"HTTP/1.1 200 OK\"\n",
      "INFO:httpx:HTTP Request: POST https://api.openai.com/v1/chat/completions \"HTTP/1.1 200 OK\"\n",
      "INFO:httpx:HTTP Request: POST https://api.openai.com/v1/chat/completions \"HTTP/1.1 200 OK\"\n",
      "INFO:httpx:HTTP Request: POST https://api.openai.com/v1/chat/completions \"HTTP/1.1 200 OK\"\n"
     ]
    },
    {
     "name": "stdout",
     "output_type": "stream",
     "text": [
      "context {'items': '4 cars with make, model, and license number.', 'cars': [{'make': 'Toyota', 'model': 'Camry', 'license_number': 'ABC123'}, {'make': 'Honda', 'model': 'Civic', 'license_number': 'XYZ456'}, {'make': 'Ford', 'model': 'F-150', 'license_number': 'DEF789'}, {'make': 'Chevrolet', 'model': 'Malibu', 'license_number': 'GHI101'}], '__steps__': [{'step': 'PromptExecution', 'output': '```json\\n[\\n    {\\n        \"make\": \"Toyota\",\\n        \"model\": \"Camry\",\\n        \"license_number\": \"ABC123\"\\n    },\\n    {\\n        \"make\": \"Honda\",\\n        \"model\": \"Civic\",\\n        \"license_number\": \"XYZ456\"\\n    },\\n    {\\n        \"make\": \"Ford\",\\n        \"model\": \"F-150\",\\n        \"license_number\": \"DEF789\"\\n    },\\n    {\\n        \"make\": \"Chevrolet\",\\n        \"model\": \"Malibu\",\\n        \"license_number\": \"GHI101\"\\n    }\\n]\\n```'}, {'step': 'ExtractJsonFromString', 'output': [{'make': 'Toyota', 'model': 'Camry', 'license_number': 'ABC123'}, {'make': 'Honda', 'model': 'Civic', 'license_number': 'XYZ456'}, {'make': 'Ford', 'model': 'F-150', 'license_number': 'DEF789'}, {'make': 'Chevrolet', 'model': 'Malibu', 'license_number': 'GHI101'}]}, {'step': 'Debug', 'output': None}, {'step': 'Fn', 'output': ['Toyota', 'Honda', 'Ford', 'Chevrolet']}, {'step': 'Map', 'output': ['\"Experience the ultimate in reliability and innovation with Toyota. Elevate your driving experience today! #Toyota #Innovation #Reliability\"', '\"Experience the thrill of the open road with Honda\\'s innovative technology and reliable performance. Elevate your driving experience today! #Honda #Innovation #Reliability\"', '\"Unleash the power of the road with Ford - where innovation meets performance for an unforgettable driving experience. #Ford #BuiltFordTough 🚗💨\"', '\"Experience the power and performance of a Chevrolet - where innovation meets style on the open road. #Chevrolet #PowerfulPerformance\"']}, {'step': 'Debug', 'output': None}], 'makes': ['Toyota', 'Honda', 'Ford', 'Chevrolet'], 'tweets': ['\"Experience the ultimate in reliability and innovation with Toyota. Elevate your driving experience today! #Toyota #Innovation #Reliability\"', '\"Experience the thrill of the open road with Honda\\'s innovative technology and reliable performance. Elevate your driving experience today! #Honda #Innovation #Reliability\"', '\"Unleash the power of the road with Ford - where innovation meets performance for an unforgettable driving experience. #Ford #BuiltFordTough 🚗💨\"', '\"Experience the power and performance of a Chevrolet - where innovation meets style on the open road. #Chevrolet #PowerfulPerformance\"']}\n",
      "makes:  ['Toyota', 'Honda', 'Ford', 'Chevrolet']\n",
      "tweets:  ['\"Experience the ultimate in reliability and innovation with Toyota. Elevate your driving experience today! #Toyota #Innovation #Reliability\"', '\"Experience the thrill of the open road with Honda\\'s innovative technology and reliable performance. Elevate your driving experience today! #Honda #Innovation #Reliability\"', '\"Unleash the power of the road with Ford - where innovation meets performance for an unforgettable driving experience. #Ford #BuiltFordTough 🚗💨\"', '\"Experience the power and performance of a Chevrolet - where innovation meets style on the open road. #Chevrolet #PowerfulPerformance\"']\n"
     ]
    },
    {
     "data": {
      "text/plain": [
       "['\"Experience the ultimate in reliability and innovation with Toyota. Elevate your driving experience today! #Toyota #Innovation #Reliability\"',\n",
       " '\"Experience the thrill of the open road with Honda\\'s innovative technology and reliable performance. Elevate your driving experience today! #Honda #Innovation #Reliability\"',\n",
       " '\"Unleash the power of the road with Ford - where innovation meets performance for an unforgettable driving experience. #Ford #BuiltFordTough 🚗💨\"',\n",
       " '\"Experience the power and performance of a Chevrolet - where innovation meets style on the open road. #Chevrolet #PowerfulPerformance\"']"
      ]
     },
     "execution_count": 2,
     "metadata": {},
     "output_type": "execute_result"
    }
   ],
   "source": [
    "# CHAIN 1: \n",
    "# - Generate a list of car makes and models\n",
    "# - Extract the car makes\n",
    "# - For each car make, generate a tweet using an LLM\n",
    "def generate_tweet(topic: str) -> str:\n",
    "    return openai_service.chat_completion(\n",
    "        messages=[\n",
    "            {\n",
    "                \"role\": \"system\",\n",
    "                \"content\": f\"Generate a marketing tweet about {topic}\"\n",
    "            }\n",
    "        ],\n",
    "        model=\"gpt-3.5-turbo\")\n",
    "\n",
    "steps = [\n",
    "    # Generate a list of cars\n",
    "    PromptExecution(\n",
    "        llm_service=openai_service,\n",
    "        template=PromptTemplate(\n",
    "            messages=[\n",
    "                PromptMessage(role=\"system\", content=\"Generate a list of {items} structured as a JSON array.\")\n",
    "            ]\n",
    "        ),\n",
    "        model=\"gpt-3.5-turbo\",\n",
    "        output_key=\"cars\",\n",
    "    ),\n",
    "    ExtractJsonFromString(input_key=\"cars\", output_key=\"cars\"),\n",
    "    Debug(),\n",
    "    # Extract the make of the car for each car in the list\n",
    "    Fn(\n",
    "        fn=lambda cars: [car['make'] for car in cars],\n",
    "        input_key=\"cars\",\n",
    "        output_key=\"makes\"\n",
    "    ),\n",
    "    # Generate a marketing tweet for each car make\n",
    "    Map(\n",
    "        input_key=\"makes\", \n",
    "        fn=generate_tweet,\n",
    "        output_key=\"tweets\"\n",
    "        ),\n",
    "    Debug(),\n",
    "]\n",
    "\n",
    "chain = Chain(sequence=steps)\n",
    "result_chain = chain.run(inputs={\n",
    "    \"items\": \"4 cars with make, model, and license number.\"\n",
    "})\n",
    "\n",
    "makes = result_chain.get_output(\"makes\")\n",
    "tweets = result_chain.get_output(\"tweets\")\n",
    "\n",
    "print(\"context\", result_chain.get_context())\n",
    "print(\"makes: \", makes)\n",
    "print(\"tweets: \", tweets)\n",
    "\n",
    "tweets"
   ]
  },
  {
   "cell_type": "code",
   "execution_count": 5,
   "metadata": {},
   "outputs": [
    {
     "data": {
      "text/plain": [
       "{'topic': 'AI',\n",
       " 'news': [{'title': 'OpenAI has been acquired by Microsoft',\n",
       "   'content': 'Content 1'},\n",
       "  {'title': 'Google is launching a new AI research lab in Paris',\n",
       "   'content': 'Content 2'},\n",
       "  {'title': 'Meta has just released Llama 4, a multimodal AI model',\n",
       "   'content': 'Content 3'},\n",
       "  {'title': 'Apple is investing $1 billion in a new AI research center in Berlin',\n",
       "   'content': 'Content 4'}],\n",
       " '__steps__': [{'step': 'Fn',\n",
       "   'output': [{'title': 'OpenAI has been acquired by Microsoft',\n",
       "     'content': 'Content 1'},\n",
       "    {'title': 'Google is launching a new AI research lab in Paris',\n",
       "     'content': 'Content 2'},\n",
       "    {'title': 'Meta has just released Llama 4, a multimodal AI model',\n",
       "     'content': 'Content 3'},\n",
       "    {'title': 'Apple is investing $1 billion in a new AI research center in Berlin',\n",
       "     'content': 'Content 4'}]},\n",
       "  {'step': 'Debug', 'output': None},\n",
       "  {'step': 'Map',\n",
       "   'output': ['OpenAI has been acquired by Microsoft',\n",
       "    'Google is launching a new AI research lab in Paris',\n",
       "    'Meta has just released Llama 4, a multimodal AI model',\n",
       "    'Apple is investing $1 billion in a new AI research center in Berlin']},\n",
       "  {'step': 'Fn',\n",
       "   'output': 'OpenAI has been acquired by Microsoft\\nGoogle is launching a new AI research lab in Paris\\nMeta has just released Llama 4, a multimodal AI model\\nApple is investing $1 billion in a new AI research center in Berlin'},\n",
       "  {'step': 'Debug', 'output': None},\n",
       "  {'step': 'PromptExecution',\n",
       "   'output': '[\\n  {\\n    \"title\": \"OpenAI has been acquired by Microsoft\",\\n    \"summary\": \"Microsoft has acquired OpenAI, a leading artificial intelligence research lab, in a move to strengthen its AI capabilities and research efforts.\"\\n  },\\n  {\\n    \"title\": \"Google is launching a new AI research lab in Paris\",\\n    \"summary\": \"Google is expanding its AI research presence by opening a new lab in Paris, furthering its commitment to advancing artificial intelligence technologies.\"\\n  },\\n  {\\n    \"title\": \"Meta has just released Llama 4, a multimodal AI model\",\\n    \"summary\": \"Meta, formerly known as Facebook, has unveiled Llama 4, a new multimodal AI model that aims to enhance the company\\'s AI capabilities and improve user experiences.\"\\n  },\\n  {\\n    \"title\": \"Apple is investing $1 billion in a new AI research center in Berlin\",\\n    \"summary\": \"Apple is making a significant investment of $1 billion in a new AI research center in Berlin, signaling the company\\'s commitment to advancing artificial intelligence technologies.\"\\n  }\\n]'},\n",
       "  {'step': 'ExtractJsonFromString',\n",
       "   'output': [{'title': 'OpenAI has been acquired by Microsoft',\n",
       "     'summary': 'Microsoft has acquired OpenAI, a leading artificial intelligence research lab, in a move to strengthen its AI capabilities and research efforts.'},\n",
       "    {'title': 'Google is launching a new AI research lab in Paris',\n",
       "     'summary': 'Google is expanding its AI research presence by opening a new lab in Paris, furthering its commitment to advancing artificial intelligence technologies.'},\n",
       "    {'title': 'Meta has just released Llama 4, a multimodal AI model',\n",
       "     'summary': \"Meta, formerly known as Facebook, has unveiled Llama 4, a new multimodal AI model that aims to enhance the company's AI capabilities and improve user experiences.\"},\n",
       "    {'title': 'Apple is investing $1 billion in a new AI research center in Berlin',\n",
       "     'summary': \"Apple is making a significant investment of $1 billion in a new AI research center in Berlin, signaling the company's commitment to advancing artificial intelligence technologies.\"}]},\n",
       "  {'step': 'Map',\n",
       "   'output': ['Microsoft has acquired OpenAI, a leading artificial intelligence research lab, in a move to strengthen its AI capabilities and research efforts.',\n",
       "    'Google is expanding its AI research presence by opening a new lab in Paris, furthering its commitment to advancing artificial intelligence technologies.',\n",
       "    \"Meta, formerly known as Facebook, has unveiled Llama 4, a new multimodal AI model that aims to enhance the company's AI capabilities and improve user experiences.\",\n",
       "    \"Apple is making a significant investment of $1 billion in a new AI research center in Berlin, signaling the company's commitment to advancing artificial intelligence technologies.\"]},\n",
       "  {'step': 'Debug', 'output': None},\n",
       "  {'step': 'PromptExecution',\n",
       "   'output': \"Subject: Weekly Tech Roundup: Major AI Developments from Microsoft, Google, Meta, and Apple\\n\\nDear [Recipient's Name],\\n\\nWelcome to this week's edition of our Tech Roundup! We've gathered the most exciting news in the world of artificial intelligence to keep you informed about the latest advancements and strategic moves by leading tech giants. Here's what you need to know:\\n\\n**1. Microsoft Acquires OpenAI**\\nMicrosoft has made a significant move to bolster its AI capabilities by acquiring OpenAI, a leading artificial intelligence research lab. This acquisition is expected to enhance Microsoft's research efforts and solidify its position in the AI landscape.\\n\\n**2. Google Expands AI Research in Paris**\\nGoogle is expanding its AI research footprint by opening a new lab in Paris. This initiative underscores Google's ongoing commitment to advancing artificial intelligence technologies and fostering innovation in the field.\\n\\n**3. Meta Unveils Llama 4**\\nMeta, formerly known as Facebook, has introduced Llama 4, a new multimodal AI model. This cutting-edge model is designed to enhance Meta's AI capabilities and improve user experiences across its platforms.\\n\\n**4. Apple Invests $1 Billion in Berlin AI Research Center**\\nApple is making a substantial investment of $1 billion in a new AI research center in Berlin. This move highlights Apple's dedication to advancing artificial intelligence technologies and driving innovation in the industry.\\n\\nStay tuned for more updates and insights in our next edition. If you have any questions or need further information, feel free to reach out.\\n\\nBest regards,\\n\\n[Your Name]  \\n[Your Position]  \\n[Your Contact Information]  \\n[Company Name]\\n\\n---\\n\\nThank you for subscribing to our newsletter. If you wish to unsubscribe, please click here.\\n\\n---\\n\\nFollow us on [Social Media Links]\\n\\n---\\n\\n© [Year] [Company Name]. All rights reserved.\\n\\n---\\n\\n[Company Address]\\n\\n---\\n\\nThis email was sent to [Recipient's Email Address]. If you no longer wish to receive these emails, you can unsubscribe at any time.\\n\\n---\\n\\n[Privacy Policy] | [Terms of Service]\\n\\n---\\n\\n\"}],\n",
       " 'news_titles': ['OpenAI has been acquired by Microsoft',\n",
       "  'Google is launching a new AI research lab in Paris',\n",
       "  'Meta has just released Llama 4, a multimodal AI model',\n",
       "  'Apple is investing $1 billion in a new AI research center in Berlin'],\n",
       " 'news_titles_str': 'OpenAI has been acquired by Microsoft\\nGoogle is launching a new AI research lab in Paris\\nMeta has just released Llama 4, a multimodal AI model\\nApple is investing $1 billion in a new AI research center in Berlin',\n",
       " 'summaries': '[\\n  {\\n    \"title\": \"OpenAI has been acquired by Microsoft\",\\n    \"summary\": \"Microsoft has acquired OpenAI, a leading artificial intelligence research lab, in a move to strengthen its AI capabilities and research efforts.\"\\n  },\\n  {\\n    \"title\": \"Google is launching a new AI research lab in Paris\",\\n    \"summary\": \"Google is expanding its AI research presence by opening a new lab in Paris, furthering its commitment to advancing artificial intelligence technologies.\"\\n  },\\n  {\\n    \"title\": \"Meta has just released Llama 4, a multimodal AI model\",\\n    \"summary\": \"Meta, formerly known as Facebook, has unveiled Llama 4, a new multimodal AI model that aims to enhance the company\\'s AI capabilities and improve user experiences.\"\\n  },\\n  {\\n    \"title\": \"Apple is investing $1 billion in a new AI research center in Berlin\",\\n    \"summary\": \"Apple is making a significant investment of $1 billion in a new AI research center in Berlin, signaling the company\\'s commitment to advancing artificial intelligence technologies.\"\\n  }\\n]',\n",
       " 'summaries_list': [{'title': 'OpenAI has been acquired by Microsoft',\n",
       "   'summary': 'Microsoft has acquired OpenAI, a leading artificial intelligence research lab, in a move to strengthen its AI capabilities and research efforts.'},\n",
       "  {'title': 'Google is launching a new AI research lab in Paris',\n",
       "   'summary': 'Google is expanding its AI research presence by opening a new lab in Paris, furthering its commitment to advancing artificial intelligence technologies.'},\n",
       "  {'title': 'Meta has just released Llama 4, a multimodal AI model',\n",
       "   'summary': \"Meta, formerly known as Facebook, has unveiled Llama 4, a new multimodal AI model that aims to enhance the company's AI capabilities and improve user experiences.\"},\n",
       "  {'title': 'Apple is investing $1 billion in a new AI research center in Berlin',\n",
       "   'summary': \"Apple is making a significant investment of $1 billion in a new AI research center in Berlin, signaling the company's commitment to advancing artificial intelligence technologies.\"}],\n",
       " 'summaries_without_titles': ['Microsoft has acquired OpenAI, a leading artificial intelligence research lab, in a move to strengthen its AI capabilities and research efforts.',\n",
       "  'Google is expanding its AI research presence by opening a new lab in Paris, furthering its commitment to advancing artificial intelligence technologies.',\n",
       "  \"Meta, formerly known as Facebook, has unveiled Llama 4, a new multimodal AI model that aims to enhance the company's AI capabilities and improve user experiences.\",\n",
       "  \"Apple is making a significant investment of $1 billion in a new AI research center in Berlin, signaling the company's commitment to advancing artificial intelligence technologies.\"],\n",
       " 'email': \"Subject: Weekly Tech Roundup: Major AI Developments from Microsoft, Google, Meta, and Apple\\n\\nDear [Recipient's Name],\\n\\nWelcome to this week's edition of our Tech Roundup! We've gathered the most exciting news in the world of artificial intelligence to keep you informed about the latest advancements and strategic moves by leading tech giants. Here's what you need to know:\\n\\n**1. Microsoft Acquires OpenAI**\\nMicrosoft has made a significant move to bolster its AI capabilities by acquiring OpenAI, a leading artificial intelligence research lab. This acquisition is expected to enhance Microsoft's research efforts and solidify its position in the AI landscape.\\n\\n**2. Google Expands AI Research in Paris**\\nGoogle is expanding its AI research footprint by opening a new lab in Paris. This initiative underscores Google's ongoing commitment to advancing artificial intelligence technologies and fostering innovation in the field.\\n\\n**3. Meta Unveils Llama 4**\\nMeta, formerly known as Facebook, has introduced Llama 4, a new multimodal AI model. This cutting-edge model is designed to enhance Meta's AI capabilities and improve user experiences across its platforms.\\n\\n**4. Apple Invests $1 Billion in Berlin AI Research Center**\\nApple is making a substantial investment of $1 billion in a new AI research center in Berlin. This move highlights Apple's dedication to advancing artificial intelligence technologies and driving innovation in the industry.\\n\\nStay tuned for more updates and insights in our next edition. If you have any questions or need further information, feel free to reach out.\\n\\nBest regards,\\n\\n[Your Name]  \\n[Your Position]  \\n[Your Contact Information]  \\n[Company Name]\\n\\n---\\n\\nThank you for subscribing to our newsletter. If you wish to unsubscribe, please click here.\\n\\n---\\n\\nFollow us on [Social Media Links]\\n\\n---\\n\\n© [Year] [Company Name]. All rights reserved.\\n\\n---\\n\\n[Company Address]\\n\\n---\\n\\nThis email was sent to [Recipient's Email Address]. If you no longer wish to receive these emails, you can unsubscribe at any time.\\n\\n---\\n\\n[Privacy Policy] | [Terms of Service]\\n\\n---\\n\\n\"}"
      ]
     },
     "execution_count": 5,
     "metadata": {},
     "output_type": "execute_result"
    }
   ],
   "source": [
    "result_chain.get_context()"
   ]
  },
  {
   "cell_type": "code",
   "execution_count": 3,
   "metadata": {},
   "outputs": [
    {
     "name": "stderr",
     "output_type": "stream",
     "text": [
      "INFO:httpx:HTTP Request: POST https://api.openai.com/v1/chat/completions \"HTTP/1.1 200 OK\"\n",
      "INFO:httpx:HTTP Request: POST https://api.openai.com/v1/chat/completions \"HTTP/1.1 200 OK\"\n"
     ]
    },
    {
     "name": "stdout",
     "output_type": "stream",
     "text": [
      "context {'topic': 'AI', 'news': [{'title': 'OpenAI has been acquired by Microsoft', 'content': 'Content 1'}, {'title': 'Google is launching a new AI research lab in Paris', 'content': 'Content 2'}, {'title': 'Meta has just released Llama 4, a multimodal AI model', 'content': 'Content 3'}, {'title': 'Apple is investing $1 billion in a new AI research center in Berlin', 'content': 'Content 4'}], '__steps__': [{'step': 'Fn', 'output': [{'title': 'OpenAI has been acquired by Microsoft', 'content': 'Content 1'}, {'title': 'Google is launching a new AI research lab in Paris', 'content': 'Content 2'}, {'title': 'Meta has just released Llama 4, a multimodal AI model', 'content': 'Content 3'}, {'title': 'Apple is investing $1 billion in a new AI research center in Berlin', 'content': 'Content 4'}]}, {'step': 'Debug', 'output': None}, {'step': 'Map', 'output': ['OpenAI has been acquired by Microsoft', 'Google is launching a new AI research lab in Paris', 'Meta has just released Llama 4, a multimodal AI model', 'Apple is investing $1 billion in a new AI research center in Berlin']}, {'step': 'Fn', 'output': 'OpenAI has been acquired by Microsoft\\nGoogle is launching a new AI research lab in Paris\\nMeta has just released Llama 4, a multimodal AI model\\nApple is investing $1 billion in a new AI research center in Berlin'}, {'step': 'Debug', 'output': None}, {'step': 'PromptExecution', 'output': '[\\n  {\\n    \"title\": \"OpenAI has been acquired by Microsoft\",\\n    \"summary\": \"Microsoft has acquired OpenAI, a leading artificial intelligence research lab, in a move to strengthen its AI capabilities and research efforts.\"\\n  },\\n  {\\n    \"title\": \"Google is launching a new AI research lab in Paris\",\\n    \"summary\": \"Google is expanding its AI research presence by opening a new lab in Paris, furthering its commitment to advancing artificial intelligence technologies.\"\\n  },\\n  {\\n    \"title\": \"Meta has just released Llama 4, a multimodal AI model\",\\n    \"summary\": \"Meta, formerly known as Facebook, has unveiled Llama 4, a new multimodal AI model that aims to enhance the company\\'s AI capabilities and improve user experiences.\"\\n  },\\n  {\\n    \"title\": \"Apple is investing $1 billion in a new AI research center in Berlin\",\\n    \"summary\": \"Apple is making a significant investment of $1 billion in a new AI research center in Berlin, signaling the company\\'s commitment to advancing artificial intelligence technologies.\"\\n  }\\n]'}, {'step': 'ExtractJsonFromString', 'output': [{'title': 'OpenAI has been acquired by Microsoft', 'summary': 'Microsoft has acquired OpenAI, a leading artificial intelligence research lab, in a move to strengthen its AI capabilities and research efforts.'}, {'title': 'Google is launching a new AI research lab in Paris', 'summary': 'Google is expanding its AI research presence by opening a new lab in Paris, furthering its commitment to advancing artificial intelligence technologies.'}, {'title': 'Meta has just released Llama 4, a multimodal AI model', 'summary': \"Meta, formerly known as Facebook, has unveiled Llama 4, a new multimodal AI model that aims to enhance the company's AI capabilities and improve user experiences.\"}, {'title': 'Apple is investing $1 billion in a new AI research center in Berlin', 'summary': \"Apple is making a significant investment of $1 billion in a new AI research center in Berlin, signaling the company's commitment to advancing artificial intelligence technologies.\"}]}, {'step': 'Map', 'output': ['Microsoft has acquired OpenAI, a leading artificial intelligence research lab, in a move to strengthen its AI capabilities and research efforts.', 'Google is expanding its AI research presence by opening a new lab in Paris, furthering its commitment to advancing artificial intelligence technologies.', \"Meta, formerly known as Facebook, has unveiled Llama 4, a new multimodal AI model that aims to enhance the company's AI capabilities and improve user experiences.\", \"Apple is making a significant investment of $1 billion in a new AI research center in Berlin, signaling the company's commitment to advancing artificial intelligence technologies.\"]}, {'step': 'Debug', 'output': None}, {'step': 'PromptExecution', 'output': \"Subject: Weekly Tech Roundup: Major AI Developments from Microsoft, Google, Meta, and Apple\\n\\nDear [Recipient's Name],\\n\\nWelcome to this week's edition of our Tech Roundup! We've gathered the most exciting news in the world of artificial intelligence to keep you informed about the latest advancements and strategic moves by leading tech giants. Here's what you need to know:\\n\\n**1. Microsoft Acquires OpenAI**\\nMicrosoft has made a significant move to bolster its AI capabilities by acquiring OpenAI, a leading artificial intelligence research lab. This acquisition is expected to enhance Microsoft's research efforts and solidify its position in the AI landscape.\\n\\n**2. Google Expands AI Research in Paris**\\nGoogle is expanding its AI research footprint by opening a new lab in Paris. This initiative underscores Google's ongoing commitment to advancing artificial intelligence technologies and fostering innovation in the field.\\n\\n**3. Meta Unveils Llama 4**\\nMeta, formerly known as Facebook, has introduced Llama 4, a new multimodal AI model. This cutting-edge model is designed to enhance Meta's AI capabilities and improve user experiences across its platforms.\\n\\n**4. Apple Invests $1 Billion in Berlin AI Research Center**\\nApple is making a substantial investment of $1 billion in a new AI research center in Berlin. This move highlights Apple's dedication to advancing artificial intelligence technologies and driving innovation in the industry.\\n\\nStay tuned for more updates and insights in our next edition. If you have any questions or need further information, feel free to reach out.\\n\\nBest regards,\\n\\n[Your Name]  \\n[Your Position]  \\n[Your Contact Information]  \\n[Company Name]\\n\\n---\\n\\nThank you for subscribing to our newsletter. If you wish to unsubscribe, please click here.\\n\\n---\\n\\nFollow us on [Social Media Links]\\n\\n---\\n\\n© [Year] [Company Name]. All rights reserved.\\n\\n---\\n\\n[Company Address]\\n\\n---\\n\\nThis email was sent to [Recipient's Email Address]. If you no longer wish to receive these emails, you can unsubscribe at any time.\\n\\n---\\n\\n[Privacy Policy] | [Terms of Service]\\n\\n---\\n\\n\"}], 'news_titles': ['OpenAI has been acquired by Microsoft', 'Google is launching a new AI research lab in Paris', 'Meta has just released Llama 4, a multimodal AI model', 'Apple is investing $1 billion in a new AI research center in Berlin'], 'news_titles_str': 'OpenAI has been acquired by Microsoft\\nGoogle is launching a new AI research lab in Paris\\nMeta has just released Llama 4, a multimodal AI model\\nApple is investing $1 billion in a new AI research center in Berlin', 'summaries': '[\\n  {\\n    \"title\": \"OpenAI has been acquired by Microsoft\",\\n    \"summary\": \"Microsoft has acquired OpenAI, a leading artificial intelligence research lab, in a move to strengthen its AI capabilities and research efforts.\"\\n  },\\n  {\\n    \"title\": \"Google is launching a new AI research lab in Paris\",\\n    \"summary\": \"Google is expanding its AI research presence by opening a new lab in Paris, furthering its commitment to advancing artificial intelligence technologies.\"\\n  },\\n  {\\n    \"title\": \"Meta has just released Llama 4, a multimodal AI model\",\\n    \"summary\": \"Meta, formerly known as Facebook, has unveiled Llama 4, a new multimodal AI model that aims to enhance the company\\'s AI capabilities and improve user experiences.\"\\n  },\\n  {\\n    \"title\": \"Apple is investing $1 billion in a new AI research center in Berlin\",\\n    \"summary\": \"Apple is making a significant investment of $1 billion in a new AI research center in Berlin, signaling the company\\'s commitment to advancing artificial intelligence technologies.\"\\n  }\\n]', 'summaries_list': [{'title': 'OpenAI has been acquired by Microsoft', 'summary': 'Microsoft has acquired OpenAI, a leading artificial intelligence research lab, in a move to strengthen its AI capabilities and research efforts.'}, {'title': 'Google is launching a new AI research lab in Paris', 'summary': 'Google is expanding its AI research presence by opening a new lab in Paris, furthering its commitment to advancing artificial intelligence technologies.'}, {'title': 'Meta has just released Llama 4, a multimodal AI model', 'summary': \"Meta, formerly known as Facebook, has unveiled Llama 4, a new multimodal AI model that aims to enhance the company's AI capabilities and improve user experiences.\"}, {'title': 'Apple is investing $1 billion in a new AI research center in Berlin', 'summary': \"Apple is making a significant investment of $1 billion in a new AI research center in Berlin, signaling the company's commitment to advancing artificial intelligence technologies.\"}], 'summaries_without_titles': ['Microsoft has acquired OpenAI, a leading artificial intelligence research lab, in a move to strengthen its AI capabilities and research efforts.', 'Google is expanding its AI research presence by opening a new lab in Paris, furthering its commitment to advancing artificial intelligence technologies.', \"Meta, formerly known as Facebook, has unveiled Llama 4, a new multimodal AI model that aims to enhance the company's AI capabilities and improve user experiences.\", \"Apple is making a significant investment of $1 billion in a new AI research center in Berlin, signaling the company's commitment to advancing artificial intelligence technologies.\"], 'email': \"Subject: Weekly Tech Roundup: Major AI Developments from Microsoft, Google, Meta, and Apple\\n\\nDear [Recipient's Name],\\n\\nWelcome to this week's edition of our Tech Roundup! We've gathered the most exciting news in the world of artificial intelligence to keep you informed about the latest advancements and strategic moves by leading tech giants. Here's what you need to know:\\n\\n**1. Microsoft Acquires OpenAI**\\nMicrosoft has made a significant move to bolster its AI capabilities by acquiring OpenAI, a leading artificial intelligence research lab. This acquisition is expected to enhance Microsoft's research efforts and solidify its position in the AI landscape.\\n\\n**2. Google Expands AI Research in Paris**\\nGoogle is expanding its AI research footprint by opening a new lab in Paris. This initiative underscores Google's ongoing commitment to advancing artificial intelligence technologies and fostering innovation in the field.\\n\\n**3. Meta Unveils Llama 4**\\nMeta, formerly known as Facebook, has introduced Llama 4, a new multimodal AI model. This cutting-edge model is designed to enhance Meta's AI capabilities and improve user experiences across its platforms.\\n\\n**4. Apple Invests $1 Billion in Berlin AI Research Center**\\nApple is making a substantial investment of $1 billion in a new AI research center in Berlin. This move highlights Apple's dedication to advancing artificial intelligence technologies and driving innovation in the industry.\\n\\nStay tuned for more updates and insights in our next edition. If you have any questions or need further information, feel free to reach out.\\n\\nBest regards,\\n\\n[Your Name]  \\n[Your Position]  \\n[Your Contact Information]  \\n[Company Name]\\n\\n---\\n\\nThank you for subscribing to our newsletter. If you wish to unsubscribe, please click here.\\n\\n---\\n\\nFollow us on [Social Media Links]\\n\\n---\\n\\n© [Year] [Company Name]. All rights reserved.\\n\\n---\\n\\n[Company Address]\\n\\n---\\n\\nThis email was sent to [Recipient's Email Address]. If you no longer wish to receive these emails, you can unsubscribe at any time.\\n\\n---\\n\\n[Privacy Policy] | [Terms of Service]\\n\\n---\\n\\n\"}\n"
     ]
    },
    {
     "data": {
      "text/plain": [
       "\"Subject: Weekly Tech Roundup: Major AI Developments from Microsoft, Google, Meta, and Apple\\n\\nDear [Recipient's Name],\\n\\nWelcome to this week's edition of our Tech Roundup! We've gathered the most exciting news in the world of artificial intelligence to keep you informed about the latest advancements and strategic moves by leading tech giants. Here's what you need to know:\\n\\n**1. Microsoft Acquires OpenAI**\\nMicrosoft has made a significant move to bolster its AI capabilities by acquiring OpenAI, a leading artificial intelligence research lab. This acquisition is expected to enhance Microsoft's research efforts and solidify its position in the AI landscape.\\n\\n**2. Google Expands AI Research in Paris**\\nGoogle is expanding its AI research footprint by opening a new lab in Paris. This initiative underscores Google's ongoing commitment to advancing artificial intelligence technologies and fostering innovation in the field.\\n\\n**3. Meta Unveils Llama 4**\\nMeta, formerly known as Facebook, has introduced Llama 4, a new multimodal AI model. This cutting-edge model is designed to enhance Meta's AI capabilities and improve user experiences across its platforms.\\n\\n**4. Apple Invests $1 Billion in Berlin AI Research Center**\\nApple is making a substantial investment of $1 billion in a new AI research center in Berlin. This move highlights Apple's dedication to advancing artificial intelligence technologies and driving innovation in the industry.\\n\\nStay tuned for more updates and insights in our next edition. If you have any questions or need further information, feel free to reach out.\\n\\nBest regards,\\n\\n[Your Name]  \\n[Your Position]  \\n[Your Contact Information]  \\n[Company Name]\\n\\n---\\n\\nThank you for subscribing to our newsletter. If you wish to unsubscribe, please click here.\\n\\n---\\n\\nFollow us on [Social Media Links]\\n\\n---\\n\\n© [Year] [Company Name]. All rights reserved.\\n\\n---\\n\\n[Company Address]\\n\\n---\\n\\nThis email was sent to [Recipient's Email Address]. If you no longer wish to receive these emails, you can unsubscribe at any time.\\n\\n---\\n\\n[Privacy Policy] | [Terms of Service]\\n\\n---\\n\\n\""
      ]
     },
     "execution_count": 3,
     "metadata": {},
     "output_type": "execute_result"
    }
   ],
   "source": [
    "# CHAIN 2: \n",
    "# - Get news from an API. (mocked function)\n",
    "# - Generate summaries for the news articles.\n",
    "# - Generate an email combining all the summaries.\n",
    "\n",
    "def get_news_from_api(topic: str) -> List[Dict[str, str]]:\n",
    "    return [\n",
    "        {\n",
    "            \"title\": \"OpenAI has been acquired by Microsoft\",\n",
    "            \"content\": \"Content 1\"\n",
    "        },\n",
    "        {\n",
    "            \"title\": \"Google is launching a new AI research lab in Paris\",\n",
    "            \"content\": \"Content 2\"\n",
    "        },\n",
    "        {\n",
    "            \"title\": \"Meta has just released Llama 4, a multimodal AI model\",\n",
    "            \"content\": \"Content 3\"\n",
    "        },\n",
    "        {\n",
    "            \"title\": \"Apple is investing $1 billion in a new AI research center in Berlin\",\n",
    "            \"content\": \"Content 4\"\n",
    "        },\n",
    "    ]\n",
    "\n",
    "steps = [\n",
    "    # Get news articles from an API\n",
    "    Fn(\n",
    "        fn=get_news_from_api,\n",
    "        input_key=\"topic\",\n",
    "        output_key=\"news\"\n",
    "    ),\n",
    "    Debug(),\n",
    "    # Extract the title for each news article\n",
    "    Map(\n",
    "        input_key=\"news\",\n",
    "        fn=lambda news_item: news_item['title'],\n",
    "        output_key=\"news_titles\"\n",
    "    ),\n",
    "    # Convert the news items array into a string\n",
    "    Fn(\n",
    "        input_key=\"news_titles\",\n",
    "        fn=lambda news_titles: \"\\n\".join(news_titles),\n",
    "        output_key=\"news_titles_str\"\n",
    "    ),\n",
    "    Debug(),\n",
    "    # Generate a summary for each news title\n",
    "    PromptExecution(\n",
    "        llm_service=openai_service,\n",
    "        template=PromptTemplate.simple(\"Generate a summary for the following news titles: {news_titles_str}. Return a json array. Each element of the array should have these fields: title, summary\"),\n",
    "        model=\"gpt-3.5-turbo\",\n",
    "        output_key=\"summaries\",\n",
    "    ),\n",
    "    # Extract the summaries as a JSON array of objects\n",
    "    ExtractJsonFromString(input_key=\"summaries\", output_key=\"summaries_list\"),\n",
    "    # Get the summary string (without the title) for each generated summary\n",
    "    Map(\n",
    "        input_key=\"summaries_list\",\n",
    "        fn=lambda summary: summary['summary'],\n",
    "        output_key=\"summaries_without_titles\",\n",
    "    ),\n",
    "    Debug(),\n",
    "    # Generate an email combining all the summaries\n",
    "    PromptExecution(\n",
    "        llm_service=openai_service,\n",
    "        template=PromptTemplate.simple(\"Generate a weekly roundup newsletter email from the following summaries: {summaries_without_titles}.\"),\n",
    "        model=\"gpt-4o\",\n",
    "        output_key=\"email\",\n",
    "    ),\n",
    "]\n",
    "\n",
    "chain = Chain(sequence=steps)\n",
    "result_chain = chain.run(inputs={ \"topic\": \"AI\" })\n",
    "print(\"context\", result_chain.get_context())\n",
    "\n",
    "res = result_chain.get_output(\"email\")\n",
    "\n",
    "res"
   ]
  },
  {
   "cell_type": "code",
   "execution_count": 6,
   "metadata": {},
   "outputs": [
    {
     "data": {
      "text/plain": [
       "{'topic': 'AI',\n",
       " 'news': [{'title': 'OpenAI has been acquired by Microsoft',\n",
       "   'content': 'Content 1'},\n",
       "  {'title': 'Google is launching a new AI research lab in Paris',\n",
       "   'content': 'Content 2'},\n",
       "  {'title': 'Meta has just released Llama 4, a multimodal AI model',\n",
       "   'content': 'Content 3'},\n",
       "  {'title': 'Apple is investing $1 billion in a new AI research center in Berlin',\n",
       "   'content': 'Content 4'}],\n",
       " '__steps__': [{'step': 'Fn',\n",
       "   'output': [{'title': 'OpenAI has been acquired by Microsoft',\n",
       "     'content': 'Content 1'},\n",
       "    {'title': 'Google is launching a new AI research lab in Paris',\n",
       "     'content': 'Content 2'},\n",
       "    {'title': 'Meta has just released Llama 4, a multimodal AI model',\n",
       "     'content': 'Content 3'},\n",
       "    {'title': 'Apple is investing $1 billion in a new AI research center in Berlin',\n",
       "     'content': 'Content 4'}]},\n",
       "  {'step': 'Debug', 'output': None},\n",
       "  {'step': 'Map',\n",
       "   'output': ['OpenAI has been acquired by Microsoft',\n",
       "    'Google is launching a new AI research lab in Paris',\n",
       "    'Meta has just released Llama 4, a multimodal AI model',\n",
       "    'Apple is investing $1 billion in a new AI research center in Berlin']},\n",
       "  {'step': 'Fn',\n",
       "   'output': 'OpenAI has been acquired by Microsoft\\nGoogle is launching a new AI research lab in Paris\\nMeta has just released Llama 4, a multimodal AI model\\nApple is investing $1 billion in a new AI research center in Berlin'},\n",
       "  {'step': 'Debug', 'output': None},\n",
       "  {'step': 'PromptExecution',\n",
       "   'output': '[\\n  {\\n    \"title\": \"OpenAI has been acquired by Microsoft\",\\n    \"summary\": \"Microsoft has acquired OpenAI, a leading artificial intelligence research lab, in a move to strengthen its AI capabilities and research efforts.\"\\n  },\\n  {\\n    \"title\": \"Google is launching a new AI research lab in Paris\",\\n    \"summary\": \"Google is expanding its AI research presence by opening a new lab in Paris, furthering its commitment to advancing artificial intelligence technologies.\"\\n  },\\n  {\\n    \"title\": \"Meta has just released Llama 4, a multimodal AI model\",\\n    \"summary\": \"Meta, formerly known as Facebook, has unveiled Llama 4, a new multimodal AI model that aims to enhance the company\\'s AI capabilities and improve user experiences.\"\\n  },\\n  {\\n    \"title\": \"Apple is investing $1 billion in a new AI research center in Berlin\",\\n    \"summary\": \"Apple is making a significant investment of $1 billion in a new AI research center in Berlin, signaling the company\\'s commitment to advancing artificial intelligence technologies.\"\\n  }\\n]'},\n",
       "  {'step': 'ExtractJsonFromString',\n",
       "   'output': [{'title': 'OpenAI has been acquired by Microsoft',\n",
       "     'summary': 'Microsoft has acquired OpenAI, a leading artificial intelligence research lab, in a move to strengthen its AI capabilities and research efforts.'},\n",
       "    {'title': 'Google is launching a new AI research lab in Paris',\n",
       "     'summary': 'Google is expanding its AI research presence by opening a new lab in Paris, furthering its commitment to advancing artificial intelligence technologies.'},\n",
       "    {'title': 'Meta has just released Llama 4, a multimodal AI model',\n",
       "     'summary': \"Meta, formerly known as Facebook, has unveiled Llama 4, a new multimodal AI model that aims to enhance the company's AI capabilities and improve user experiences.\"},\n",
       "    {'title': 'Apple is investing $1 billion in a new AI research center in Berlin',\n",
       "     'summary': \"Apple is making a significant investment of $1 billion in a new AI research center in Berlin, signaling the company's commitment to advancing artificial intelligence technologies.\"}]},\n",
       "  {'step': 'Map',\n",
       "   'output': ['Microsoft has acquired OpenAI, a leading artificial intelligence research lab, in a move to strengthen its AI capabilities and research efforts.',\n",
       "    'Google is expanding its AI research presence by opening a new lab in Paris, furthering its commitment to advancing artificial intelligence technologies.',\n",
       "    \"Meta, formerly known as Facebook, has unveiled Llama 4, a new multimodal AI model that aims to enhance the company's AI capabilities and improve user experiences.\",\n",
       "    \"Apple is making a significant investment of $1 billion in a new AI research center in Berlin, signaling the company's commitment to advancing artificial intelligence technologies.\"]},\n",
       "  {'step': 'Debug', 'output': None},\n",
       "  {'step': 'PromptExecution',\n",
       "   'output': \"Subject: Weekly Tech Roundup: Major AI Developments from Microsoft, Google, Meta, and Apple\\n\\nDear [Recipient's Name],\\n\\nWelcome to this week's edition of our Tech Roundup! We've gathered the most exciting news in the world of artificial intelligence to keep you informed about the latest advancements and strategic moves by leading tech giants. Here's what you need to know:\\n\\n**1. Microsoft Acquires OpenAI**\\nMicrosoft has made a significant move to bolster its AI capabilities by acquiring OpenAI, a leading artificial intelligence research lab. This acquisition is expected to enhance Microsoft's research efforts and solidify its position in the AI landscape.\\n\\n**2. Google Expands AI Research in Paris**\\nGoogle is expanding its AI research footprint by opening a new lab in Paris. This initiative underscores Google's ongoing commitment to advancing artificial intelligence technologies and fostering innovation in the field.\\n\\n**3. Meta Unveils Llama 4**\\nMeta, formerly known as Facebook, has introduced Llama 4, a new multimodal AI model. This cutting-edge model is designed to enhance Meta's AI capabilities and improve user experiences across its platforms.\\n\\n**4. Apple Invests $1 Billion in Berlin AI Research Center**\\nApple is making a substantial investment of $1 billion in a new AI research center in Berlin. This move highlights Apple's dedication to advancing artificial intelligence technologies and driving innovation in the industry.\\n\\nStay tuned for more updates and insights in our next edition. If you have any questions or need further information, feel free to reach out.\\n\\nBest regards,\\n\\n[Your Name]  \\n[Your Position]  \\n[Your Contact Information]  \\n[Company Name]\\n\\n---\\n\\nThank you for subscribing to our newsletter. If you wish to unsubscribe, please click here.\\n\\n---\\n\\nFollow us on [Social Media Links]\\n\\n---\\n\\n© [Year] [Company Name]. All rights reserved.\\n\\n---\\n\\n[Company Address]\\n\\n---\\n\\nThis email was sent to [Recipient's Email Address]. If you no longer wish to receive these emails, you can unsubscribe at any time.\\n\\n---\\n\\n[Privacy Policy] | [Terms of Service]\\n\\n---\\n\\n\"}],\n",
       " 'news_titles': ['OpenAI has been acquired by Microsoft',\n",
       "  'Google is launching a new AI research lab in Paris',\n",
       "  'Meta has just released Llama 4, a multimodal AI model',\n",
       "  'Apple is investing $1 billion in a new AI research center in Berlin'],\n",
       " 'news_titles_str': 'OpenAI has been acquired by Microsoft\\nGoogle is launching a new AI research lab in Paris\\nMeta has just released Llama 4, a multimodal AI model\\nApple is investing $1 billion in a new AI research center in Berlin',\n",
       " 'summaries': '[\\n  {\\n    \"title\": \"OpenAI has been acquired by Microsoft\",\\n    \"summary\": \"Microsoft has acquired OpenAI, a leading artificial intelligence research lab, in a move to strengthen its AI capabilities and research efforts.\"\\n  },\\n  {\\n    \"title\": \"Google is launching a new AI research lab in Paris\",\\n    \"summary\": \"Google is expanding its AI research presence by opening a new lab in Paris, furthering its commitment to advancing artificial intelligence technologies.\"\\n  },\\n  {\\n    \"title\": \"Meta has just released Llama 4, a multimodal AI model\",\\n    \"summary\": \"Meta, formerly known as Facebook, has unveiled Llama 4, a new multimodal AI model that aims to enhance the company\\'s AI capabilities and improve user experiences.\"\\n  },\\n  {\\n    \"title\": \"Apple is investing $1 billion in a new AI research center in Berlin\",\\n    \"summary\": \"Apple is making a significant investment of $1 billion in a new AI research center in Berlin, signaling the company\\'s commitment to advancing artificial intelligence technologies.\"\\n  }\\n]',\n",
       " 'summaries_list': [{'title': 'OpenAI has been acquired by Microsoft',\n",
       "   'summary': 'Microsoft has acquired OpenAI, a leading artificial intelligence research lab, in a move to strengthen its AI capabilities and research efforts.'},\n",
       "  {'title': 'Google is launching a new AI research lab in Paris',\n",
       "   'summary': 'Google is expanding its AI research presence by opening a new lab in Paris, furthering its commitment to advancing artificial intelligence technologies.'},\n",
       "  {'title': 'Meta has just released Llama 4, a multimodal AI model',\n",
       "   'summary': \"Meta, formerly known as Facebook, has unveiled Llama 4, a new multimodal AI model that aims to enhance the company's AI capabilities and improve user experiences.\"},\n",
       "  {'title': 'Apple is investing $1 billion in a new AI research center in Berlin',\n",
       "   'summary': \"Apple is making a significant investment of $1 billion in a new AI research center in Berlin, signaling the company's commitment to advancing artificial intelligence technologies.\"}],\n",
       " 'summaries_without_titles': ['Microsoft has acquired OpenAI, a leading artificial intelligence research lab, in a move to strengthen its AI capabilities and research efforts.',\n",
       "  'Google is expanding its AI research presence by opening a new lab in Paris, furthering its commitment to advancing artificial intelligence technologies.',\n",
       "  \"Meta, formerly known as Facebook, has unveiled Llama 4, a new multimodal AI model that aims to enhance the company's AI capabilities and improve user experiences.\",\n",
       "  \"Apple is making a significant investment of $1 billion in a new AI research center in Berlin, signaling the company's commitment to advancing artificial intelligence technologies.\"],\n",
       " 'email': \"Subject: Weekly Tech Roundup: Major AI Developments from Microsoft, Google, Meta, and Apple\\n\\nDear [Recipient's Name],\\n\\nWelcome to this week's edition of our Tech Roundup! We've gathered the most exciting news in the world of artificial intelligence to keep you informed about the latest advancements and strategic moves by leading tech giants. Here's what you need to know:\\n\\n**1. Microsoft Acquires OpenAI**\\nMicrosoft has made a significant move to bolster its AI capabilities by acquiring OpenAI, a leading artificial intelligence research lab. This acquisition is expected to enhance Microsoft's research efforts and solidify its position in the AI landscape.\\n\\n**2. Google Expands AI Research in Paris**\\nGoogle is expanding its AI research footprint by opening a new lab in Paris. This initiative underscores Google's ongoing commitment to advancing artificial intelligence technologies and fostering innovation in the field.\\n\\n**3. Meta Unveils Llama 4**\\nMeta, formerly known as Facebook, has introduced Llama 4, a new multimodal AI model. This cutting-edge model is designed to enhance Meta's AI capabilities and improve user experiences across its platforms.\\n\\n**4. Apple Invests $1 Billion in Berlin AI Research Center**\\nApple is making a substantial investment of $1 billion in a new AI research center in Berlin. This move highlights Apple's dedication to advancing artificial intelligence technologies and driving innovation in the industry.\\n\\nStay tuned for more updates and insights in our next edition. If you have any questions or need further information, feel free to reach out.\\n\\nBest regards,\\n\\n[Your Name]  \\n[Your Position]  \\n[Your Contact Information]  \\n[Company Name]\\n\\n---\\n\\nThank you for subscribing to our newsletter. If you wish to unsubscribe, please click here.\\n\\n---\\n\\nFollow us on [Social Media Links]\\n\\n---\\n\\n© [Year] [Company Name]. All rights reserved.\\n\\n---\\n\\n[Company Address]\\n\\n---\\n\\nThis email was sent to [Recipient's Email Address]. If you no longer wish to receive these emails, you can unsubscribe at any time.\\n\\n---\\n\\n[Privacy Policy] | [Terms of Service]\\n\\n---\\n\\n\"}"
      ]
     },
     "execution_count": 6,
     "metadata": {},
     "output_type": "execute_result"
    }
   ],
   "source": [
    "result_chain.get_context()"
   ]
  },
  {
   "cell_type": "code",
   "execution_count": null,
   "metadata": {},
   "outputs": [],
   "source": []
  }
 ],
 "metadata": {
  "kernelspec": {
   "display_name": ".venvtest",
   "language": "python",
   "name": "python3"
  },
  "language_info": {
   "codemirror_mode": {
    "name": "ipython",
    "version": 3
   },
   "file_extension": ".py",
   "mimetype": "text/x-python",
   "name": "python",
   "nbconvert_exporter": "python",
   "pygments_lexer": "ipython3",
   "version": "3.9.16"
  }
 },
 "nbformat": 4,
 "nbformat_minor": 2
}
