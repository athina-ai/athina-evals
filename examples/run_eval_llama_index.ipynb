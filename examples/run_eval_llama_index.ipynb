{
 "cells": [
  {
   "cell_type": "code",
   "execution_count": 1,
   "metadata": {},
   "outputs": [
    {
     "name": "stderr",
     "output_type": "stream",
     "text": [
      "/Users/akshat_g/athina/repos/athina-evals/.venv/lib/python3.9/site-packages/urllib3/__init__.py:35: NotOpenSSLWarning: urllib3 v2 only supports OpenSSL 1.1.1+, currently the 'ssl' module is compiled with 'LibreSSL 2.8.3'. See: https://github.com/urllib3/urllib3/issues/3020\n",
      "  warnings.warn(\n",
      "/Users/akshat_g/athina/repos/athina-evals/.venv/lib/python3.9/site-packages/tqdm/auto.py:21: TqdmWarning: IProgress not found. Please update jupyter and ipywidgets. See https://ipywidgets.readthedocs.io/en/stable/user_install.html\n",
      "  from .autonotebook import tqdm as notebook_tqdm\n"
     ]
    }
   ],
   "source": [
    "import os\n",
    "from athina.evals import (\n",
    "    RagasAnswerRelevancy,\n",
    "    RagasContextPrecision,\n",
    "    RagasFaithfulness,\n",
    "    RagasContextRecall,\n",
    "    RagasAnswerSemanticSimilarity,\n",
    "    RagasAnswerCorrectness,\n",
    "    RagasHarmfulness,\n",
    "    RagasMaliciousness,\n",
    "    RagasCoherence,\n",
    "    RagasConciseness\n",
    ")\n",
    "from athina.runner.run import EvalRunner\n",
    "from athina.loaders import Loader\n",
    "from athina.keys import AthinaApiKey, OpenAiApiKey\n",
    "import pandas as pd\n",
    "\n",
    "from llama_index.core import VectorStoreIndex, SimpleDirectoryReader, ServiceContext\n",
    "from llama_index.core import download_loader\n",
    "\n",
    "\n",
    "from dotenv import load_dotenv\n",
    "load_dotenv()\n",
    "\n",
    "OpenAiApiKey.set_key(os.getenv('OPENAI_API_KEY'))\n",
    "AthinaApiKey.set_key(os.getenv('ATHINA_API_KEY'))"
   ]
  },
  {
   "cell_type": "code",
   "execution_count": 2,
   "metadata": {},
   "outputs": [
    {
     "name": "stderr",
     "output_type": "stream",
     "text": [
      "/var/folders/0b/_h4f9ghn63nfj95jmn8xwvc40000gn/T/ipykernel_82610/2851782463.py:2: DeprecationWarning: Call to deprecated function (or staticmethod) download_loader. (`download_loader()` is deprecated. Please install tool using pip install directly instead.)\n",
      "  WikipediaReader = download_loader(\"WikipediaReader\")\n"
     ]
    },
    {
     "name": "stdout",
     "output_type": "stream",
     "text": [
      "Collecting llama-index-readers-wikipedia\n",
      "  Downloading llama_index_readers_wikipedia-0.1.4-py3-none-any.whl.metadata (625 bytes)\n",
      "Requirement already satisfied: llama-index-core<0.11.0,>=0.10.1 in /Users/akshat_g/athina/repos/athina-evals/.venv/lib/python3.9/site-packages (from llama-index-readers-wikipedia) (0.10.62)\n",
      "Requirement already satisfied: PyYAML>=6.0.1 in /Users/akshat_g/athina/repos/athina-evals/.venv/lib/python3.9/site-packages (from llama-index-core<0.11.0,>=0.10.1->llama-index-readers-wikipedia) (6.0.2)\n",
      "Requirement already satisfied: SQLAlchemy>=1.4.49 in /Users/akshat_g/athina/repos/athina-evals/.venv/lib/python3.9/site-packages (from SQLAlchemy[asyncio]>=1.4.49->llama-index-core<0.11.0,>=0.10.1->llama-index-readers-wikipedia) (2.0.32)\n",
      "Requirement already satisfied: aiohttp<4.0.0,>=3.8.6 in /Users/akshat_g/athina/repos/athina-evals/.venv/lib/python3.9/site-packages (from llama-index-core<0.11.0,>=0.10.1->llama-index-readers-wikipedia) (3.10.1)\n",
      "Requirement already satisfied: dataclasses-json in /Users/akshat_g/athina/repos/athina-evals/.venv/lib/python3.9/site-packages (from llama-index-core<0.11.0,>=0.10.1->llama-index-readers-wikipedia) (0.6.7)\n",
      "Requirement already satisfied: deprecated>=1.2.9.3 in /Users/akshat_g/athina/repos/athina-evals/.venv/lib/python3.9/site-packages (from llama-index-core<0.11.0,>=0.10.1->llama-index-readers-wikipedia) (1.2.14)\n",
      "Requirement already satisfied: dirtyjson<2.0.0,>=1.0.8 in /Users/akshat_g/athina/repos/athina-evals/.venv/lib/python3.9/site-packages (from llama-index-core<0.11.0,>=0.10.1->llama-index-readers-wikipedia) (1.0.8)\n",
      "Requirement already satisfied: fsspec>=2023.5.0 in /Users/akshat_g/athina/repos/athina-evals/.venv/lib/python3.9/site-packages (from llama-index-core<0.11.0,>=0.10.1->llama-index-readers-wikipedia) (2024.5.0)\n",
      "Requirement already satisfied: httpx in /Users/akshat_g/athina/repos/athina-evals/.venv/lib/python3.9/site-packages (from llama-index-core<0.11.0,>=0.10.1->llama-index-readers-wikipedia) (0.27.0)\n",
      "Requirement already satisfied: nest-asyncio<2.0.0,>=1.5.8 in /Users/akshat_g/athina/repos/athina-evals/.venv/lib/python3.9/site-packages (from llama-index-core<0.11.0,>=0.10.1->llama-index-readers-wikipedia) (1.6.0)\n",
      "Requirement already satisfied: networkx>=3.0 in /Users/akshat_g/athina/repos/athina-evals/.venv/lib/python3.9/site-packages (from llama-index-core<0.11.0,>=0.10.1->llama-index-readers-wikipedia) (3.2.1)\n",
      "Requirement already satisfied: nltk<4.0.0,>=3.8.1 in /Users/akshat_g/athina/repos/athina-evals/.venv/lib/python3.9/site-packages (from llama-index-core<0.11.0,>=0.10.1->llama-index-readers-wikipedia) (3.8.1)\n",
      "Requirement already satisfied: numpy<2.0.0 in /Users/akshat_g/athina/repos/athina-evals/.venv/lib/python3.9/site-packages (from llama-index-core<0.11.0,>=0.10.1->llama-index-readers-wikipedia) (1.26.4)\n",
      "Requirement already satisfied: openai>=1.1.0 in /Users/akshat_g/athina/repos/athina-evals/.venv/lib/python3.9/site-packages (from llama-index-core<0.11.0,>=0.10.1->llama-index-readers-wikipedia) (1.40.1)\n",
      "Requirement already satisfied: pandas in /Users/akshat_g/athina/repos/athina-evals/.venv/lib/python3.9/site-packages (from llama-index-core<0.11.0,>=0.10.1->llama-index-readers-wikipedia) (2.2.2)\n",
      "Requirement already satisfied: pillow>=9.0.0 in /Users/akshat_g/athina/repos/athina-evals/.venv/lib/python3.9/site-packages (from llama-index-core<0.11.0,>=0.10.1->llama-index-readers-wikipedia) (10.4.0)\n",
      "Requirement already satisfied: requests>=2.31.0 in /Users/akshat_g/athina/repos/athina-evals/.venv/lib/python3.9/site-packages (from llama-index-core<0.11.0,>=0.10.1->llama-index-readers-wikipedia) (2.32.3)\n",
      "Requirement already satisfied: tenacity!=8.4.0,<9.0.0,>=8.2.0 in /Users/akshat_g/athina/repos/athina-evals/.venv/lib/python3.9/site-packages (from llama-index-core<0.11.0,>=0.10.1->llama-index-readers-wikipedia) (8.5.0)\n",
      "Requirement already satisfied: tiktoken>=0.3.3 in /Users/akshat_g/athina/repos/athina-evals/.venv/lib/python3.9/site-packages (from llama-index-core<0.11.0,>=0.10.1->llama-index-readers-wikipedia) (0.7.0)\n",
      "Requirement already satisfied: tqdm<5.0.0,>=4.66.1 in /Users/akshat_g/athina/repos/athina-evals/.venv/lib/python3.9/site-packages (from llama-index-core<0.11.0,>=0.10.1->llama-index-readers-wikipedia) (4.66.5)\n",
      "Requirement already satisfied: typing-extensions>=4.5.0 in /Users/akshat_g/athina/repos/athina-evals/.venv/lib/python3.9/site-packages (from llama-index-core<0.11.0,>=0.10.1->llama-index-readers-wikipedia) (4.12.2)\n",
      "Requirement already satisfied: typing-inspect>=0.8.0 in /Users/akshat_g/athina/repos/athina-evals/.venv/lib/python3.9/site-packages (from llama-index-core<0.11.0,>=0.10.1->llama-index-readers-wikipedia) (0.9.0)\n",
      "Requirement already satisfied: wrapt in /Users/akshat_g/athina/repos/athina-evals/.venv/lib/python3.9/site-packages (from llama-index-core<0.11.0,>=0.10.1->llama-index-readers-wikipedia) (1.16.0)\n",
      "Requirement already satisfied: aiohappyeyeballs>=2.3.0 in /Users/akshat_g/athina/repos/athina-evals/.venv/lib/python3.9/site-packages (from aiohttp<4.0.0,>=3.8.6->llama-index-core<0.11.0,>=0.10.1->llama-index-readers-wikipedia) (2.3.5)\n",
      "Requirement already satisfied: aiosignal>=1.1.2 in /Users/akshat_g/athina/repos/athina-evals/.venv/lib/python3.9/site-packages (from aiohttp<4.0.0,>=3.8.6->llama-index-core<0.11.0,>=0.10.1->llama-index-readers-wikipedia) (1.3.1)\n",
      "Requirement already satisfied: attrs>=17.3.0 in /Users/akshat_g/athina/repos/athina-evals/.venv/lib/python3.9/site-packages (from aiohttp<4.0.0,>=3.8.6->llama-index-core<0.11.0,>=0.10.1->llama-index-readers-wikipedia) (24.2.0)\n",
      "Requirement already satisfied: frozenlist>=1.1.1 in /Users/akshat_g/athina/repos/athina-evals/.venv/lib/python3.9/site-packages (from aiohttp<4.0.0,>=3.8.6->llama-index-core<0.11.0,>=0.10.1->llama-index-readers-wikipedia) (1.4.1)\n",
      "Requirement already satisfied: multidict<7.0,>=4.5 in /Users/akshat_g/athina/repos/athina-evals/.venv/lib/python3.9/site-packages (from aiohttp<4.0.0,>=3.8.6->llama-index-core<0.11.0,>=0.10.1->llama-index-readers-wikipedia) (6.0.5)\n",
      "Requirement already satisfied: yarl<2.0,>=1.0 in /Users/akshat_g/athina/repos/athina-evals/.venv/lib/python3.9/site-packages (from aiohttp<4.0.0,>=3.8.6->llama-index-core<0.11.0,>=0.10.1->llama-index-readers-wikipedia) (1.9.4)\n",
      "Requirement already satisfied: async-timeout<5.0,>=4.0 in /Users/akshat_g/athina/repos/athina-evals/.venv/lib/python3.9/site-packages (from aiohttp<4.0.0,>=3.8.6->llama-index-core<0.11.0,>=0.10.1->llama-index-readers-wikipedia) (4.0.3)\n",
      "Requirement already satisfied: click in /Users/akshat_g/athina/repos/athina-evals/.venv/lib/python3.9/site-packages (from nltk<4.0.0,>=3.8.1->llama-index-core<0.11.0,>=0.10.1->llama-index-readers-wikipedia) (8.1.7)\n",
      "Requirement already satisfied: joblib in /Users/akshat_g/athina/repos/athina-evals/.venv/lib/python3.9/site-packages (from nltk<4.0.0,>=3.8.1->llama-index-core<0.11.0,>=0.10.1->llama-index-readers-wikipedia) (1.4.2)\n",
      "Requirement already satisfied: regex>=2021.8.3 in /Users/akshat_g/athina/repos/athina-evals/.venv/lib/python3.9/site-packages (from nltk<4.0.0,>=3.8.1->llama-index-core<0.11.0,>=0.10.1->llama-index-readers-wikipedia) (2024.7.24)\n",
      "Requirement already satisfied: anyio<5,>=3.5.0 in /Users/akshat_g/athina/repos/athina-evals/.venv/lib/python3.9/site-packages (from openai>=1.1.0->llama-index-core<0.11.0,>=0.10.1->llama-index-readers-wikipedia) (4.4.0)\n",
      "Requirement already satisfied: distro<2,>=1.7.0 in /Users/akshat_g/athina/repos/athina-evals/.venv/lib/python3.9/site-packages (from openai>=1.1.0->llama-index-core<0.11.0,>=0.10.1->llama-index-readers-wikipedia) (1.9.0)\n",
      "Requirement already satisfied: jiter<1,>=0.4.0 in /Users/akshat_g/athina/repos/athina-evals/.venv/lib/python3.9/site-packages (from openai>=1.1.0->llama-index-core<0.11.0,>=0.10.1->llama-index-readers-wikipedia) (0.5.0)\n",
      "Requirement already satisfied: pydantic<3,>=1.9.0 in /Users/akshat_g/athina/repos/athina-evals/.venv/lib/python3.9/site-packages (from openai>=1.1.0->llama-index-core<0.11.0,>=0.10.1->llama-index-readers-wikipedia) (2.8.2)\n",
      "Requirement already satisfied: sniffio in /Users/akshat_g/athina/repos/athina-evals/.venv/lib/python3.9/site-packages (from openai>=1.1.0->llama-index-core<0.11.0,>=0.10.1->llama-index-readers-wikipedia) (1.3.1)\n",
      "Requirement already satisfied: certifi in /Users/akshat_g/athina/repos/athina-evals/.venv/lib/python3.9/site-packages (from httpx->llama-index-core<0.11.0,>=0.10.1->llama-index-readers-wikipedia) (2024.7.4)\n",
      "Requirement already satisfied: httpcore==1.* in /Users/akshat_g/athina/repos/athina-evals/.venv/lib/python3.9/site-packages (from httpx->llama-index-core<0.11.0,>=0.10.1->llama-index-readers-wikipedia) (1.0.5)\n",
      "Requirement already satisfied: idna in /Users/akshat_g/athina/repos/athina-evals/.venv/lib/python3.9/site-packages (from httpx->llama-index-core<0.11.0,>=0.10.1->llama-index-readers-wikipedia) (3.7)\n",
      "Requirement already satisfied: h11<0.15,>=0.13 in /Users/akshat_g/athina/repos/athina-evals/.venv/lib/python3.9/site-packages (from httpcore==1.*->httpx->llama-index-core<0.11.0,>=0.10.1->llama-index-readers-wikipedia) (0.14.0)\n",
      "Requirement already satisfied: charset-normalizer<4,>=2 in /Users/akshat_g/athina/repos/athina-evals/.venv/lib/python3.9/site-packages (from requests>=2.31.0->llama-index-core<0.11.0,>=0.10.1->llama-index-readers-wikipedia) (3.3.2)\n",
      "Requirement already satisfied: urllib3<3,>=1.21.1 in /Users/akshat_g/athina/repos/athina-evals/.venv/lib/python3.9/site-packages (from requests>=2.31.0->llama-index-core<0.11.0,>=0.10.1->llama-index-readers-wikipedia) (2.2.2)\n",
      "Requirement already satisfied: greenlet!=0.4.17 in /Users/akshat_g/athina/repos/athina-evals/.venv/lib/python3.9/site-packages (from SQLAlchemy[asyncio]>=1.4.49->llama-index-core<0.11.0,>=0.10.1->llama-index-readers-wikipedia) (3.0.3)\n",
      "Requirement already satisfied: mypy-extensions>=0.3.0 in /Users/akshat_g/athina/repos/athina-evals/.venv/lib/python3.9/site-packages (from typing-inspect>=0.8.0->llama-index-core<0.11.0,>=0.10.1->llama-index-readers-wikipedia) (1.0.0)\n",
      "Requirement already satisfied: marshmallow<4.0.0,>=3.18.0 in /Users/akshat_g/athina/repos/athina-evals/.venv/lib/python3.9/site-packages (from dataclasses-json->llama-index-core<0.11.0,>=0.10.1->llama-index-readers-wikipedia) (3.21.3)\n",
      "Requirement already satisfied: python-dateutil>=2.8.2 in /Users/akshat_g/athina/repos/athina-evals/.venv/lib/python3.9/site-packages (from pandas->llama-index-core<0.11.0,>=0.10.1->llama-index-readers-wikipedia) (2.9.0.post0)\n",
      "Requirement already satisfied: pytz>=2020.1 in /Users/akshat_g/athina/repos/athina-evals/.venv/lib/python3.9/site-packages (from pandas->llama-index-core<0.11.0,>=0.10.1->llama-index-readers-wikipedia) (2024.1)\n",
      "Requirement already satisfied: tzdata>=2022.7 in /Users/akshat_g/athina/repos/athina-evals/.venv/lib/python3.9/site-packages (from pandas->llama-index-core<0.11.0,>=0.10.1->llama-index-readers-wikipedia) (2024.1)\n",
      "Requirement already satisfied: exceptiongroup>=1.0.2 in /Users/akshat_g/athina/repos/athina-evals/.venv/lib/python3.9/site-packages (from anyio<5,>=3.5.0->openai>=1.1.0->llama-index-core<0.11.0,>=0.10.1->llama-index-readers-wikipedia) (1.2.2)\n",
      "Requirement already satisfied: packaging>=17.0 in /Users/akshat_g/athina/repos/athina-evals/.venv/lib/python3.9/site-packages (from marshmallow<4.0.0,>=3.18.0->dataclasses-json->llama-index-core<0.11.0,>=0.10.1->llama-index-readers-wikipedia) (24.1)\n",
      "Requirement already satisfied: annotated-types>=0.4.0 in /Users/akshat_g/athina/repos/athina-evals/.venv/lib/python3.9/site-packages (from pydantic<3,>=1.9.0->openai>=1.1.0->llama-index-core<0.11.0,>=0.10.1->llama-index-readers-wikipedia) (0.7.0)\n",
      "Requirement already satisfied: pydantic-core==2.20.1 in /Users/akshat_g/athina/repos/athina-evals/.venv/lib/python3.9/site-packages (from pydantic<3,>=1.9.0->openai>=1.1.0->llama-index-core<0.11.0,>=0.10.1->llama-index-readers-wikipedia) (2.20.1)\n",
      "Requirement already satisfied: six>=1.5 in /Users/akshat_g/athina/repos/athina-evals/.venv/lib/python3.9/site-packages (from python-dateutil>=2.8.2->pandas->llama-index-core<0.11.0,>=0.10.1->llama-index-readers-wikipedia) (1.16.0)\n",
      "Downloading llama_index_readers_wikipedia-0.1.4-py3-none-any.whl (2.3 kB)\n",
      "Installing collected packages: llama-index-readers-wikipedia\n",
      "Successfully installed llama-index-readers-wikipedia-0.1.4\n"
     ]
    },
    {
     "name": "stderr",
     "output_type": "stream",
     "text": [
      "\n",
      "\u001b[1m[\u001b[0m\u001b[34;49mnotice\u001b[0m\u001b[1;39;49m]\u001b[0m\u001b[39;49m A new release of pip is available: \u001b[0m\u001b[31;49m24.0\u001b[0m\u001b[39;49m -> \u001b[0m\u001b[32;49m24.2\u001b[0m\n",
      "\u001b[1m[\u001b[0m\u001b[34;49mnotice\u001b[0m\u001b[1;39;49m]\u001b[0m\u001b[39;49m To update, run: \u001b[0m\u001b[32;49mpip install --upgrade pip\u001b[0m\n",
      "/var/folders/0b/_h4f9ghn63nfj95jmn8xwvc40000gn/T/ipykernel_82610/2851782463.py:6: DeprecationWarning: Call to deprecated class method from_defaults. (ServiceContext is deprecated, please use `llama_index.settings.Settings` instead.) -- Deprecated since version 0.10.0.\n",
      "  documents, service_context=ServiceContext.from_defaults(chunk_size=512)\n"
     ]
    }
   ],
   "source": [
    "# create a llamaindex query engine\n",
    "WikipediaReader = download_loader(\"WikipediaReader\")\n",
    "loader = WikipediaReader()\n",
    "documents = loader.load_data(pages=['Berlin'])\n",
    "vector_index = VectorStoreIndex.from_documents(\n",
    "    documents, service_context=ServiceContext.from_defaults(chunk_size=512)\n",
    ")\n",
    "\n",
    "query_engine = vector_index.as_query_engine()"
   ]
  },
  {
   "cell_type": "code",
   "execution_count": 3,
   "metadata": {},
   "outputs": [],
   "source": [
    "raw_data_llama_index = [\n",
    "    {\n",
    "        \"query\": \"Where is Berlin?\",\n",
    "        \"expected_response\": \"Berlin is the capital city of Germany\"\n",
    "    },\n",
    "    {\n",
    "        \"query\": \"What is the main cuisine of Rome?\",\n",
    "        \"expected_response\": \"Pasta dish with a sauce made with egg yolks\"\n",
    "    },\n",
    "]"
   ]
  },
  {
   "cell_type": "code",
   "execution_count": 4,
   "metadata": {},
   "outputs": [
    {
     "data": {
      "text/html": [
       "<div>\n",
       "<style scoped>\n",
       "    .dataframe tbody tr th:only-of-type {\n",
       "        vertical-align: middle;\n",
       "    }\n",
       "\n",
       "    .dataframe tbody tr th {\n",
       "        vertical-align: top;\n",
       "    }\n",
       "\n",
       "    .dataframe thead th {\n",
       "        text-align: right;\n",
       "    }\n",
       "</style>\n",
       "<table border=\"1\" class=\"dataframe\">\n",
       "  <thead>\n",
       "    <tr style=\"text-align: right;\">\n",
       "      <th></th>\n",
       "      <th>query</th>\n",
       "      <th>context</th>\n",
       "      <th>response</th>\n",
       "      <th>expected_response</th>\n",
       "    </tr>\n",
       "  </thead>\n",
       "  <tbody>\n",
       "    <tr>\n",
       "      <th>0</th>\n",
       "      <td>Where is Berlin?</td>\n",
       "      <td>[Berlin is the capital and largest city of Ger...</td>\n",
       "      <td>Berlin is located in northeastern Germany.</td>\n",
       "      <td>Berlin is the capital city of Germany</td>\n",
       "    </tr>\n",
       "    <tr>\n",
       "      <th>1</th>\n",
       "      <td>What is the main cuisine of Rome?</td>\n",
       "      <td>[There are seven symphony orchestras in Berlin...</td>\n",
       "      <td>Berlin is well known for its offerings of vege...</td>\n",
       "      <td>Pasta dish with a sauce made with egg yolks</td>\n",
       "    </tr>\n",
       "  </tbody>\n",
       "</table>\n",
       "</div>"
      ],
      "text/plain": [
       "                               query  \\\n",
       "0                   Where is Berlin?   \n",
       "1  What is the main cuisine of Rome?   \n",
       "\n",
       "                                             context  \\\n",
       "0  [Berlin is the capital and largest city of Ger...   \n",
       "1  [There are seven symphony orchestras in Berlin...   \n",
       "\n",
       "                                            response  \\\n",
       "0         Berlin is located in northeastern Germany.   \n",
       "1  Berlin is well known for its offerings of vege...   \n",
       "\n",
       "                             expected_response  \n",
       "0        Berlin is the capital city of Germany  \n",
       "1  Pasta dish with a sauce made with egg yolks  "
      ]
     },
     "execution_count": 4,
     "metadata": {},
     "output_type": "execute_result"
    }
   ],
   "source": [
    "llama_index_dataset = Loader().load_from_llama_index(raw_data_llama_index, query_engine)\n",
    "pd.DataFrame(llama_index_dataset)"
   ]
  },
  {
   "cell_type": "code",
   "execution_count": 5,
   "metadata": {},
   "outputs": [
    {
     "ename": "TypeError",
     "evalue": "__init__() missing 3 required positional arguments: 'api_key', 'model', and 'provider'",
     "output_type": "error",
     "traceback": [
      "\u001b[0;31m---------------------------------------------------------------------------\u001b[0m",
      "\u001b[0;31mTypeError\u001b[0m                                 Traceback (most recent call last)",
      "Cell \u001b[0;32mIn[5], line 3\u001b[0m\n\u001b[1;32m      1\u001b[0m eval_model \u001b[38;5;241m=\u001b[39m \u001b[38;5;124m\"\u001b[39m\u001b[38;5;124mgpt-3.5-turbo\u001b[39m\u001b[38;5;124m\"\u001b[39m\n\u001b[1;32m      2\u001b[0m eval_suite \u001b[38;5;241m=\u001b[39m [\n\u001b[0;32m----> 3\u001b[0m     \u001b[43mRagasAnswerCorrectness\u001b[49m\u001b[43m(\u001b[49m\u001b[43m)\u001b[49m,\n\u001b[1;32m      4\u001b[0m     RagasFaithfulness(),\n\u001b[1;32m      5\u001b[0m     RagasAnswerRelevancy(),\n\u001b[1;32m      6\u001b[0m ]\n\u001b[1;32m      8\u001b[0m \u001b[38;5;66;03m# Run the evaluation suite\u001b[39;00m\n\u001b[1;32m      9\u001b[0m batch_eval_result \u001b[38;5;241m=\u001b[39m EvalRunner\u001b[38;5;241m.\u001b[39mrun_suite(\n\u001b[1;32m     10\u001b[0m     evals\u001b[38;5;241m=\u001b[39meval_suite,\n\u001b[1;32m     11\u001b[0m     data\u001b[38;5;241m=\u001b[39mllama_index_dataset,\n\u001b[1;32m     12\u001b[0m     max_parallel_evals\u001b[38;5;241m=\u001b[39m\u001b[38;5;241m1\u001b[39m,   \u001b[38;5;66;03m# If you increase this, you may run into rate limits\u001b[39;00m\n\u001b[1;32m     13\u001b[0m )\n",
      "\u001b[0;31mTypeError\u001b[0m: __init__() missing 3 required positional arguments: 'api_key', 'model', and 'provider'"
     ]
    }
   ],
   "source": [
    "eval_model = \"gpt-3.5-turbo\"\n",
    "eval_suite = [\n",
    "    RagasAnswerCorrectness(model=eval_model, api_key=os.getenv('OPENAI_API_KEY'), provider=\"openai\"),\n",
    "    RagasFaithfulness(model=eval_model, api_key=os.getenv('OPENAI_API_KEY'), provider=\"openai\"),\n",
    "    RagasAnswerRelevancy(model=eval_model, api_key=os.getenv('OPENAI_API_KEY'), provider=\"openai\"),\n",
    "]\n",
    "\n",
    "# Run the evaluation suite\n",
    "batch_eval_result = EvalRunner.run_suite(\n",
    "    evals=eval_suite,\n",
    "    data=llama_index_dataset,\n",
    "    max_parallel_evals=1,   # If you increase this, you may run into rate limits\n",
    ")\n",
    "\n",
    "pd.DataFrame(batch_eval_result)"
   ]
  }
 ],
 "metadata": {
  "kernelspec": {
   "display_name": ".venv",
   "language": "python",
   "name": "python3"
  },
  "language_info": {
   "codemirror_mode": {
    "name": "ipython",
    "version": 3
   },
   "file_extension": ".py",
   "mimetype": "text/x-python",
   "name": "python",
   "nbconvert_exporter": "python",
   "pygments_lexer": "ipython3",
   "version": "3.9.6"
  },
  "orig_nbformat": 4
 },
 "nbformat": 4,
 "nbformat_minor": 2
}
