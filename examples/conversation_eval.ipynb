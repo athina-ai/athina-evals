{
 "cells": [
  {
   "cell_type": "code",
   "execution_count": null,
   "metadata": {},
   "outputs": [],
   "source": [
    "import json\n",
    "import os\n",
    "from dotenv import load_dotenv\n",
    "from athina.llms.openai_service import OpenAiService\n",
    "from athina.keys import OpenAiApiKey, AthinaApiKey\n",
    "\n",
    "load_dotenv()\n",
    "\n",
    "OPENAI_API_KEY = os.getenv(\"OPENAI_API_KEY\")\n",
    "ATHINA_API_KEY = os.getenv(\"ATHINA_API_KEY\")\n",
    "\n",
    "OpenAiApiKey.set_key(OPENAI_API_KEY)\n",
    "AthinaApiKey.set_key(ATHINA_API_KEY)\n",
    "\n",
    "DEFAULT_MODEL = \"gpt-3.5-turbo\""
   ]
  },
  {
   "cell_type": "code",
   "execution_count": null,
   "metadata": {},
   "outputs": [],
   "source": [
    "# LOADERS\n",
    "\n",
    "dataset_file_path = '../athina/datasets/conversations.json'\n",
    "\n",
    "def load_data():\n",
    "    # Load the JSON data from the given file path\n",
    "    with open(dataset_file_path, 'r') as file:\n",
    "        data = json.load(file)\n",
    "\n",
    "    # Return the entire dataset\n",
    "    return data\n",
    "\n",
    "def load_single_conversation():\n",
    "    data = load_data()\n",
    "    data_without_none = [msg for msg in data[0] if msg is not None]\n",
    "    return data_without_none\n",
    "\n",
    "def load_conversations():\n",
    "    data = load_data()\n",
    "    data_without_none = [{\n",
    "        \"conversation_messages\": [msg for msg in row if msg is not None]\n",
    "    } for row in data]\n",
    "    return data_without_none\n",
    "    "
   ]
  },
  {
   "cell_type": "code",
   "execution_count": null,
   "metadata": {},
   "outputs": [],
   "source": [
    "# Get a single test conversation\n",
    "# conversations = load_conversations()[0:3]\n",
    "\n",
    "# conversations"
   ]
  },
  {
   "cell_type": "code",
   "execution_count": null,
   "metadata": {},
   "outputs": [],
   "source": [
    "conversation = [\n",
    "    \"Alice: Hi, I'm looking for a new smartphone with a good camera.\",\n",
    "    \"AI: Hi Alice! Sure, I can help with that. Are you interested in any specific brand?\",\n",
    "    \"Alice: I like Samsung and Apple, but I'm open to other brands if the camera is really good.\",\n",
    "    \"AI: Both Samsung and Apple have excellent options. The Samsung Galaxy S21 and the iPhone 12 are known for their outstanding cameras.\",\n",
    "    \"Alice: I've heard the iPhone 12 camera is great. How does it compare to others?\",\n",
    "    \"AI: I'm happy to make some recommendations about cameras. Are you looking for a portable camera or a professional one?\",\n",
    "    \"Alice: I was asking about the iPhone 12 camera vs other smartphone cameras.\",\n",
    "    \"AI: My apologies for the confusion. To continue about the iPhone 12, it also offers Smart HDR 3 for improved photo quality in various lighting conditions.\",\n",
    "    \"Alice: That sounds good. What's the battery life like?\",\n",
    "    \"AI: The iPhone 12 offers up to 17 hours of video playback. Its A14 Bionic chip ensures efficient performance without compromising battery life.\",\n",
    "    \"Alice: And what about the price?\",\n",
    "    \"AI: The iPhone 12 starts at $799 for the base model. However, prices may vary depending on storage options and any promotions available.\",\n",
    "    \"AI: Speaking of storage, would you also be interested in external hard drives? We have some that are compatible with smartphones.\",\n",
    "    \"Alice: No, I'm just looking for information on the iPhone 12 right now.\",\n",
    "    \"AI: Understood, let's keep our focus on the iPhone 12. If you have any more questions or need further details, feel free to ask.\",\n",
    "]"
   ]
  },
  {
   "cell_type": "code",
   "execution_count": null,
   "metadata": {},
   "outputs": [],
   "source": [
    "from athina.evals import ConversationResolution, ConversationCoherence\n",
    "\n",
    "res = ConversationCoherence().run(messages=conversation)\n",
    "\n",
    "res.to_df()"
   ]
  }
 ],
 "metadata": {
  "kernelspec": {
   "display_name": ".venvtest",
   "language": "python",
   "name": "python3"
  },
  "language_info": {
   "codemirror_mode": {
    "name": "ipython",
    "version": 3
   },
   "file_extension": ".py",
   "mimetype": "text/x-python",
   "name": "python",
   "nbconvert_exporter": "python",
   "pygments_lexer": "ipython3",
   "version": "3.9.6"
  }
 },
 "nbformat": 4,
 "nbformat_minor": 2
}
