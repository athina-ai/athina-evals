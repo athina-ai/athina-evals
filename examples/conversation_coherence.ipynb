{
 "cells": [
  {
   "cell_type": "code",
   "execution_count": null,
   "metadata": {},
   "outputs": [],
   "source": [
    "import os\n",
    "from athina.keys import OpenAiApiKey\n",
    "\n",
    "OpenAiApiKey.set_key(os.getenv('OPENAI_API_KEY'))"
   ]
  },
  {
   "cell_type": "code",
   "execution_count": null,
   "metadata": {},
   "outputs": [],
   "source": [
    "from athina.evals import ConversationCoherence\n",
    " \n",
    "conversations = [\n",
    "    {\n",
    "        \"messages\": [\n",
    "            \"User: I'd like to buy a smartphone.\",\n",
    "            \"AI: What kind of smartphone?\",\n",
    "            \"User: An iPhone 14 Pro\",\n",
    "            \"AI: How much storage do you need?\",\n",
    "            \"User: 256GB\",\n",
    "            \"AI: What color?\",\n",
    "            \"User: White\"\n",
    "            \"AI: Sounds good - I've loaded the item into your cart.\"\n",
    "        ]\n",
    "    },\n",
    "    {\n",
    "        \"messages\": [\n",
    "            \"User: I'd like to buy a smartphone?\",\n",
    "            \"AI: Sure, I can help with that. Where do you live?\",\n",
    "            \"User: SF\",\n",
    "            \"AI: Are you looking for rental apartments in SF?\",\n",
    "        ]\n",
    "    }\n",
    "]\n",
    " \n",
    "ConversationCoherence().run_batch(data=conversations).to_df()"
   ]
  },
  {
   "cell_type": "code",
   "execution_count": null,
   "metadata": {},
   "outputs": [],
   "source": []
  }
 ],
 "metadata": {
  "kernelspec": {
   "display_name": ".venvtest",
   "language": "python",
   "name": "python3"
  },
  "language_info": {
   "codemirror_mode": {
    "name": "ipython",
    "version": 3
   },
   "file_extension": ".py",
   "mimetype": "text/x-python",
   "name": "python",
   "nbconvert_exporter": "python",
   "pygments_lexer": "ipython3",
   "version": "3.9.16"
  }
 },
 "nbformat": 4,
 "nbformat_minor": 2
}
