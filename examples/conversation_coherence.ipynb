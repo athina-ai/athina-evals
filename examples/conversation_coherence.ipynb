{
 "cells": [
  {
   "cell_type": "code",
   "execution_count": 1,
   "metadata": {},
   "outputs": [
    {
     "name": "stderr",
     "output_type": "stream",
     "text": [
      "/Users/akshat_g/athina/repos/athina-evals/.venv/lib/python3.9/site-packages/urllib3/__init__.py:35: NotOpenSSLWarning: urllib3 v2 only supports OpenSSL 1.1.1+, currently the 'ssl' module is compiled with 'LibreSSL 2.8.3'. See: https://github.com/urllib3/urllib3/issues/3020\n",
      "  warnings.warn(\n",
      "/Users/akshat_g/athina/repos/athina-evals/.venv/lib/python3.9/site-packages/tqdm/auto.py:21: TqdmWarning: IProgress not found. Please update jupyter and ipywidgets. See https://ipywidgets.readthedocs.io/en/stable/user_install.html\n",
      "  from .autonotebook import tqdm as notebook_tqdm\n"
     ]
    }
   ],
   "source": [
    "import os\n",
    "from athina.keys import OpenAiApiKey\n",
    "\n",
    "OpenAiApiKey.set_key(os.getenv('OPENAI_API_KEY'))"
   ]
  },
  {
   "cell_type": "code",
   "execution_count": 2,
   "metadata": {},
   "outputs": [
    {
     "name": "stdout",
     "output_type": "stream",
     "text": [
      "Error logging dataset to Athina: Session ID is required (Extra Info: please check your athina api key and try again)\n"
     ]
    },
    {
     "data": {
      "text/html": [
       "<div>\n",
       "<style scoped>\n",
       "    .dataframe tbody tr th:only-of-type {\n",
       "        vertical-align: middle;\n",
       "    }\n",
       "\n",
       "    .dataframe tbody tr th {\n",
       "        vertical-align: top;\n",
       "    }\n",
       "\n",
       "    .dataframe thead th {\n",
       "        text-align: right;\n",
       "    }\n",
       "</style>\n",
       "<table border=\"1\" class=\"dataframe\">\n",
       "  <thead>\n",
       "    <tr style=\"text-align: right;\">\n",
       "      <th></th>\n",
       "      <th>messages</th>\n",
       "      <th>display_name</th>\n",
       "      <th>failed</th>\n",
       "      <th>grade_reason</th>\n",
       "      <th>runtime</th>\n",
       "      <th>model</th>\n",
       "      <th>conversation_coherence</th>\n",
       "    </tr>\n",
       "  </thead>\n",
       "  <tbody>\n",
       "    <tr>\n",
       "      <th>0</th>\n",
       "      <td>[User: I'd like to buy a smartphone., AI: What kind of smartphone?, User: An iPhone 14 Pro, AI: How much storage do you need?, User: 256GB, AI: What color?, User: WhiteAI: Sounds good - I've loaded the item into your cart.]</td>\n",
       "      <td>Conversation Coherence</td>\n",
       "      <td>None</td>\n",
       "      <td>All messages were coherent.</td>\n",
       "      <td>4249</td>\n",
       "      <td>gpt-3.5-turbo</td>\n",
       "      <td>1.0</td>\n",
       "    </tr>\n",
       "    <tr>\n",
       "      <th>1</th>\n",
       "      <td>[User: I'd like to buy a smartphone?, AI: Sure, I can help with that. Where do you live?, User: SF, AI: Are you looking for rental apartments in SF?]</td>\n",
       "      <td>Conversation Coherence</td>\n",
       "      <td>None</td>\n",
       "      <td>The following messages were not coherent: Are you looking for rental apartments in SF?</td>\n",
       "      <td>53934</td>\n",
       "      <td>gpt-3.5-turbo</td>\n",
       "      <td>0.5</td>\n",
       "    </tr>\n",
       "  </tbody>\n",
       "</table>\n",
       "</div>"
      ],
      "text/plain": [
       "                                                                                                                                                                                                                          messages  \\\n",
       "0  [User: I'd like to buy a smartphone., AI: What kind of smartphone?, User: An iPhone 14 Pro, AI: How much storage do you need?, User: 256GB, AI: What color?, User: WhiteAI: Sounds good - I've loaded the item into your cart.]   \n",
       "1                                                                            [User: I'd like to buy a smartphone?, AI: Sure, I can help with that. Where do you live?, User: SF, AI: Are you looking for rental apartments in SF?]   \n",
       "\n",
       "             display_name failed  \\\n",
       "0  Conversation Coherence   None   \n",
       "1  Conversation Coherence   None   \n",
       "\n",
       "                                                                             grade_reason  \\\n",
       "0                                                             All messages were coherent.   \n",
       "1  The following messages were not coherent: Are you looking for rental apartments in SF?   \n",
       "\n",
       "   runtime          model  conversation_coherence  \n",
       "0     4249  gpt-3.5-turbo                     1.0  \n",
       "1    53934  gpt-3.5-turbo                     0.5  "
      ]
     },
     "execution_count": 2,
     "metadata": {},
     "output_type": "execute_result"
    }
   ],
   "source": [
    "from athina.evals import ConversationCoherence\n",
    " \n",
    "conversations = [\n",
    "    {\n",
    "        \"messages\": [\n",
    "            \"User: I'd like to buy a smartphone.\",\n",
    "            \"AI: What kind of smartphone?\",\n",
    "            \"User: An iPhone 14 Pro\",\n",
    "            \"AI: How much storage do you need?\",\n",
    "            \"User: 256GB\",\n",
    "            \"AI: What color?\",\n",
    "            \"User: White\"\n",
    "            \"AI: Sounds good - I've loaded the item into your cart.\"\n",
    "        ]\n",
    "    },\n",
    "    {\n",
    "        \"messages\": [\n",
    "            \"User: I'd like to buy a smartphone?\",\n",
    "            \"AI: Sure, I can help with that. Where do you live?\",\n",
    "            \"User: SF\",\n",
    "            \"AI: Are you looking for rental apartments in SF?\",\n",
    "        ]\n",
    "    }\n",
    "]\n",
    " \n",
    "ConversationCoherence().run_batch(data=conversations).to_df()"
   ]
  },
  {
   "cell_type": "code",
   "execution_count": null,
   "metadata": {},
   "outputs": [],
   "source": []
  }
 ],
 "metadata": {
  "kernelspec": {
   "display_name": ".venvtest",
   "language": "python",
   "name": "python3"
  },
  "language_info": {
   "codemirror_mode": {
    "name": "ipython",
    "version": 3
   },
   "file_extension": ".py",
   "mimetype": "text/x-python",
   "name": "python",
   "nbconvert_exporter": "python",
   "pygments_lexer": "ipython3",
   "version": "3.9.6"
  }
 },
 "nbformat": 4,
 "nbformat_minor": 2
}
