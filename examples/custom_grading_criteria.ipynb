{
 "cells": [
  {
   "cell_type": "markdown",
   "metadata": {},
   "source": [
    "## Custom Grading Criteria\n",
    "\n",
    "A custom grading criteria is the easiest way to create your own eval.\n",
    "\n",
    "These evals take the format: \n",
    "_\"If X, then fail. Otherwise, pass\"_\n",
    "\n",
    "This gets wrapped inside our CoT prompt, and enforces a JSON output of pass / fail along with a reason.\n",
    "\n",
    "This is best used for very simple conditional evals (like the one below)"
   ]
  },
  {
   "cell_type": "code",
   "execution_count": null,
   "metadata": {},
   "outputs": [],
   "source": [
    "import os\n",
    "from athina.evals import GradingCriteria\n",
    "from athina.loaders import ResponseLoader\n",
    "from athina.keys import OpenAiApiKey, AthinaApiKey\n",
    "import pandas as pd\n",
    "from dotenv import load_dotenv\n",
    "\n",
    "load_dotenv()\n",
    "\n",
    "OpenAiApiKey.set_key(os.getenv('OPENAI_API_KEY'))\n",
    "AthinaApiKey.set_key(os.getenv('ATHINA_API_KEY'))"
   ]
  },
  {
   "cell_type": "markdown",
   "metadata": {},
   "source": [
    "### Initialize your dataset\n",
    "\n",
    "The [`ResponseLoader`](https://github.com/athina-ai/athina-evals/blob/main/athina/loaders/response_loader.py) class is used to load your dataset. \n",
    "\n",
    "This loader ensures that the data contains a \"response\" field and is in the correct format for the `LlmEvaluator` class."
   ]
  },
  {
   "cell_type": "code",
   "execution_count": null,
   "metadata": {},
   "outputs": [],
   "source": [
    "# Create batch dataset from list of dict objects\n",
    "raw_data = [\n",
    "    {\n",
    "        \"response\": \"I'm sorry but I can't help you with that query\",\n",
    "    },\n",
    "    {\n",
    "        \"response\": \"I don't know the answer to that question\",\n",
    "    },\n",
    "]\n",
    "\n",
    "dataset = ResponseLoader().load_dict(raw_data)\n",
    "pd.DataFrame(dataset)"
   ]
  },
  {
   "cell_type": "markdown",
   "metadata": {},
   "source": [
    "### Configure and Run Evaluator\n",
    "\n",
    "The easiest way to configure a custom evaluator is to use our [`GradingCritera`](https://github.com/athina-ai/athina-evals/blob/main/athina/evals/llm/grading_criteria/evaluator.py) class.\n",
    "\n",
    "This evaluator simply takes in a grading criteria in the following format:\n",
    "\n",
    "```\n",
    "If X, then fail. Otherwise, pass.\n",
    "```\n",
    "\n",
    "Optionally, you can also specify what model you would like to use for grading."
   ]
  },
  {
   "cell_type": "code",
   "execution_count": null,
   "metadata": {},
   "outputs": [],
   "source": [
    "# Checks if the LLM response answers the user query sufficiently\n",
    "eval_model = \"gpt-3.5-turbo\"\n",
    "\n",
    "grading_criteria = \"If the response says it cannot answer the query, then fail. Otherwise pass.\"\n",
    "\n",
    "GradingCriteria(\n",
    "    model=eval_model,\n",
    "    grading_criteria=grading_criteria\n",
    ").run_batch(data=dataset, max_parallel_evals=2).to_df()"
   ]
  }
 ],
 "metadata": {
  "kernelspec": {
   "display_name": ".venv",
   "language": "python",
   "name": "python3"
  },
  "language_info": {
   "codemirror_mode": {
    "name": "ipython",
    "version": 3
   },
   "file_extension": ".py",
   "mimetype": "text/x-python",
   "name": "python",
   "nbconvert_exporter": "python",
   "pygments_lexer": "ipython3",
   "version": "3.9.10"
  }
 },
 "nbformat": 4,
 "nbformat_minor": 2
}
