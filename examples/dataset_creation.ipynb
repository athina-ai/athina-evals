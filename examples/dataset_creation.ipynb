{
 "cells": [
  {
   "cell_type": "code",
   "execution_count": null,
   "metadata": {},
   "outputs": [],
   "source": [
    "import os\n",
    "from athina.datasets import Dataset\n",
    "from athina.keys import AthinaApiKey\n",
    "\n",
    "AthinaApiKey.set_key(os.getenv('ATHINA_API_KEY'))"
   ]
  },
  {
   "cell_type": "code",
   "execution_count": null,
   "metadata": {},
   "outputs": [],
   "source": [
    "dataset = Dataset.create(\n",
    "    name='test_dataset_12',\n",
    "    description='This is a test dataset',\n",
    "    language_model_id='gpt-4',\n",
    "    rows=[\n",
    "        {\n",
    "            'query': 'What is the capital of Greece?',\n",
    "            'context': ['Greece is a country in southeastern Europe.', 'Athens is the capital of Greece.'],\n",
    "            'response': 'Athens',\n",
    "            'expected_response': 'Athens'\n",
    "        }\n",
    "    ]\n",
    ")\n",
    "print(dataset)"
   ]
  },
  {
   "cell_type": "code",
   "execution_count": null,
   "metadata": {},
   "outputs": [],
   "source": [
    "Dataset.add_rows(\n",
    "    dataset_id=dataset.id,\n",
    "    rows=[\n",
    "        {\n",
    "            'query': 'What is the capital of France?',\n",
    "            'context': ['France is a country in Western Europe.', 'Paris is the capital of France.'],\n",
    "            'response': 'Paris',\n",
    "            'expected_response': 'Paris'\n",
    "        },\n",
    "        {\n",
    "            'query': 'What is the capital of India?',\n",
    "            'context': ['India is a country in South Asia.', 'New Delhi is the capital of India.'],\n",
    "            'response': 'New Delhi',\n",
    "            'expected_response': 'New Delhi'\n",
    "        }\n",
    "    ]\n",
    ")"
   ]
  }
 ],
 "metadata": {
  "kernelspec": {
   "display_name": ".venv",
   "language": "python",
   "name": "python3"
  },
  "language_info": {
   "codemirror_mode": {
    "name": "ipython",
    "version": 3
   },
   "file_extension": ".py",
   "mimetype": "text/x-python",
   "name": "python",
   "nbconvert_exporter": "python",
   "pygments_lexer": "ipython3",
   "version": "3.9.6"
  }
 },
 "nbformat": 4,
 "nbformat_minor": 2
}
