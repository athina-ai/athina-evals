{
 "cells": [
  {
   "cell_type": "code",
   "execution_count": 1,
   "metadata": {},
   "outputs": [
    {
     "name": "stderr",
     "output_type": "stream",
     "text": [
      "/Users/akshat_g/athina/repos/athina-evals/.venv/lib/python3.9/site-packages/urllib3/__init__.py:35: NotOpenSSLWarning: urllib3 v2 only supports OpenSSL 1.1.1+, currently the 'ssl' module is compiled with 'LibreSSL 2.8.3'. See: https://github.com/urllib3/urllib3/issues/3020\n",
      "  warnings.warn(\n",
      "/Users/akshat_g/athina/repos/athina-evals/.venv/lib/python3.9/site-packages/tqdm/auto.py:21: TqdmWarning: IProgress not found. Please update jupyter and ipywidgets. See https://ipywidgets.readthedocs.io/en/stable/user_install.html\n",
      "  from .autonotebook import tqdm as notebook_tqdm\n"
     ]
    }
   ],
   "source": [
    "import os\n",
    "from athina.datasets import Dataset\n",
    "from athina.keys import AthinaApiKey\n",
    "api_key = os.getenv('ATHINA_API_KEY')\n",
    "if not api_key:\n",
    "    raise ValueError(\"ATHINA_API_KEY environment variable is not set.\")\n",
    "AthinaApiKey.set_key(api_key)"
   ]
  },
  {
   "cell_type": "code",
   "execution_count": 2,
   "metadata": {},
   "outputs": [],
   "source": [
    "try:\n",
    "    dataset = Dataset.create(\n",
    "        name='test_dataset_15',\n",
    "        description='This is a test dataset',\n",
    "        language_model_id='gpt-4',\n",
    "        rows=[\n",
    "            {\n",
    "                'query': 'What is the capital of Greece?',\n",
    "                'context': ['Greece is a country in southeastern Europe.', 'Athens is the capital of Greece.'],\n",
    "                'response': 'Athens',\n",
    "                'expected_response': 'Athens'\n",
    "            }\n",
    "        ]\n",
    "    )\n",
    "except Exception as e:\n",
    "    print(f\"Failed to create dataset: {e}\")"
   ]
  },
  {
   "cell_type": "code",
   "execution_count": null,
   "metadata": {},
   "outputs": [],
   "source": [
    "print(dataset.id)   "
   ]
  },
  {
   "cell_type": "code",
   "execution_count": null,
   "metadata": {},
   "outputs": [],
   "source": [
    "try:\n",
    "    Dataset.add_rows(\n",
    "        dataset_id=dataset.id,\n",
    "        rows=[\n",
    "            {\n",
    "                'query': 'What is the capital of France?',\n",
    "                'context': ['France is a country in Western Europe.', 'Paris is the capital of France.'],\n",
    "                'response': 'Paris',\n",
    "                'expected_response': 'Paris'\n",
    "            },\n",
    "        ]\n",
    "    )\n",
    "except Exception as e:\n",
    "    print(f\"Failed to add rows more than 1000: {e}\")"
   ]
  }
 ],
 "metadata": {
  "kernelspec": {
   "display_name": ".venv",
   "language": "python",
   "name": "python3"
  },
  "language_info": {
   "codemirror_mode": {
    "name": "ipython",
    "version": 3
   },
   "file_extension": ".py",
   "mimetype": "text/x-python",
   "name": "python",
   "nbconvert_exporter": "python",
   "pygments_lexer": "ipython3",
   "version": "3.9.6"
  }
 },
 "nbformat": 4,
 "nbformat_minor": 2
}
