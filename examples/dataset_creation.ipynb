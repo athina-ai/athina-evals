{
 "cells": [
  {
   "cell_type": "code",
   "execution_count": null,
   "metadata": {},
   "outputs": [],
   "source": [
    "import os\n",
    "from athina.datasets import Dataset\n",
    "from athina.keys import AthinaApiKey\n",
    "api_key = os.getenv('ATHINA_API_KEY')\n",
    "if not api_key:\n",
    "    raise ValueError(\"ATHINA_API_KEY environment variable is not set.\")\n",
    "AthinaApiKey.set_key(api_key)"
   ]
  },
  {
   "cell_type": "code",
   "execution_count": null,
   "metadata": {},
   "outputs": [],
   "source": [
    "try:\n",
    "    dataset = Dataset.create(\n",
    "        name='test_dataset_15',\n",
    "        description='This is a test dataset',\n",
    "        language_model_id='gpt-4',\n",
    "        rows=[\n",
    "            {\n",
    "                'query': 'What is the capital of Greece?',\n",
    "                'context': ['Greece is a country in southeastern Europe.', 'Athens is the capital of Greece.'],\n",
    "                'response': 'Athens',\n",
    "                'expected_response': 'Athens'\n",
    "            }\n",
    "        ]\n",
    "    )\n",
    "except Exception as e:\n",
    "    print(f\"Failed to create dataset: {e}\")"
   ]
  },
  {
   "cell_type": "code",
   "execution_count": null,
   "metadata": {},
   "outputs": [],
   "source": [
    "try:\n",
    "    Dataset.add_rows(\n",
    "        dataset_id=dataset.id,\n",
    "        rows=[\n",
    "            {\n",
    "                'query': 'What is the capital of France?',\n",
    "                'context': ['France is a country in Western Europe.', 'Paris is the capital of France.'],\n",
    "                'response': 'Paris',\n",
    "                'expected_response': 'Paris'\n",
    "            },\n",
    "        ]\n",
    "    )\n",
    "except Exception as e:\n",
    "    print(f\"Failed to add rows more than 1000: {e}\")"
   ]
  }
 ],
 "metadata": {
  "kernelspec": {
   "display_name": ".venv",
   "language": "python",
   "name": "python3"
  },
  "language_info": {
   "codemirror_mode": {
    "name": "ipython",
    "version": 3
   },
   "file_extension": ".py",
   "mimetype": "text/x-python",
   "name": "python",
   "nbconvert_exporter": "python",
   "pygments_lexer": "ipython3",
   "version": "3.9.6"
  }
 },
 "nbformat": 4,
 "nbformat_minor": 2
}
