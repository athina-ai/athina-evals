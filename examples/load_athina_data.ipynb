{
 "cells": [
  {
   "cell_type": "code",
   "execution_count": null,
   "metadata": {},
   "outputs": [],
   "source": [
    "import os\n",
    "from athina.evals import DoesResponseAnswerQuery\n",
    "from athina.loaders import RagLoader\n",
    "from athina.interfaces.athina import AthinaFilters\n",
    "from athina.keys import AthinaApiKey, OpenAiApiKey\n",
    "\n",
    "OpenAiApiKey.set_key(os.getenv('OPENAI_API_KEY'))\n",
    "AthinaApiKey.set_key(os.getenv('ATHINA_API_KEY'))"
   ]
  },
  {
   "cell_type": "markdown",
   "metadata": {},
   "source": [
    "### Loading Data from Athina\n",
    "\n",
    "Loading data from Athina is an easy way to use your logged inferences or production data as your eval dataset.\n",
    "\n",
    "Here's how you can load data from Athina."
   ]
  },
  {
   "cell_type": "code",
   "execution_count": null,
   "metadata": {},
   "outputs": [],
   "source": [
    "# Simplest way to load Athina Inferences data\n",
    "# By default, this will load 10 inferences\n",
    "data = RagLoader().load_athina_inferences()"
   ]
  },
  {
   "cell_type": "code",
   "execution_count": null,
   "metadata": {},
   "outputs": [],
   "source": [
    "# (Optional) Add filters to load only specific data\n",
    "data = RagLoader().load_athina_inferences(\n",
    "    filters=AthinaFilters(\n",
    "        prompt_slug=\"yc_query\",\n",
    "        language_model_id=\"gpt-3.5-turbo\",\n",
    "        environment=\"production\"\n",
    "    ),\n",
    "    limit=10\n",
    ")"
   ]
  },
  {
   "cell_type": "code",
   "execution_count": null,
   "metadata": {},
   "outputs": [],
   "source": [
    "# Print the dataset loaded from logged Athina inferences\n",
    "print(f\"Loaded data from {len(data)} inferences\")\n",
    "print('data', data)"
   ]
  },
  {
   "cell_type": "code",
   "execution_count": null,
   "metadata": {},
   "outputs": [],
   "source": [
    "# Run evaluators\n",
    "DoesResponseAnswerQuery().run_batch(data)"
   ]
  }
 ],
 "metadata": {
  "kernelspec": {
   "display_name": ".venv",
   "language": "python",
   "name": "python3"
  },
  "language_info": {
   "codemirror_mode": {
    "name": "ipython",
    "version": 3
   },
   "file_extension": ".py",
   "mimetype": "text/x-python",
   "name": "python",
   "nbconvert_exporter": "python",
   "pygments_lexer": "ipython3",
   "version": "3.9.10"
  }
 },
 "nbformat": 4,
 "nbformat_minor": 2
}
