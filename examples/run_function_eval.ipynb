{
 "cells": [
  {
   "cell_type": "code",
   "execution_count": 1,
   "metadata": {},
   "outputs": [
    {
     "name": "stderr",
     "output_type": "stream",
     "text": [
      "/Users/shivsakhuja/dev/athina/athina-evals/.venvtest/lib/python3.9/site-packages/tqdm/auto.py:21: TqdmWarning: IProgress not found. Please update jupyter and ipywidgets. See https://ipywidgets.readthedocs.io/en/stable/user_install.html\n",
      "  from .autonotebook import tqdm as notebook_tqdm\n"
     ]
    }
   ],
   "source": [
    "import os\n",
    "from athina.evals import FunctionEvaluator\n",
    "from athina.loaders import TextLoader\n",
    "from athina.keys import OpenAiApiKey, AthinaApiKey\n",
    "import pandas as pd\n",
    "from athina.evals import ContainsAny, ApiCall\n",
    "from dotenv import load_dotenv\n",
    "\n",
    "load_dotenv()\n",
    "\n",
    "OpenAiApiKey.set_key(os.getenv('OPENAI_API_KEY'))\n",
    "AthinaApiKey.set_key(os.getenv('ATHINA_API_KEY'))"
   ]
  },
  {
   "cell_type": "code",
   "execution_count": 2,
   "metadata": {},
   "outputs": [
    {
     "data": {
      "text/html": [
       "<div>\n",
       "<style scoped>\n",
       "    .dataframe tbody tr th:only-of-type {\n",
       "        vertical-align: middle;\n",
       "    }\n",
       "\n",
       "    .dataframe tbody tr th {\n",
       "        vertical-align: top;\n",
       "    }\n",
       "\n",
       "    .dataframe thead th {\n",
       "        text-align: right;\n",
       "    }\n",
       "</style>\n",
       "<table border=\"1\" class=\"dataframe\">\n",
       "  <thead>\n",
       "    <tr style=\"text-align: right;\">\n",
       "      <th></th>\n",
       "      <th>text</th>\n",
       "    </tr>\n",
       "  </thead>\n",
       "  <tbody>\n",
       "    <tr>\n",
       "      <th>0</th>\n",
       "      <td>Please contact customer support for this infor...</td>\n",
       "    </tr>\n",
       "    <tr>\n",
       "      <th>1</th>\n",
       "      <td>I cannot answer this question</td>\n",
       "    </tr>\n",
       "    <tr>\n",
       "      <th>2</th>\n",
       "      <td>Sure, you can email hello@athina.ai</td>\n",
       "    </tr>\n",
       "  </tbody>\n",
       "</table>\n",
       "</div>"
      ],
      "text/plain": [
       "                                                text\n",
       "0  Please contact customer support for this infor...\n",
       "1                      I cannot answer this question\n",
       "2                Sure, you can email hello@athina.ai"
      ]
     },
     "execution_count": 2,
     "metadata": {},
     "output_type": "execute_result"
    }
   ],
   "source": [
    "# Create batch dataset from list of dict objects\n",
    "raw_data = [\n",
    "    {\n",
    "        \"text\": \"Please contact customer support for this information\",\n",
    "    },\n",
    "    {\n",
    "        \"text\": \"I cannot answer this question\",\n",
    "    },\n",
    "    {\n",
    "        \"text\": \"Sure, you can email hello@athina.ai\",\n",
    "    }\n",
    "]\n",
    "\n",
    "dataset = TextLoader().load_dict(raw_data)\n",
    "pd.DataFrame(raw_data)\n"
   ]
  },
  {
   "cell_type": "code",
   "execution_count": 3,
   "metadata": {},
   "outputs": [
    {
     "data": {
      "text/plain": [
       "{'name': 'ContainsAny',\n",
       " 'display_name': 'ContainsAny',\n",
       " 'data': {'text': 'Please contact customer support for this information'},\n",
       " 'reason': 'One or more keywords were found in output: contact, support',\n",
       " 'runtime': 0,\n",
       " 'metrics': [{'id': 'passed', 'value': 1.0}],\n",
       " 'failure': False}"
      ]
     },
     "execution_count": 3,
     "metadata": {},
     "output_type": "execute_result"
    }
   ],
   "source": [
    "evaluator = FunctionEvaluator(\n",
    "    function_name=\"ContainsAny\",\n",
    "    function_arguments={ \"keywords\": [\"contact\", \"support\"] })\n",
    "\n",
    "evaluator._evaluate(text=\"Please contact customer support for this information\")"
   ]
  },
  {
   "cell_type": "code",
   "execution_count": 4,
   "metadata": {},
   "outputs": [
    {
     "data": {
      "text/html": [
       "<div>\n",
       "<style scoped>\n",
       "    .dataframe tbody tr th:only-of-type {\n",
       "        vertical-align: middle;\n",
       "    }\n",
       "\n",
       "    .dataframe tbody tr th {\n",
       "        vertical-align: top;\n",
       "    }\n",
       "\n",
       "    .dataframe thead th {\n",
       "        text-align: right;\n",
       "    }\n",
       "</style>\n",
       "<table border=\"1\" class=\"dataframe\">\n",
       "  <thead>\n",
       "    <tr style=\"text-align: right;\">\n",
       "      <th></th>\n",
       "      <th>text</th>\n",
       "      <th>display_name</th>\n",
       "      <th>failed</th>\n",
       "      <th>grade_reason</th>\n",
       "      <th>runtime</th>\n",
       "      <th>model</th>\n",
       "      <th>passed</th>\n",
       "    </tr>\n",
       "  </thead>\n",
       "  <tbody>\n",
       "    <tr>\n",
       "      <th>0</th>\n",
       "      <td>Please contact customer support for this information</td>\n",
       "      <td>ContainsAny</td>\n",
       "      <td>False</td>\n",
       "      <td>One or more keywords were found in output: contact, support</td>\n",
       "      <td>0</td>\n",
       "      <td>None</td>\n",
       "      <td>1.0</td>\n",
       "    </tr>\n",
       "    <tr>\n",
       "      <th>1</th>\n",
       "      <td>I cannot answer this question</td>\n",
       "      <td>ContainsAny</td>\n",
       "      <td>True</td>\n",
       "      <td>No keywords found in output</td>\n",
       "      <td>0</td>\n",
       "      <td>None</td>\n",
       "      <td>0.0</td>\n",
       "    </tr>\n",
       "    <tr>\n",
       "      <th>2</th>\n",
       "      <td>Sure, you can email hello@athina.ai</td>\n",
       "      <td>ContainsAny</td>\n",
       "      <td>True</td>\n",
       "      <td>No keywords found in output</td>\n",
       "      <td>0</td>\n",
       "      <td>None</td>\n",
       "      <td>0.0</td>\n",
       "    </tr>\n",
       "  </tbody>\n",
       "</table>\n",
       "</div>"
      ],
      "text/plain": [
       "                                                   text display_name  failed  \\\n",
       "0  Please contact customer support for this information  ContainsAny   False   \n",
       "1                         I cannot answer this question  ContainsAny    True   \n",
       "2                   Sure, you can email hello@athina.ai  ContainsAny    True   \n",
       "\n",
       "                                                  grade_reason  runtime model  \\\n",
       "0  One or more keywords were found in output: contact, support        0  None   \n",
       "1                                  No keywords found in output        0  None   \n",
       "2                                  No keywords found in output        0  None   \n",
       "\n",
       "   passed  \n",
       "0     1.0  \n",
       "1     0.0  \n",
       "2     0.0  "
      ]
     },
     "execution_count": 4,
     "metadata": {},
     "output_type": "execute_result"
    }
   ],
   "source": [
    "ContainsAny(keywords=[\"contact\", \"support\"]).run_batch(raw_data).to_df()"
   ]
  },
  {
   "cell_type": "code",
   "execution_count": null,
   "metadata": {},
   "outputs": [],
   "source": []
  }
 ],
 "metadata": {
  "kernelspec": {
   "display_name": ".venv",
   "language": "python",
   "name": "python3"
  },
  "language_info": {
   "codemirror_mode": {
    "name": "ipython",
    "version": 3
   },
   "file_extension": ".py",
   "mimetype": "text/x-python",
   "name": "python",
   "nbconvert_exporter": "python",
   "pygments_lexer": "ipython3",
   "version": "3.9.16"
  }
 },
 "nbformat": 4,
 "nbformat_minor": 2
}
