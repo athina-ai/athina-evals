{
 "cells": [
  {
   "cell_type": "code",
   "execution_count": null,
   "metadata": {},
   "outputs": [],
   "source": [
    "import os\n",
    "from athina.llms.openai_service import OpenAiService\n",
    "from athina.evals import DoesResponseAnswerQuery, ContextContainsEnoughInformation, Faithfulness, FunctionEvaluator\n",
    "from athina.loaders import ResponseLoader\n",
    "from athina.keys import AthinaApiKey, OpenAiApiKey\n",
    "from athina.interfaces.athina import AthinaFilters\n",
    "import pandas as pd\n",
    "\n",
    "OpenAiApiKey.set_key(os.getenv('OPENAI_API_KEY'))\n",
    "# AthinaApiKey.set_key(os.getenv('ATHINA_API_KEY'))"
   ]
  },
  {
   "cell_type": "code",
   "execution_count": null,
   "metadata": {},
   "outputs": [],
   "source": [
    "# Create batch dataset from list of dict objects\n",
    "raw_data = [\n",
    "    {\n",
    "        \"response\": \"Please contact customer support for this information\",\n",
    "    },\n",
    "    {\n",
    "        \"response\": \"I cannot answer this question\",\n",
    "    },\n",
    "    {\n",
    "        \"response\": \"Sure, you can email hello@athina.ai\",\n",
    "    }\n",
    "]\n",
    "\n",
    "dataset = ResponseLoader().load_dict(raw_data)\n",
    "pd.DataFrame(dataset)\n"
   ]
  },
  {
   "cell_type": "code",
   "execution_count": null,
   "metadata": {},
   "outputs": [],
   "source": [
    "dataset = ResponseLoader().load_dict(raw_data)\n",
    "\n",
    "evaluator = FunctionEvaluator(\n",
    "    function_name=\"ContainsAny\",\n",
    "    function_arguments={ \"keywords\": [\"contact\", \"support\"] })\n",
    "\n",
    "evaluator._evaluate(response=\"Please contact customer support for this information\")"
   ]
  },
  {
   "cell_type": "code",
   "execution_count": null,
   "metadata": {},
   "outputs": [],
   "source": [
    "from athina.loaders import ResponseLoader\n",
    "from athina.evals import ContainsAny\n",
    "\n",
    "dataset = ResponseLoader().load_dict(raw_data)\n",
    "\n",
    "ContainsAny(keywords=[\"contact\", \"support\"]).run_batch(dataset)"
   ]
  }
 ],
 "metadata": {
  "kernelspec": {
   "display_name": ".venv",
   "language": "python",
   "name": "python3"
  },
  "language_info": {
   "codemirror_mode": {
    "name": "ipython",
    "version": 3
   },
   "file_extension": ".py",
   "mimetype": "text/x-python",
   "name": "python",
   "nbconvert_exporter": "python",
   "pygments_lexer": "ipython3",
   "version": "3.9.10"
  }
 },
 "nbformat": 4,
 "nbformat_minor": 2
}
